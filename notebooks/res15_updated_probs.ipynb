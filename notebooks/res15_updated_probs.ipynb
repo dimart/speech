{
 "cells": [
  {
   "cell_type": "code",
   "execution_count": 1,
   "metadata": {},
   "outputs": [],
   "source": [
    "import os\n",
    "import re\n",
    "import random\n",
    "import hashlib\n",
    "\n",
    "from enum import Enum\n",
    "from collections import ChainMap\n",
    "\n",
    "import numpy as np\n",
    "import pandas as pd\n",
    "\n",
    "from torch.autograd import Variable\n",
    "import torch\n",
    "import torch.nn as nn\n",
    "import torch.nn.functional as F\n",
    "import torch.utils.data as data\n",
    "\n",
    "from scipy.io import wavfile\n",
    "\n",
    "import librosa\n",
    "\n",
    "import matplotlib.pyplot as plt\n",
    "import IPython.display as ipd\n",
    "%matplotlib inline"
   ]
  },
  {
   "cell_type": "code",
   "execution_count": 2,
   "metadata": {},
   "outputs": [],
   "source": [
    "#########\n",
    "# Utils #\n",
    "#########\n",
    "\n",
    "class SimpleCache(dict):\n",
    "    def __init__(self, limit):\n",
    "        super().__init__()\n",
    "        self.limit = limit\n",
    "        self.n_keys = 0\n",
    "\n",
    "    def __setitem__(self, key, value):\n",
    "        if key in self.keys():\n",
    "            super().__setitem__(key, value)\n",
    "        elif self.n_keys < self.limit:\n",
    "            self.n_keys += 1\n",
    "            super().__setitem__(key, value)\n",
    "        return value\n",
    "\n",
    "class SerializableModule(nn.Module):\n",
    "    def __init__(self):\n",
    "        super().__init__()\n",
    "\n",
    "    def save(self, filename):\n",
    "        torch.save(self.state_dict(), filename)\n",
    "\n",
    "    def load(self, filename):\n",
    "        self.load_state_dict(torch.load(filename, map_location=lambda storage, loc: storage))\n",
    "\n",
    "def play_wav(wav_path):\n",
    "    sample_rate, samples = wavfile.read(wav_path)\n",
    "    return ipd.Audio(samples, rate=sample_rate)"
   ]
  },
  {
   "cell_type": "code",
   "execution_count": 3,
   "metadata": {},
   "outputs": [],
   "source": [
    "class DatasetType(Enum):\n",
    "    TRAIN = 0\n",
    "    DEV = 1\n",
    "    TEST = 2"
   ]
  },
  {
   "cell_type": "code",
   "execution_count": 4,
   "metadata": {},
   "outputs": [],
   "source": [
    "def random_bg_noise(bg_noise):\n",
    "    lst_of_bg_operations = ['linear_comb', 1, 2, 3, 4]\n",
    "    choice = random.choice(lst_of_bg_operations)\n",
    "    if choice == 'linear_comb':\n",
    "        first_coef = random.uniform(0, 1)\n",
    "        second_coef = 1-first_coef\n",
    "        return first_coef * random.choice(bg_noise)[:960000] + second_coef * random.choice(bg_noise)[:960000]\n",
    "    if choice == 1:\n",
    "        return random.choice(bg_noise)[:960000]\n",
    "    if choice == 2:\n",
    "        return random.choice(bg_noise)[:960000] + random.choice(bg_noise)[:960000]\n",
    "    if choice == 3:\n",
    "        return random.choice(bg_noise)[:960000] + random.choice(bg_noise)[:960000] + \\\n",
    "               random.choice(bg_noise)[:960000]\n",
    "    if choice == 4:\n",
    "        return random.choice(bg_noise)[:960000] + random.choice(bg_noise)[:960000] + \\\n",
    "               random.choice(bg_noise)[:960000] + random.choice(bg_noise)[:960000]\n",
    "    "
   ]
  },
  {
   "cell_type": "code",
   "execution_count": 5,
   "metadata": {},
   "outputs": [],
   "source": [
    "# useful PyTorch abstraction\n",
    "class SpeechDataset(data.Dataset):\n",
    "    def __init__(self, data, set_type, config):\n",
    "        ####\n",
    "        # data – {wave_file_path : label}\n",
    "        # set_type – DatasetType (dev, train or test)\n",
    "        # config.bg_noise_files – will be used to noise wavs during training (see preprocess func)\n",
    "        ####\n",
    "        super().__init__()\n",
    "        self.audio_files = list(data.keys())\n",
    "        self.audio_labels = list(data.values())\n",
    "        self.set_type = set_type\n",
    "        config[\"bg_noise_files\"] = list(filter(lambda x: x.endswith(\"wav\"), config.get(\"bg_noise_files\", [])))\n",
    "        self.bg_noise_audio = [librosa.core.load(file, sr=16000)[0] for file in config[\"bg_noise_files\"]]\n",
    "        self.unknown_prob = config[\"unknown_prob\"]\n",
    "        self.silence_prob = config[\"silence_prob\"]\n",
    "        self.noise_prob = config[\"noise_prob\"]\n",
    "        self.n_dct = config[\"n_dct_filters\"]\n",
    "        self.n_mels = config[\"n_mels\"]\n",
    "        self.input_length = config[\"input_length\"]\n",
    "        self.timeshift_ms = config[\"timeshift_ms\"]\n",
    "        self.filters = librosa.filters.dct(config[\"n_dct_filters\"], config[\"n_mels\"])\n",
    "        self._audio_cache = SimpleCache(config[\"cache_size\"])\n",
    "        self._file_cache = SimpleCache(config[\"cache_size\"])\n",
    "        n_unk = len(list(filter(lambda x: x == 1, self.audio_labels)))\n",
    "        self.n_silence = int(self.silence_prob * (len(self.audio_labels) - n_unk))\n",
    "    \n",
    "    # PyTorch needs this function\n",
    "    def __getitem__(self, index):\n",
    "        if index >= len(self.audio_labels):\n",
    "            return self.preprocess(None, silence=True), 0\n",
    "        return self.preprocess(self.audio_files[index]), self.audio_labels[index]\n",
    "    \n",
    "    # PyTorch needs this function\n",
    "    def __len__(self):\n",
    "        return len(self.audio_labels) + self.n_silence\n",
    "\n",
    "    # Our extra functions go below:\n",
    "    def _timeshift_audio(self, data):\n",
    "        shift = (16000 * self.timeshift_ms) // 1000\n",
    "        shift = random.randint(-shift, shift)\n",
    "        a = -min(0, shift)\n",
    "        b = max(0, shift)\n",
    "        data = np.pad(data, (a, b), \"constant\")\n",
    "        return data[:len(data) - a] if a else data[b:]\n",
    "    \n",
    "    def _preprocess_audio(self, data, n_mels, dct_filters):\n",
    "        data = librosa.feature.melspectrogram(\n",
    "            data, \n",
    "            sr=16000, \n",
    "            n_mels=n_mels, \n",
    "            hop_length=160, \n",
    "            n_fft=480, \n",
    "            fmin=20, \n",
    "            fmax=4000\n",
    "        )\n",
    "        data[data > 0] = np.log(data[data > 0])\n",
    "        data = [np.matmul(dct_filters, x) for x in np.split(data, data.shape[1], axis=1)]\n",
    "        data = np.array(data, order=\"F\").squeeze(2).astype(np.float32)\n",
    "        return data\n",
    "\n",
    "    def preprocess(self, example, silence=False):\n",
    "        if silence:\n",
    "            example = \"__silence__\"\n",
    "        if random.random() < 0.7:\n",
    "            try:\n",
    "                return self._audio_cache[example]\n",
    "            except KeyError:\n",
    "                pass\n",
    "        \n",
    "        in_len = self.input_length\n",
    "        if self.bg_noise_audio:\n",
    "            # take a random samples chunk of a random noise audio\n",
    "            bg_noise  =  random_bg_noise(self.bg_noise_audio)\n",
    "            a = random.randint(0, len(bg_noise) - in_len - 1)\n",
    "            bg_noise = bg_noise[a:a + in_len]\n",
    "        else:\n",
    "            bg_noise = np.zeros(in_len)\n",
    "        \n",
    "        use_clean = (self.set_type != DatasetType.TRAIN)\n",
    "        if use_clean:\n",
    "            bg_noise = np.zeros(in_len)\n",
    "        if silence:\n",
    "            data = np.zeros(in_len, dtype=np.float32)\n",
    "        else:\n",
    "            file_data = self._file_cache.get(example)\n",
    "            data = librosa.core.load(example, sr=16000)[0] if file_data is None else file_data\n",
    "            self._file_cache[example] = data\n",
    "        data = np.pad(data, (0, max(0, in_len - len(data))), \"constant\")\n",
    "        if not use_clean:\n",
    "            data = self._timeshift_audio(data)\n",
    "\n",
    "        if random.random() < self.noise_prob or silence:\n",
    "            a = random.random() * 0.1\n",
    "            data = np.clip(a * bg_noise + data, -1, 1)\n",
    "        data = torch.from_numpy(self._preprocess_audio(data, self.n_mels, self.filters))\n",
    "        self._audio_cache[example] = data\n",
    "        return data"
   ]
  },
  {
   "cell_type": "markdown",
   "metadata": {},
   "source": [
    "### Define config"
   ]
  },
  {
   "cell_type": "code",
   "execution_count": 6,
   "metadata": {},
   "outputs": [],
   "source": [
    "config = dict(\n",
    "    data_folder=\"./../raw_data/train/audio\",\n",
    "    wanted_words=\"yes no up down left right on off stop go\".split(),\n",
    "    \n",
    "    seed=0,\n",
    "    \n",
    "    output_file=\"./../models/model_updated_added_noise_mix_extended_40ep.pt\", \n",
    "    gpu_no=0,\n",
    "    cache_size=32768,\n",
    "    \n",
    "    n_epochs=40,\n",
    "    momentum=0.9, \n",
    "    weight_decay=0.00001,\n",
    "    lr=[0.1, 0.01, 0.001], \n",
    "    schedule=[3000, 6000], \n",
    "    batch_size=64, \n",
    "    dev_every=1,\n",
    "    use_nesterov=False,\n",
    "    \n",
    "    group_speakers_by_id=True,\n",
    "    \n",
    "    silence_prob=0.25,\n",
    "    noise_prob=0.85,\n",
    "    unknown_prob=0.25, # percentage of unknown waves in the train/dev/test dataset\n",
    "    \n",
    "    input_length=16000,\n",
    "    timeshift_ms=100,\n",
    "    # Below are two parameters of Discrete Cosine Transform (http://en.wikipedia.org/wiki/Discrete_cosine_transform)\n",
    "    n_dct_filters=40, \n",
    "    n_mels=40,\n",
    "    \n",
    "    train_pct=80,\n",
    "    dev_pct=10,\n",
    "    test_pct=10\n",
    ")"
   ]
  },
  {
   "cell_type": "code",
   "execution_count": 7,
   "metadata": {},
   "outputs": [],
   "source": [
    "seed = config[\"seed\"]\n",
    "torch.manual_seed(seed)\n",
    "np.random.seed(seed)\n",
    "torch.cuda.manual_seed(seed)\n",
    "random.seed(seed)"
   ]
  },
  {
   "cell_type": "code",
   "execution_count": 8,
   "metadata": {},
   "outputs": [],
   "source": [
    "folder = config[\"data_folder\"]\n",
    "wanted_words = config[\"wanted_words\"]\n",
    "unknown_prob = config[\"unknown_prob\"]\n",
    "train_pct = config[\"train_pct\"]\n",
    "dev_pct = config[\"dev_pct\"]\n",
    "test_pct = config[\"test_pct\"]\n",
    "\n",
    "LABEL_UNKNOWN = \"__unknown__\"\n",
    "LABEL_SILENCE = \"__silence__\"\n",
    "\n",
    "words = {word: i + 2 for i, word in enumerate(wanted_words)}\n",
    "words.update({LABEL_SILENCE:0, LABEL_UNKNOWN:1})\n",
    "sets = [{}, {}, {}]  # [train, dev, test] => {wav_name: label}\n",
    "unknowns = [0] * 3 # number of wavs for each dataset to take from collected unknown waves according to unknown_prob\n",
    "bg_noise_files = []\n",
    "unknown_files = []"
   ]
  },
  {
   "cell_type": "code",
   "execution_count": 9,
   "metadata": {},
   "outputs": [
    {
     "data": {
      "text/plain": [
       "{'__silence__': 0,\n",
       " '__unknown__': 1,\n",
       " 'down': 5,\n",
       " 'go': 11,\n",
       " 'left': 6,\n",
       " 'no': 3,\n",
       " 'off': 9,\n",
       " 'on': 8,\n",
       " 'right': 7,\n",
       " 'stop': 10,\n",
       " 'up': 4,\n",
       " 'yes': 2}"
      ]
     },
     "execution_count": 9,
     "metadata": {},
     "output_type": "execute_result"
    }
   ],
   "source": [
    "words"
   ]
  },
  {
   "cell_type": "markdown",
   "metadata": {},
   "source": [
    "### prep datasets"
   ]
  },
  {
   "cell_type": "code",
   "execution_count": 10,
   "metadata": {},
   "outputs": [
    {
     "name": "stdout",
     "output_type": "stream",
     "text": [
      "Process two\n",
      "Process five\n",
      "Process cat\n",
      "Process four\n",
      "Process on\n",
      "Process go\n",
      "Process no\n",
      "Process down\n",
      "Process sheila\n",
      "Process bed\n",
      "Process zero\n",
      "Process one\n",
      "Process bird\n",
      "Process three\n",
      "Process eight\n",
      "Process house\n",
      "Process off\n",
      "Process nine\n",
      "Process left\n",
      "Process stop\n",
      "Process _background_noise_\n",
      "Process dog\n",
      "Process happy\n",
      "Process up\n",
      "Process tree\n",
      "Process right\n",
      "Process six\n",
      "Process marvin\n",
      "Process seven\n",
      "Process wow\n",
      "Process yes\n",
      "Speech dataset created\n"
     ]
    }
   ],
   "source": [
    "max_no_wavs = 2**27 - 1\n",
    "\n",
    "for folder_name in os.listdir(folder):\n",
    "    print(\"Process \" + folder_name)\n",
    "    path_name = os.path.join(folder, folder_name)\n",
    "    is_bg_noise = False\n",
    "    \n",
    "    # Skip files\n",
    "    if os.path.isfile(path_name):\n",
    "        continue\n",
    "    \n",
    "    # Assign the label based on the current folder name\n",
    "    if folder_name in words:\n",
    "        label = words[folder_name]\n",
    "    elif folder_name == \"_background_noise_\":\n",
    "        is_bg_noise = True\n",
    "    else:\n",
    "        label = words[LABEL_UNKNOWN]\n",
    "\n",
    "    for filename in os.listdir(path_name):\n",
    "        wav_name = os.path.join(path_name, filename)\n",
    "        \n",
    "        # Just record background noises files and continue\n",
    "        if is_bg_noise and os.path.isfile(wav_name):\n",
    "            bg_noise_files.append(wav_name)\n",
    "            continue\n",
    "        # collect wav names when label is unknown\n",
    "        elif label == words[LABEL_UNKNOWN]:\n",
    "            unknown_files.append(wav_name)\n",
    "            continue\n",
    "        \n",
    "        # Fill sets with {wave_name : label}\n",
    "        if config[\"group_speakers_by_id\"]:\n",
    "            hashname = re.sub(r\"_nohash_.*$\", \"\", filename)\n",
    "            bucket = int(hashlib.sha1(hashname.encode()).hexdigest(), 16)\n",
    "            bucket = (bucket % (max_no_wavs + 1)) * (100. / max_no_wavs)\n",
    "            if bucket < dev_pct:\n",
    "                tag = DatasetType.DEV\n",
    "            elif bucket < test_pct + dev_pct:\n",
    "                tag = DatasetType.TEST\n",
    "            else:\n",
    "                tag = DatasetType.TRAIN\n",
    "            sets[tag.value][wav_name] = label\n",
    "        else:\n",
    "            raise NotImplementedError(\"Speakers should be grouped for now :/\")\n",
    "            \n",
    "# Mix in unknown wavs in datasets\n",
    "# 1: compute how many files should be mixed in each dataset according to unknown_prob\n",
    "for tag in range(len(sets)):\n",
    "    unknowns[tag] = int(unknown_prob * len(sets[tag]))\n",
    "\n",
    "# 2: shuffle unknown files0\n",
    "random.shuffle(unknown_files)\n",
    "\n",
    "# 3: update datasets with unknown_files[a:b], where a:b is the interval\n",
    "a = 0\n",
    "for tag, dataset in enumerate(sets):\n",
    "    b = a + unknowns[tag]\n",
    "    unk_dict = {u: words[LABEL_UNKNOWN] for u in unknown_files[a:b]}\n",
    "    dataset.update(unk_dict)\n",
    "    a = b\n",
    "\n",
    "train_cfg = ChainMap(dict(bg_noise_files=bg_noise_files), config)\n",
    "test_cfg = ChainMap(dict(noise_prob=0), config)\n",
    "datasets = (\n",
    "    SpeechDataset(sets[0], DatasetType.TRAIN, train_cfg), \n",
    "    SpeechDataset(sets[1], DatasetType.DEV, test_cfg),\n",
    "    SpeechDataset(sets[2], DatasetType.TEST, test_cfg)\n",
    ")\n",
    "\n",
    "print(\"Speech dataset created\")"
   ]
  },
  {
   "cell_type": "code",
   "execution_count": 11,
   "metadata": {},
   "outputs": [
    {
     "data": {
      "text/plain": [
       "{'__silence__': 0,\n",
       " '__unknown__': 1,\n",
       " 'down': 5,\n",
       " 'go': 11,\n",
       " 'left': 6,\n",
       " 'no': 3,\n",
       " 'off': 9,\n",
       " 'on': 8,\n",
       " 'right': 7,\n",
       " 'stop': 10,\n",
       " 'up': 4,\n",
       " 'yes': 2}"
      ]
     },
     "execution_count": 11,
     "metadata": {},
     "output_type": "execute_result"
    }
   ],
   "source": [
    "words"
   ]
  },
  {
   "cell_type": "code",
   "execution_count": 12,
   "metadata": {},
   "outputs": [
    {
     "data": {
      "text/plain": [
       "(array([ 641.,  256.,  252.,  272.,  253.,  267.,  259.,  246.,  262.,\n",
       "         249.,  251.]),\n",
       " array([  1.        ,   1.90909091,   2.81818182,   3.72727273,\n",
       "          4.63636364,   5.54545455,   6.45454545,   7.36363636,\n",
       "          8.27272727,   9.18181818,  10.09090909,  11.        ]),\n",
       " <a list of 11 Patch objects>)"
      ]
     },
     "execution_count": 12,
     "metadata": {},
     "output_type": "execute_result"
    },
    {
     "data": {
      "image/png": "[encoded data removed]",
      "text/plain": [
       "<matplotlib.figure.Figure at 0x7fbe7174ca90>"
      ]
     },
     "metadata": {},
     "output_type": "display_data"
    }
   ],
   "source": [
    "plt.hist(np.array(datasets[0].audio_labels), bins=11, color='r')\n",
    "plt.hist(np.array(datasets[1].audio_labels), bins=11, color='g')\n",
    "plt.hist(np.array(datasets[2].audio_labels), bins=11, color='b')"
   ]
  },
  {
   "cell_type": "code",
   "execution_count": 13,
   "metadata": {},
   "outputs": [],
   "source": [
    "def class_counts(dataset):\n",
    "    unique_elements, counts_elements = np.unique(datasets[0].audio_labels, return_counts=True)\n",
    "    return list(zip(unique_elements, counts_elements))"
   ]
  },
  {
   "cell_type": "code",
   "execution_count": 14,
   "metadata": {},
   "outputs": [
    {
     "data": {
      "text/plain": [
       "[(1, 4634),\n",
       " (2, 1860),\n",
       " (3, 1853),\n",
       " (4, 1843),\n",
       " (5, 1842),\n",
       " (6, 1839),\n",
       " (7, 1852),\n",
       " (8, 1864),\n",
       " (9, 1839),\n",
       " (10, 1885),\n",
       " (11, 1861)]"
      ]
     },
     "execution_count": 14,
     "metadata": {},
     "output_type": "execute_result"
    }
   ],
   "source": [
    "class_counts(datasets[0])"
   ]
  },
  {
   "cell_type": "code",
   "execution_count": 15,
   "metadata": {},
   "outputs": [
    {
     "data": {
      "text/plain": [
       "[(1, 4634),\n",
       " (2, 1860),\n",
       " (3, 1853),\n",
       " (4, 1843),\n",
       " (5, 1842),\n",
       " (6, 1839),\n",
       " (7, 1852),\n",
       " (8, 1864),\n",
       " (9, 1839),\n",
       " (10, 1885),\n",
       " (11, 1861)]"
      ]
     },
     "execution_count": 15,
     "metadata": {},
     "output_type": "execute_result"
    }
   ],
   "source": [
    "class_counts(datasets[1])"
   ]
  },
  {
   "cell_type": "code",
   "execution_count": 16,
   "metadata": {},
   "outputs": [
    {
     "data": {
      "text/plain": [
       "[(1, 4634),\n",
       " (2, 1860),\n",
       " (3, 1853),\n",
       " (4, 1843),\n",
       " (5, 1842),\n",
       " (6, 1839),\n",
       " (7, 1852),\n",
       " (8, 1864),\n",
       " (9, 1839),\n",
       " (10, 1885),\n",
       " (11, 1861)]"
      ]
     },
     "execution_count": 16,
     "metadata": {},
     "output_type": "execute_result"
    }
   ],
   "source": [
    "class_counts(datasets[2])"
   ]
  },
  {
   "cell_type": "code",
   "execution_count": 17,
   "metadata": {},
   "outputs": [
    {
     "name": "stdout",
     "output_type": "stream",
     "text": [
      "Number of silence files in train, dev, test: 4634, 644, 641\n"
     ]
    }
   ],
   "source": [
    "print('Number of silence files in train, dev, test: {0}, {1}, {2}'.format(datasets[0].n_silence,\n",
    "                                                                          datasets[1].n_silence,\n",
    "                                                                          datasets[2].n_silence))"
   ]
  },
  {
   "cell_type": "code",
   "execution_count": 18,
   "metadata": {},
   "outputs": [],
   "source": [
    "\n",
    "train_set, dev_set, test_set = datasets"
   ]
  },
  {
   "cell_type": "code",
   "execution_count": 19,
   "metadata": {},
   "outputs": [
    {
     "name": "stdout",
     "output_type": "stream",
     "text": [
      "988891\n",
      "978488\n",
      "960000\n",
      "980062\n",
      "1522930\n"
     ]
    }
   ],
   "source": [
    "for d in range(0,5):\n",
    "    print(len(datasets[0].bg_noise_audio[d]))"
   ]
  },
  {
   "cell_type": "markdown",
   "metadata": {},
   "source": [
    "## Training"
   ]
  },
  {
   "cell_type": "code",
   "execution_count": 20,
   "metadata": {},
   "outputs": [],
   "source": [
    "# https://arxiv.org/pdf/1710.10361.pdf\n",
    "class SpeechResModel(SerializableModule):\n",
    "    def __init__(self, config):\n",
    "        super().__init__()\n",
    "        n_labels = config[\"n_labels\"]\n",
    "        n_maps = config[\"n_feature_maps\"]\n",
    "        self.conv0 = nn.Conv2d(1, n_maps, (3, 3), padding=(1, 1), bias=False)\n",
    "        if \"res_pool\" in config:\n",
    "            self.pool = nn.AvgPool2d(config[\"res_pool\"])\n",
    "\n",
    "        self.n_layers = n_layers = config[\"n_layers\"]\n",
    "        dilation = config[\"use_dilation\"]\n",
    "        if dilation:\n",
    "            self.convs = [nn.Conv2d(n_maps, n_maps, (3, 3), padding=int(2**(i // 3)), dilation=int(2**(i // 3)), \n",
    "                bias=False) for i in range(n_layers)]\n",
    "        else:\n",
    "            self.convs = [nn.Conv2d(n_maps, n_maps, (3, 3), padding=1, dilation=1, \n",
    "                bias=False) for _ in range(n_layers)]\n",
    "        for i, conv in enumerate(self.convs):\n",
    "            self.add_module(\"bn{}\".format(i + 1), nn.BatchNorm2d(n_maps, affine=False))\n",
    "            self.add_module(\"conv{}\".format(i + 1), conv)\n",
    "        self.output = nn.Linear(n_maps, n_labels)\n",
    "\n",
    "    def forward(self, x):\n",
    "        x = x.unsqueeze(1)\n",
    "        for i in range(self.n_layers + 1):\n",
    "            y = F.relu(getattr(self, \"conv{}\".format(i))(x))\n",
    "            if i == 0:\n",
    "                if hasattr(self, \"pool\"):\n",
    "                    y = self.pool(y)\n",
    "                old_x = y\n",
    "            if i > 0 and i % 2 == 0:\n",
    "                x = y + old_x\n",
    "                old_x = x\n",
    "            else:\n",
    "                x = y\n",
    "            if i > 0:\n",
    "                x = getattr(self, \"bn{}\".format(i))(x)\n",
    "        x = x.view(x.size(0), x.size(1), -1) # shape: (batch, feats, o3)\n",
    "        x = torch.mean(x, 2)\n",
    "        return self.output(x)"
   ]
  },
  {
   "cell_type": "code",
   "execution_count": 21,
   "metadata": {},
   "outputs": [
    {
     "data": {
      "text/plain": [
       "SpeechResModel(\n",
       "  (conv0): Conv2d (1, 45, kernel_size=(3, 3), stride=(1, 1), padding=(1, 1), bias=False)\n",
       "  (bn1): BatchNorm2d(45, eps=1e-05, momentum=0.1, affine=False)\n",
       "  (conv1): Conv2d (45, 45, kernel_size=(3, 3), stride=(1, 1), padding=(1, 1), bias=False)\n",
       "  (bn2): BatchNorm2d(45, eps=1e-05, momentum=0.1, affine=False)\n",
       "  (conv2): Conv2d (45, 45, kernel_size=(3, 3), stride=(1, 1), padding=(1, 1), bias=False)\n",
       "  (bn3): BatchNorm2d(45, eps=1e-05, momentum=0.1, affine=False)\n",
       "  (conv3): Conv2d (45, 45, kernel_size=(3, 3), stride=(1, 1), padding=(1, 1), bias=False)\n",
       "  (bn4): BatchNorm2d(45, eps=1e-05, momentum=0.1, affine=False)\n",
       "  (conv4): Conv2d (45, 45, kernel_size=(3, 3), stride=(1, 1), padding=(2, 2), dilation=(2, 2), bias=False)\n",
       "  (bn5): BatchNorm2d(45, eps=1e-05, momentum=0.1, affine=False)\n",
       "  (conv5): Conv2d (45, 45, kernel_size=(3, 3), stride=(1, 1), padding=(2, 2), dilation=(2, 2), bias=False)\n",
       "  (bn6): BatchNorm2d(45, eps=1e-05, momentum=0.1, affine=False)\n",
       "  (conv6): Conv2d (45, 45, kernel_size=(3, 3), stride=(1, 1), padding=(2, 2), dilation=(2, 2), bias=False)\n",
       "  (bn7): BatchNorm2d(45, eps=1e-05, momentum=0.1, affine=False)\n",
       "  (conv7): Conv2d (45, 45, kernel_size=(3, 3), stride=(1, 1), padding=(4, 4), dilation=(4, 4), bias=False)\n",
       "  (bn8): BatchNorm2d(45, eps=1e-05, momentum=0.1, affine=False)\n",
       "  (conv8): Conv2d (45, 45, kernel_size=(3, 3), stride=(1, 1), padding=(4, 4), dilation=(4, 4), bias=False)\n",
       "  (bn9): BatchNorm2d(45, eps=1e-05, momentum=0.1, affine=False)\n",
       "  (conv9): Conv2d (45, 45, kernel_size=(3, 3), stride=(1, 1), padding=(4, 4), dilation=(4, 4), bias=False)\n",
       "  (bn10): BatchNorm2d(45, eps=1e-05, momentum=0.1, affine=False)\n",
       "  (conv10): Conv2d (45, 45, kernel_size=(3, 3), stride=(1, 1), padding=(8, 8), dilation=(8, 8), bias=False)\n",
       "  (bn11): BatchNorm2d(45, eps=1e-05, momentum=0.1, affine=False)\n",
       "  (conv11): Conv2d (45, 45, kernel_size=(3, 3), stride=(1, 1), padding=(8, 8), dilation=(8, 8), bias=False)\n",
       "  (bn12): BatchNorm2d(45, eps=1e-05, momentum=0.1, affine=False)\n",
       "  (conv12): Conv2d (45, 45, kernel_size=(3, 3), stride=(1, 1), padding=(8, 8), dilation=(8, 8), bias=False)\n",
       "  (bn13): BatchNorm2d(45, eps=1e-05, momentum=0.1, affine=False)\n",
       "  (conv13): Conv2d (45, 45, kernel_size=(3, 3), stride=(1, 1), padding=(16, 16), dilation=(16, 16), bias=False)\n",
       "  (output): Linear(in_features=45, out_features=12)\n",
       ")"
      ]
     },
     "execution_count": 21,
     "metadata": {},
     "output_type": "execute_result"
    }
   ],
   "source": [
    "res15 = dict(n_labels=12, use_dilation=True, n_layers=13, n_feature_maps=45)\n",
    "model = SpeechResModel(res15)\n",
    "\n",
    "#torch.cuda.set_device(config[\"gpu_no\"])\n",
    "model.cuda()"
   ]
  },
  {
   "cell_type": "code",
   "execution_count": 23,
   "metadata": {},
   "outputs": [],
   "source": [
    "def print_eval(name, scores, labels, loss, end=\"\\n\"):\n",
    "    batch_size = labels.size(0)\n",
    "    accuracy = (torch.max(scores, 1)[1].view(batch_size).data == labels.data).sum() / batch_size\n",
    "    loss = loss.cpu().data.numpy()[0]\n",
    "    print(\"{} accuracy: {:>5}, loss: {:<25}\".format(name, accuracy, loss), end=end)\n",
    "    return accuracy\n",
    "\n",
    "def evaluate(config, model, test_loader):\n",
    "    #torch.cuda.set_device(config[\"gpu_no\"])\n",
    "    model.eval()\n",
    "    criterion = nn.CrossEntropyLoss()\n",
    "    results = []\n",
    "    total = 0\n",
    "    for model_in, labels in test_loader:\n",
    "        model_in = Variable(model_in, requires_grad=False)\n",
    "        \n",
    "        model_in = model_in.cuda()\n",
    "        labels = labels.cuda()\n",
    "        \n",
    "        scores = model(model_in)\n",
    "        labels = Variable(labels, requires_grad=False)\n",
    "        loss = criterion(scores, labels)\n",
    "        results.append(print_eval(\"test\", scores, labels, loss) * model_in.size(0))\n",
    "        total += model_in.size(0)\n",
    "    print(\"final test accuracy: {}\".format(sum(results) / total))"
   ]
  },
  {
   "cell_type": "markdown",
   "metadata": {},
   "source": [
    "### Make submission"
   ]
  },
  {
   "cell_type": "code",
   "execution_count": 24,
   "metadata": {},
   "outputs": [],
   "source": [
    "label2word = {v: k.strip(\"_\") for k, v in words.items()}"
   ]
  },
  {
   "cell_type": "code",
   "execution_count": 25,
   "metadata": {},
   "outputs": [
    {
     "data": {
      "text/plain": [
       "{0: 'silence',\n",
       " 1: 'unknown',\n",
       " 2: 'yes',\n",
       " 3: 'no',\n",
       " 4: 'up',\n",
       " 5: 'down',\n",
       " 6: 'left',\n",
       " 7: 'right',\n",
       " 8: 'on',\n",
       " 9: 'off',\n",
       " 10: 'stop',\n",
       " 11: 'go'}"
      ]
     },
     "execution_count": 25,
     "metadata": {},
     "output_type": "execute_result"
    }
   ],
   "source": [
    "label2word"
   ]
  },
  {
   "cell_type": "code",
   "execution_count": 26,
   "metadata": {},
   "outputs": [],
   "source": [
    "model.load('./../models/model_updated_added_noise_mix.pt')"
   ]
  },
  {
   "cell_type": "code",
   "execution_count": 27,
   "metadata": {},
   "outputs": [],
   "source": [
    "train_loader = data.DataLoader(train_set, batch_size=config[\"batch_size\"], shuffle=True, drop_last=True)\n",
    "dev_loader = data.DataLoader(dev_set, batch_size=min(len(dev_set), 16), shuffle=True)\n",
    "test_loader = data.DataLoader(test_set, batch_size=min(len(test_set), 16), shuffle=True)"
   ]
  },
  {
   "cell_type": "code",
   "execution_count": 28,
   "metadata": {},
   "outputs": [],
   "source": [
    "eval_folder = \"./../raw_data/test/audio/\"\n",
    "eval_wavs = {\n",
    "    os.path.join(eval_folder, file_path): os.path.join(eval_folder, file_path) # TODO: this is hack, be careful\n",
    "        for file_path in os.listdir(\"./../raw_data/test/audio/\")\n",
    "            if file_path.endswith(\".wav\")\n",
    "}"
   ]
  },
  {
   "cell_type": "code",
   "execution_count": 29,
   "metadata": {},
   "outputs": [
    {
     "data": {
      "text/plain": [
       "158538"
      ]
     },
     "execution_count": 29,
     "metadata": {},
     "output_type": "execute_result"
    }
   ],
   "source": [
    "len(eval_wavs)"
   ]
  },
  {
   "cell_type": "code",
   "execution_count": 30,
   "metadata": {},
   "outputs": [],
   "source": [
    "eval_set = SpeechDataset(eval_wavs, DatasetType.TEST, test_cfg)\n",
    "eval_loader = data.DataLoader(eval_set, batch_size=16)"
   ]
  },
  {
   "cell_type": "code",
   "execution_count": 31,
   "metadata": {},
   "outputs": [
    {
     "ename": "KeyboardInterrupt",
     "evalue": "",
     "output_type": "error",
     "traceback": [
      "\u001b[0;31m---------------------------------------------------------------------------\u001b[0m",
      "\u001b[0;31mKeyboardInterrupt\u001b[0m                         Traceback (most recent call last)",
      "\u001b[0;32m<ipython-input-31-35677a9b55d1>\u001b[0m in \u001b[0;36m<module>\u001b[0;34m()\u001b[0m\n\u001b[1;32m      5\u001b[0m     \u001b[0;32mfor\u001b[0m \u001b[0mmodel_in\u001b[0m\u001b[0;34m,\u001b[0m \u001b[0mlabels\u001b[0m \u001b[0;32min\u001b[0m \u001b[0mtest_loader\u001b[0m\u001b[0;34m:\u001b[0m\u001b[0;34m\u001b[0m\u001b[0m\n\u001b[1;32m      6\u001b[0m         \u001b[0mscores\u001b[0m \u001b[0;34m=\u001b[0m \u001b[0mmodel\u001b[0m\u001b[0;34m(\u001b[0m\u001b[0mVariable\u001b[0m\u001b[0;34m(\u001b[0m\u001b[0mmodel_in\u001b[0m\u001b[0;34m,\u001b[0m \u001b[0mrequires_grad\u001b[0m\u001b[0;34m=\u001b[0m\u001b[0;32mFalse\u001b[0m\u001b[0;34m)\u001b[0m\u001b[0;34m.\u001b[0m\u001b[0mcuda\u001b[0m\u001b[0;34m(\u001b[0m\u001b[0;34m)\u001b[0m\u001b[0;34m)\u001b[0m\u001b[0;34m\u001b[0m\u001b[0m\n\u001b[0;32m----> 7\u001b[0;31m         \u001b[0mlabels\u001b[0m \u001b[0;34m=\u001b[0m \u001b[0mlabels\u001b[0m\u001b[0;34m.\u001b[0m\u001b[0mcuda\u001b[0m\u001b[0;34m(\u001b[0m\u001b[0;34m)\u001b[0m\u001b[0;34m\u001b[0m\u001b[0m\n\u001b[0m\u001b[1;32m      8\u001b[0m         \u001b[0mlabels\u001b[0m \u001b[0;34m=\u001b[0m \u001b[0mVariable\u001b[0m\u001b[0;34m(\u001b[0m\u001b[0mlabels\u001b[0m\u001b[0;34m,\u001b[0m \u001b[0mrequires_grad\u001b[0m\u001b[0;34m=\u001b[0m\u001b[0;32mFalse\u001b[0m\u001b[0;34m)\u001b[0m\u001b[0;34m\u001b[0m\u001b[0m\n\u001b[1;32m      9\u001b[0m         \u001b[0;32mfor\u001b[0m \u001b[0mwav\u001b[0m \u001b[0;32min\u001b[0m \u001b[0mrange\u001b[0m\u001b[0;34m(\u001b[0m\u001b[0mscores\u001b[0m\u001b[0;34m.\u001b[0m\u001b[0mshape\u001b[0m\u001b[0;34m[\u001b[0m\u001b[0;36m0\u001b[0m\u001b[0;34m]\u001b[0m\u001b[0;34m)\u001b[0m\u001b[0;34m:\u001b[0m\u001b[0;34m\u001b[0m\u001b[0m\n",
      "\u001b[0;32m~/tensorflow/lib/python3.5/site-packages/torch/_utils.py\u001b[0m in \u001b[0;36m_cuda\u001b[0;34m(self, device, async)\u001b[0m\n\u001b[1;32m     67\u001b[0m         \u001b[0;32melse\u001b[0m\u001b[0;34m:\u001b[0m\u001b[0;34m\u001b[0m\u001b[0m\n\u001b[1;32m     68\u001b[0m             \u001b[0mnew_type\u001b[0m \u001b[0;34m=\u001b[0m \u001b[0mgetattr\u001b[0m\u001b[0;34m(\u001b[0m\u001b[0mtorch\u001b[0m\u001b[0;34m.\u001b[0m\u001b[0mcuda\u001b[0m\u001b[0;34m,\u001b[0m \u001b[0mself\u001b[0m\u001b[0;34m.\u001b[0m\u001b[0m__class__\u001b[0m\u001b[0;34m.\u001b[0m\u001b[0m__name__\u001b[0m\u001b[0;34m)\u001b[0m\u001b[0;34m\u001b[0m\u001b[0m\n\u001b[0;32m---> 69\u001b[0;31m             \u001b[0;32mreturn\u001b[0m \u001b[0mnew_type\u001b[0m\u001b[0;34m(\u001b[0m\u001b[0mself\u001b[0m\u001b[0;34m.\u001b[0m\u001b[0msize\u001b[0m\u001b[0;34m(\u001b[0m\u001b[0;34m)\u001b[0m\u001b[0;34m)\u001b[0m\u001b[0;34m.\u001b[0m\u001b[0mcopy_\u001b[0m\u001b[0;34m(\u001b[0m\u001b[0mself\u001b[0m\u001b[0;34m,\u001b[0m \u001b[0masync\u001b[0m\u001b[0;34m)\u001b[0m\u001b[0;34m\u001b[0m\u001b[0m\n\u001b[0m\u001b[1;32m     70\u001b[0m \u001b[0;34m\u001b[0m\u001b[0m\n\u001b[1;32m     71\u001b[0m \u001b[0;34m\u001b[0m\u001b[0m\n",
      "\u001b[0;31mKeyboardInterrupt\u001b[0m: "
     ]
    }
   ],
   "source": [
    "with open(\"../check.txt\", \"w\") as sub:\n",
    "    i=0\n",
    "    probs_lst = ['prob_' + str(i) for i in range(0, 12)]\n",
    "    sub.write(\"fname,\" + ','.join(str(prob) for prob in probs_lst) + \",label\" + \"\\n\")\n",
    "    for model_in, labels in test_loader:\n",
    "        scores = model(Variable(model_in, requires_grad=False).cuda())\n",
    "        labels = labels.cuda()\n",
    "        labels = Variable(labels, requires_grad=False)\n",
    "        for wav in range(scores.shape[0]):\n",
    "            current_wav = test_loader.dataset.audio_files[i+wav].rsplit(\"/\")[-1]\n",
    "            wav_probs = ','.join(str(float(score)) for score in scores[wav])\n",
    "            to_fill_row = current_wav + ',' + wav_probs + ',' + str(int(labels[wav])) + \"\\n\"\n",
    "            sub.write(\n",
    "                to_fill_row\n",
    "            )\n",
    "        i+=16"
   ]
  },
  {
   "cell_type": "code",
   "execution_count": 32,
   "metadata": {},
   "outputs": [
    {
     "ename": "KeyboardInterrupt",
     "evalue": "",
     "output_type": "error",
     "traceback": [
      "\u001b[0;31m---------------------------------------------------------------------------\u001b[0m",
      "\u001b[0;31mKeyboardInterrupt\u001b[0m                         Traceback (most recent call last)",
      "\u001b[0;32m<ipython-input-32-6ba52dfe2ab4>\u001b[0m in \u001b[0;36m<module>\u001b[0;34m()\u001b[0m\n\u001b[1;32m      3\u001b[0m     \u001b[0msub\u001b[0m\u001b[0;34m.\u001b[0m\u001b[0mwrite\u001b[0m\u001b[0;34m(\u001b[0m\u001b[0;34m\"fname,\"\u001b[0m \u001b[0;34m+\u001b[0m \u001b[0;34m','\u001b[0m\u001b[0;34m.\u001b[0m\u001b[0mjoin\u001b[0m\u001b[0;34m(\u001b[0m\u001b[0mstr\u001b[0m\u001b[0;34m(\u001b[0m\u001b[0mprob\u001b[0m\u001b[0;34m)\u001b[0m \u001b[0;32mfor\u001b[0m \u001b[0mprob\u001b[0m \u001b[0;32min\u001b[0m \u001b[0mprobs_lst\u001b[0m\u001b[0;34m)\u001b[0m \u001b[0;34m+\u001b[0m \u001b[0;34m\"\\n\"\u001b[0m\u001b[0;34m)\u001b[0m\u001b[0;34m\u001b[0m\u001b[0m\n\u001b[1;32m      4\u001b[0m     \u001b[0;32mfor\u001b[0m \u001b[0mmodel_in\u001b[0m\u001b[0;34m,\u001b[0m \u001b[0mwav_paths\u001b[0m \u001b[0;32min\u001b[0m \u001b[0meval_loader\u001b[0m\u001b[0;34m:\u001b[0m\u001b[0;34m\u001b[0m\u001b[0m\n\u001b[0;32m----> 5\u001b[0;31m         \u001b[0mscores\u001b[0m \u001b[0;34m=\u001b[0m \u001b[0mmodel\u001b[0m\u001b[0;34m(\u001b[0m\u001b[0mVariable\u001b[0m\u001b[0;34m(\u001b[0m\u001b[0mmodel_in\u001b[0m\u001b[0;34m,\u001b[0m \u001b[0mrequires_grad\u001b[0m\u001b[0;34m=\u001b[0m\u001b[0;32mFalse\u001b[0m\u001b[0;34m)\u001b[0m\u001b[0;34m.\u001b[0m\u001b[0mcuda\u001b[0m\u001b[0;34m(\u001b[0m\u001b[0;34m)\u001b[0m\u001b[0;34m)\u001b[0m\u001b[0;34m\u001b[0m\u001b[0m\n\u001b[0m\u001b[1;32m      6\u001b[0m         \u001b[0;32mfor\u001b[0m \u001b[0mwav\u001b[0m \u001b[0;32min\u001b[0m \u001b[0mrange\u001b[0m\u001b[0;34m(\u001b[0m\u001b[0mscores\u001b[0m\u001b[0;34m.\u001b[0m\u001b[0mshape\u001b[0m\u001b[0;34m[\u001b[0m\u001b[0;36m0\u001b[0m\u001b[0;34m]\u001b[0m\u001b[0;34m)\u001b[0m\u001b[0;34m:\u001b[0m\u001b[0;34m\u001b[0m\u001b[0m\n\u001b[1;32m      7\u001b[0m             \u001b[0mcurrent_wav\u001b[0m \u001b[0;34m=\u001b[0m \u001b[0mwav_paths\u001b[0m\u001b[0;34m[\u001b[0m\u001b[0mwav\u001b[0m\u001b[0;34m]\u001b[0m\u001b[0;34m.\u001b[0m\u001b[0mrsplit\u001b[0m\u001b[0;34m(\u001b[0m\u001b[0;34m\"/\"\u001b[0m\u001b[0;34m)\u001b[0m\u001b[0;34m[\u001b[0m\u001b[0;34m-\u001b[0m\u001b[0;36m1\u001b[0m\u001b[0;34m]\u001b[0m\u001b[0;34m\u001b[0m\u001b[0m\n",
      "\u001b[0;32m~/tensorflow/lib/python3.5/site-packages/torch/nn/modules/module.py\u001b[0m in \u001b[0;36m__call__\u001b[0;34m(self, *input, **kwargs)\u001b[0m\n\u001b[1;32m    323\u001b[0m         \u001b[0;32mfor\u001b[0m \u001b[0mhook\u001b[0m \u001b[0;32min\u001b[0m \u001b[0mself\u001b[0m\u001b[0;34m.\u001b[0m\u001b[0m_forward_pre_hooks\u001b[0m\u001b[0;34m.\u001b[0m\u001b[0mvalues\u001b[0m\u001b[0;34m(\u001b[0m\u001b[0;34m)\u001b[0m\u001b[0;34m:\u001b[0m\u001b[0;34m\u001b[0m\u001b[0m\n\u001b[1;32m    324\u001b[0m             \u001b[0mhook\u001b[0m\u001b[0;34m(\u001b[0m\u001b[0mself\u001b[0m\u001b[0;34m,\u001b[0m \u001b[0minput\u001b[0m\u001b[0;34m)\u001b[0m\u001b[0;34m\u001b[0m\u001b[0m\n\u001b[0;32m--> 325\u001b[0;31m         \u001b[0mresult\u001b[0m \u001b[0;34m=\u001b[0m \u001b[0mself\u001b[0m\u001b[0;34m.\u001b[0m\u001b[0mforward\u001b[0m\u001b[0;34m(\u001b[0m\u001b[0;34m*\u001b[0m\u001b[0minput\u001b[0m\u001b[0;34m,\u001b[0m \u001b[0;34m**\u001b[0m\u001b[0mkwargs\u001b[0m\u001b[0;34m)\u001b[0m\u001b[0;34m\u001b[0m\u001b[0m\n\u001b[0m\u001b[1;32m    326\u001b[0m         \u001b[0;32mfor\u001b[0m \u001b[0mhook\u001b[0m \u001b[0;32min\u001b[0m \u001b[0mself\u001b[0m\u001b[0;34m.\u001b[0m\u001b[0m_forward_hooks\u001b[0m\u001b[0;34m.\u001b[0m\u001b[0mvalues\u001b[0m\u001b[0;34m(\u001b[0m\u001b[0;34m)\u001b[0m\u001b[0;34m:\u001b[0m\u001b[0;34m\u001b[0m\u001b[0m\n\u001b[1;32m    327\u001b[0m             \u001b[0mhook_result\u001b[0m \u001b[0;34m=\u001b[0m \u001b[0mhook\u001b[0m\u001b[0;34m(\u001b[0m\u001b[0mself\u001b[0m\u001b[0;34m,\u001b[0m \u001b[0minput\u001b[0m\u001b[0;34m,\u001b[0m \u001b[0mresult\u001b[0m\u001b[0;34m)\u001b[0m\u001b[0;34m\u001b[0m\u001b[0m\n",
      "\u001b[0;32m<ipython-input-20-a13aab62d7b2>\u001b[0m in \u001b[0;36mforward\u001b[0;34m(self, x)\u001b[0m\n\u001b[1;32m     36\u001b[0m                 \u001b[0mx\u001b[0m \u001b[0;34m=\u001b[0m \u001b[0my\u001b[0m\u001b[0;34m\u001b[0m\u001b[0m\n\u001b[1;32m     37\u001b[0m             \u001b[0;32mif\u001b[0m \u001b[0mi\u001b[0m \u001b[0;34m>\u001b[0m \u001b[0;36m0\u001b[0m\u001b[0;34m:\u001b[0m\u001b[0;34m\u001b[0m\u001b[0m\n\u001b[0;32m---> 38\u001b[0;31m                 \u001b[0mx\u001b[0m \u001b[0;34m=\u001b[0m \u001b[0mgetattr\u001b[0m\u001b[0;34m(\u001b[0m\u001b[0mself\u001b[0m\u001b[0;34m,\u001b[0m \u001b[0;34m\"bn{}\"\u001b[0m\u001b[0;34m.\u001b[0m\u001b[0mformat\u001b[0m\u001b[0;34m(\u001b[0m\u001b[0mi\u001b[0m\u001b[0;34m)\u001b[0m\u001b[0;34m)\u001b[0m\u001b[0;34m(\u001b[0m\u001b[0mx\u001b[0m\u001b[0;34m)\u001b[0m\u001b[0;34m\u001b[0m\u001b[0m\n\u001b[0m\u001b[1;32m     39\u001b[0m         \u001b[0mx\u001b[0m \u001b[0;34m=\u001b[0m \u001b[0mx\u001b[0m\u001b[0;34m.\u001b[0m\u001b[0mview\u001b[0m\u001b[0;34m(\u001b[0m\u001b[0mx\u001b[0m\u001b[0;34m.\u001b[0m\u001b[0msize\u001b[0m\u001b[0;34m(\u001b[0m\u001b[0;36m0\u001b[0m\u001b[0;34m)\u001b[0m\u001b[0;34m,\u001b[0m \u001b[0mx\u001b[0m\u001b[0;34m.\u001b[0m\u001b[0msize\u001b[0m\u001b[0;34m(\u001b[0m\u001b[0;36m1\u001b[0m\u001b[0;34m)\u001b[0m\u001b[0;34m,\u001b[0m \u001b[0;34m-\u001b[0m\u001b[0;36m1\u001b[0m\u001b[0;34m)\u001b[0m \u001b[0;31m# shape: (batch, feats, o3)\u001b[0m\u001b[0;34m\u001b[0m\u001b[0m\n\u001b[1;32m     40\u001b[0m         \u001b[0mx\u001b[0m \u001b[0;34m=\u001b[0m \u001b[0mtorch\u001b[0m\u001b[0;34m.\u001b[0m\u001b[0mmean\u001b[0m\u001b[0;34m(\u001b[0m\u001b[0mx\u001b[0m\u001b[0;34m,\u001b[0m \u001b[0;36m2\u001b[0m\u001b[0;34m)\u001b[0m\u001b[0;34m\u001b[0m\u001b[0m\n",
      "\u001b[0;32m~/tensorflow/lib/python3.5/site-packages/torch/nn/modules/module.py\u001b[0m in \u001b[0;36m__call__\u001b[0;34m(self, *input, **kwargs)\u001b[0m\n\u001b[1;32m    323\u001b[0m         \u001b[0;32mfor\u001b[0m \u001b[0mhook\u001b[0m \u001b[0;32min\u001b[0m \u001b[0mself\u001b[0m\u001b[0;34m.\u001b[0m\u001b[0m_forward_pre_hooks\u001b[0m\u001b[0;34m.\u001b[0m\u001b[0mvalues\u001b[0m\u001b[0;34m(\u001b[0m\u001b[0;34m)\u001b[0m\u001b[0;34m:\u001b[0m\u001b[0;34m\u001b[0m\u001b[0m\n\u001b[1;32m    324\u001b[0m             \u001b[0mhook\u001b[0m\u001b[0;34m(\u001b[0m\u001b[0mself\u001b[0m\u001b[0;34m,\u001b[0m \u001b[0minput\u001b[0m\u001b[0;34m)\u001b[0m\u001b[0;34m\u001b[0m\u001b[0m\n\u001b[0;32m--> 325\u001b[0;31m         \u001b[0mresult\u001b[0m \u001b[0;34m=\u001b[0m \u001b[0mself\u001b[0m\u001b[0;34m.\u001b[0m\u001b[0mforward\u001b[0m\u001b[0;34m(\u001b[0m\u001b[0;34m*\u001b[0m\u001b[0minput\u001b[0m\u001b[0;34m,\u001b[0m \u001b[0;34m**\u001b[0m\u001b[0mkwargs\u001b[0m\u001b[0;34m)\u001b[0m\u001b[0;34m\u001b[0m\u001b[0m\n\u001b[0m\u001b[1;32m    326\u001b[0m         \u001b[0;32mfor\u001b[0m \u001b[0mhook\u001b[0m \u001b[0;32min\u001b[0m \u001b[0mself\u001b[0m\u001b[0;34m.\u001b[0m\u001b[0m_forward_hooks\u001b[0m\u001b[0;34m.\u001b[0m\u001b[0mvalues\u001b[0m\u001b[0;34m(\u001b[0m\u001b[0;34m)\u001b[0m\u001b[0;34m:\u001b[0m\u001b[0;34m\u001b[0m\u001b[0m\n\u001b[1;32m    327\u001b[0m             \u001b[0mhook_result\u001b[0m \u001b[0;34m=\u001b[0m \u001b[0mhook\u001b[0m\u001b[0;34m(\u001b[0m\u001b[0mself\u001b[0m\u001b[0;34m,\u001b[0m \u001b[0minput\u001b[0m\u001b[0;34m,\u001b[0m \u001b[0mresult\u001b[0m\u001b[0;34m)\u001b[0m\u001b[0;34m\u001b[0m\u001b[0m\n",
      "\u001b[0;32m~/tensorflow/lib/python3.5/site-packages/torch/nn/modules/batchnorm.py\u001b[0m in \u001b[0;36mforward\u001b[0;34m(self, input)\u001b[0m\n\u001b[1;32m     35\u001b[0m         return F.batch_norm(\n\u001b[1;32m     36\u001b[0m             \u001b[0minput\u001b[0m\u001b[0;34m,\u001b[0m \u001b[0mself\u001b[0m\u001b[0;34m.\u001b[0m\u001b[0mrunning_mean\u001b[0m\u001b[0;34m,\u001b[0m \u001b[0mself\u001b[0m\u001b[0;34m.\u001b[0m\u001b[0mrunning_var\u001b[0m\u001b[0;34m,\u001b[0m \u001b[0mself\u001b[0m\u001b[0;34m.\u001b[0m\u001b[0mweight\u001b[0m\u001b[0;34m,\u001b[0m \u001b[0mself\u001b[0m\u001b[0;34m.\u001b[0m\u001b[0mbias\u001b[0m\u001b[0;34m,\u001b[0m\u001b[0;34m\u001b[0m\u001b[0m\n\u001b[0;32m---> 37\u001b[0;31m             self.training, self.momentum, self.eps)\n\u001b[0m\u001b[1;32m     38\u001b[0m \u001b[0;34m\u001b[0m\u001b[0m\n\u001b[1;32m     39\u001b[0m     \u001b[0;32mdef\u001b[0m \u001b[0m__repr__\u001b[0m\u001b[0;34m(\u001b[0m\u001b[0mself\u001b[0m\u001b[0;34m)\u001b[0m\u001b[0;34m:\u001b[0m\u001b[0;34m\u001b[0m\u001b[0m\n",
      "\u001b[0;32m~/tensorflow/lib/python3.5/site-packages/torch/nn/functional.py\u001b[0m in \u001b[0;36mbatch_norm\u001b[0;34m(input, running_mean, running_var, weight, bias, training, momentum, eps)\u001b[0m\n\u001b[1;32m   1011\u001b[0m             \u001b[0;32mraise\u001b[0m \u001b[0mValueError\u001b[0m\u001b[0;34m(\u001b[0m\u001b[0;34m'Expected more than 1 value per channel when training, got input size {}'\u001b[0m\u001b[0;34m.\u001b[0m\u001b[0mformat\u001b[0m\u001b[0;34m(\u001b[0m\u001b[0msize\u001b[0m\u001b[0;34m)\u001b[0m\u001b[0;34m)\u001b[0m\u001b[0;34m\u001b[0m\u001b[0m\n\u001b[1;32m   1012\u001b[0m     \u001b[0mf\u001b[0m \u001b[0;34m=\u001b[0m \u001b[0mtorch\u001b[0m\u001b[0;34m.\u001b[0m\u001b[0m_C\u001b[0m\u001b[0;34m.\u001b[0m\u001b[0m_functions\u001b[0m\u001b[0;34m.\u001b[0m\u001b[0mBatchNorm\u001b[0m\u001b[0;34m(\u001b[0m\u001b[0mrunning_mean\u001b[0m\u001b[0;34m,\u001b[0m \u001b[0mrunning_var\u001b[0m\u001b[0;34m,\u001b[0m \u001b[0mtraining\u001b[0m\u001b[0;34m,\u001b[0m \u001b[0mmomentum\u001b[0m\u001b[0;34m,\u001b[0m \u001b[0meps\u001b[0m\u001b[0;34m,\u001b[0m \u001b[0mtorch\u001b[0m\u001b[0;34m.\u001b[0m\u001b[0mbackends\u001b[0m\u001b[0;34m.\u001b[0m\u001b[0mcudnn\u001b[0m\u001b[0;34m.\u001b[0m\u001b[0menabled\u001b[0m\u001b[0;34m)\u001b[0m\u001b[0;34m\u001b[0m\u001b[0m\n\u001b[0;32m-> 1013\u001b[0;31m     \u001b[0;32mreturn\u001b[0m \u001b[0mf\u001b[0m\u001b[0;34m(\u001b[0m\u001b[0minput\u001b[0m\u001b[0;34m,\u001b[0m \u001b[0mweight\u001b[0m\u001b[0;34m,\u001b[0m \u001b[0mbias\u001b[0m\u001b[0;34m)\u001b[0m\u001b[0;34m\u001b[0m\u001b[0m\n\u001b[0m\u001b[1;32m   1014\u001b[0m \u001b[0;34m\u001b[0m\u001b[0m\n\u001b[1;32m   1015\u001b[0m \u001b[0;34m\u001b[0m\u001b[0m\n",
      "\u001b[0;31mKeyboardInterrupt\u001b[0m: "
     ]
    }
   ],
   "source": [
    "with open(\"../probs_model_updated_added_noise_mix.txt\", \"w\") as sub:\n",
    "    probs_lst = ['prob_' + str(i) for i in range(0, 12)]\n",
    "    sub.write(\"fname,\" + ','.join(str(prob) for prob in probs_lst) + \"\\n\")\n",
    "    for model_in, wav_paths in eval_loader:\n",
    "        scores = model(Variable(model_in, requires_grad=False).cuda())\n",
    "        for wav in range(scores.shape[0]):\n",
    "            current_wav = wav_paths[wav].rsplit(\"/\")[-1]\n",
    "            wav_probs = ','.join(str(float(score)) for score in scores[wav])\n",
    "            to_fill_row = current_wav + ',' + wav_probs + \"\\n\"\n",
    "            sub.write(\n",
    "                to_fill_row\n",
    "            )"
   ]
  },
  {
   "cell_type": "code",
   "execution_count": 33,
   "metadata": {},
   "outputs": [],
   "source": [
    "check = pd.read_csv('../probs_model_updated_added_noise_mix.txt')"
   ]
  },
  {
   "cell_type": "code",
   "execution_count": 30,
   "metadata": {},
   "outputs": [
    {
     "name": "stdout",
     "output_type": "stream",
     "text": [
      "left\n"
     ]
    }
   ],
   "source": [
    "print(label2word[int(scores[4].max(0)[1])])"
   ]
  },
  {
   "cell_type": "code",
   "execution_count": 37,
   "metadata": {},
   "outputs": [
    {
     "data": {
      "text/html": [
       "\n",
       "                <audio controls=\"controls\" >\n",
       "                    <source src=\"data:audio/wav;base64,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\" type=\"audio/wav\" />\n",
       "                    Your browser does not support the audio element.\n",
       "                </audio>\n",
       "              "
      ],
      "text/plain": [
       "<IPython.lib.display.Audio object>"
      ]
     },
     "execution_count": 37,
     "metadata": {},
     "output_type": "execute_result"
    }
   ],
   "source": [
    "play_wav(wav_paths[4])"
   ]
  }
 ],
 "metadata": {
  "kernelspec": {
   "display_name": "Python 3",
   "language": "python",
   "name": "python3"
  },
  "language_info": {
   "codemirror_mode": {
    "name": "ipython",
    "version": 3
   },
   "file_extension": ".py",
   "mimetype": "text/x-python",
   "name": "python",
   "nbconvert_exporter": "python",
   "pygments_lexer": "ipython3",
   "version": "3.5.2"
  }
 },
 "nbformat": 4,
 "nbformat_minor": 2
}
