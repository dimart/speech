{
 "cells": [
  {
   "cell_type": "code",
   "execution_count": 1,
   "metadata": {},
   "outputs": [],
   "source": [
    "import pandas as pd\n",
    "import numpy as np"
   ]
  },
  {
   "cell_type": "code",
   "execution_count": 2,
   "metadata": {},
   "outputs": [],
   "source": [
    "res15_valid = pd.read_csv('../probs_subs/check_res15_updated_file.txt')\n",
    "\n",
    "res26_valid = pd.read_csv('../probs_subs/check_res26_updated_file.txt')\n",
    "\n",
    "res8_valid = pd.read_csv('../probs_subs/check_res8_updated_file.txt')"
   ]
  },
  {
   "cell_type": "code",
   "execution_count": 3,
   "metadata": {},
   "outputs": [],
   "source": [
    "res15_valid.sort_values(by='fname', inplace=True)\n",
    "res26_valid.sort_values(by='fname', inplace=True)\n",
    "res8_valid.sort_values(by='fname', inplace=True)"
   ]
  },
  {
   "cell_type": "code",
   "execution_count": 4,
   "metadata": {},
   "outputs": [],
   "source": [
    "def softmax(x):\n",
    "    scoreMatExp = np.exp(np.asarray(x))\n",
    "    return scoreMatExp / scoreMatExp.sum(0)"
   ]
  },
  {
   "cell_type": "code",
   "execution_count": 5,
   "metadata": {},
   "outputs": [],
   "source": [
    "prob_columns = [col for col in res15_valid.columns if 'prob' in col]\n",
    "\n",
    "res15_valid[prob_columns] = res15_valid[prob_columns].apply(softmax)\n",
    "res26_valid[prob_columns] = res26_valid[prob_columns].apply(softmax)\n",
    "res8_valid[prob_columns] = res8_valid[prob_columns].apply(softmax)"
   ]
  },
  {
   "cell_type": "code",
   "execution_count": 6,
   "metadata": {},
   "outputs": [],
   "source": [
    "res15_valid['cat'] = [s[-2] for s in res15_valid['fname'].str.rsplit('/')]\n",
    "res15_valid['hash'] = [s[-1] for s in res15_valid['fname'].str.rsplit('/')]\n",
    "\n",
    "res15_valid['fname'] = res15_valid['cat'] + '/' + res15_valid['hash']"
   ]
  },
  {
   "cell_type": "code",
   "execution_count": 7,
   "metadata": {},
   "outputs": [],
   "source": [
    "res26_valid['cat'] = [s[-2] for s in res26_valid['fname'].str.rsplit('/')]\n",
    "res26_valid['hash'] = [s[-1] for s in res26_valid['fname'].str.rsplit('/')]\n",
    "\n",
    "res26_valid['fname'] = res26_valid['cat'] + '/' + res26_valid['hash']\n",
    "\n",
    "res8_valid['cat'] = [s[-2] for s in res8_valid['fname'].str.rsplit('/')]\n",
    "res8_valid['hash'] = [s[-1] for s in res8_valid['fname'].str.rsplit('/')]\n",
    "\n",
    "res8_valid['fname'] = res8_valid['cat'] + '/' + res8_valid['hash']"
   ]
  },
  {
   "cell_type": "code",
   "execution_count": 8,
   "metadata": {},
   "outputs": [
    {
     "data": {
      "text/plain": [
       "up        272\n",
       "left      267\n",
       "off       262\n",
       "right     259\n",
       "yes       256\n",
       "down      253\n",
       "no        252\n",
       "go        251\n",
       "stop      249\n",
       "on        246\n",
       "eight      53\n",
       "seven      40\n",
       "five       40\n",
       "one        39\n",
       "six        38\n",
       "zero       37\n",
       "bed        37\n",
       "three      36\n",
       "four       34\n",
       "sheila     33\n",
       "house      33\n",
       "nine       32\n",
       "wow        30\n",
       "two        30\n",
       "happy      26\n",
       "dog        23\n",
       "cat        22\n",
       "marvin     21\n",
       "bird       20\n",
       "tree       17\n",
       "Name: cat, dtype: int64"
      ]
     },
     "execution_count": 8,
     "metadata": {},
     "output_type": "execute_result"
    }
   ],
   "source": [
    "res15_valid['cat'].value_counts()"
   ]
  },
  {
   "cell_type": "code",
   "execution_count": 9,
   "metadata": {},
   "outputs": [
    {
     "data": {
      "text/plain": [
       "0"
      ]
     },
     "execution_count": 9,
     "metadata": {},
     "output_type": "execute_result"
    }
   ],
   "source": [
    "(res26_valid['fname'] != res8_valid['fname'] ).sum()"
   ]
  },
  {
   "cell_type": "code",
   "execution_count": 10,
   "metadata": {},
   "outputs": [
    {
     "data": {
      "text/plain": [
       "0"
      ]
     },
     "execution_count": 10,
     "metadata": {},
     "output_type": "execute_result"
    }
   ],
   "source": [
    "(res15_valid['fname'] != res8_valid['fname'] ).sum()"
   ]
  },
  {
   "cell_type": "code",
   "execution_count": 11,
   "metadata": {},
   "outputs": [],
   "source": [
    "res26_valid.drop(['fname', 'label'], axis=1, inplace=True)\n",
    "res8_valid.drop(['fname', 'label'], axis=1, inplace=True)"
   ]
  },
  {
   "cell_type": "code",
   "execution_count": 12,
   "metadata": {},
   "outputs": [
    {
     "name": "stderr",
     "output_type": "stream",
     "text": [
      "/home/egor/tensorflow/lib/python3.5/site-packages/ipykernel_launcher.py:1: FutureWarning: currently extract(expand=None) means expand=False (return Index/Series/DataFrame) but in a future version of pandas this will be changed to expand=True (return DataFrame)\n",
      "  \"\"\"Entry point for launching an IPython kernel.\n",
      "/home/egor/tensorflow/lib/python3.5/site-packages/ipykernel_launcher.py:2: FutureWarning: currently extract(expand=None) means expand=False (return Index/Series/DataFrame) but in a future version of pandas this will be changed to expand=True (return DataFrame)\n",
      "  \n",
      "/home/egor/tensorflow/lib/python3.5/site-packages/ipykernel_launcher.py:3: FutureWarning: currently extract(expand=None) means expand=False (return Index/Series/DataFrame) but in a future version of pandas this will be changed to expand=True (return DataFrame)\n",
      "  This is separate from the ipykernel package so we can avoid doing imports until\n"
     ]
    }
   ],
   "source": [
    "res26_valid['max_prob'] = res26_valid[prob_columns].idxmax(axis=1).str.extract('(\\d+)').astype(int)\n",
    "res8_valid['max_prob'] = res8_valid[prob_columns].idxmax(axis=1).str.extract('(\\d+)').astype(int)\n",
    "res15_valid['max_prob'] = res15_valid[prob_columns].idxmax(axis=1).str.extract('(\\d+)').astype(int)"
   ]
  },
  {
   "cell_type": "code",
   "execution_count": 13,
   "metadata": {},
   "outputs": [],
   "source": [
    "label2word = {0: 'silence',\n",
    " 1: 'unknown',\n",
    " 2: 'yes',\n",
    " 3: 'no',\n",
    " 4: 'up',\n",
    " 5: 'down',\n",
    " 6: 'left',\n",
    " 7: 'right',\n",
    " 8: 'on',\n",
    " 9: 'off',\n",
    " 10: 'stop',\n",
    " 11: 'go'}\n",
    "\n",
    "res26_valid['max_prob_label'] = res26_valid['max_prob'].map(label2word)\n",
    "res8_valid['max_prob_label'] = res8_valid['max_prob'].map(label2word)\n",
    "res15_valid['max_prob_label'] = res15_valid['max_prob'].map(label2word)"
   ]
  },
  {
   "cell_type": "code",
   "execution_count": 14,
   "metadata": {},
   "outputs": [],
   "source": [
    "res15_valid.columns = ['res15_' + col for col in res15_valid.columns]\n",
    "res8_valid.columns = ['res8_' + col for col in res8_valid.columns]\n",
    "res26_valid.columns = ['res26_' + col for col in res26_valid.columns]"
   ]
  },
  {
   "cell_type": "code",
   "execution_count": 15,
   "metadata": {},
   "outputs": [],
   "source": [
    "common_valid = pd.concat([res8_valid, res26_valid, res15_valid], axis=1)"
   ]
  },
  {
   "cell_type": "code",
   "execution_count": 16,
   "metadata": {},
   "outputs": [],
   "source": [
    "common_valid['true_label'] = common_valid['res15_label'].map(label2word)"
   ]
  },
  {
   "cell_type": "code",
   "execution_count": 17,
   "metadata": {},
   "outputs": [],
   "source": [
    "voting = common_valid[[col for col in common_valid.columns if ('label' in col) and ('res15_label' not in col)]]"
   ]
  },
  {
   "cell_type": "code",
   "execution_count": 18,
   "metadata": {},
   "outputs": [
    {
     "data": {
      "text/html": [
       "<div>\n",
       "<style>\n",
       "    .dataframe thead tr:only-child th {\n",
       "        text-align: right;\n",
       "    }\n",
       "\n",
       "    .dataframe thead th {\n",
       "        text-align: left;\n",
       "    }\n",
       "\n",
       "    .dataframe tbody tr th {\n",
       "        vertical-align: top;\n",
       "    }\n",
       "</style>\n",
       "<table border=\"1\" class=\"dataframe\">\n",
       "  <thead>\n",
       "    <tr style=\"text-align: right;\">\n",
       "      <th></th>\n",
       "      <th>res8_max_prob_label</th>\n",
       "      <th>res26_max_prob_label</th>\n",
       "      <th>res15_max_prob_label</th>\n",
       "      <th>true_label</th>\n",
       "    </tr>\n",
       "  </thead>\n",
       "  <tbody>\n",
       "  </tbody>\n",
       "</table>\n",
       "</div>"
      ],
      "text/plain": [
       "Empty DataFrame\n",
       "Columns: [res8_max_prob_label, res26_max_prob_label, res15_max_prob_label, true_label]\n",
       "Index: []"
      ]
     },
     "execution_count": 18,
     "metadata": {},
     "output_type": "execute_result"
    }
   ],
   "source": [
    "voting[(voting.res15_max_prob_label != voting.true_label) &\n",
    "       ((voting.res15_max_prob_label == voting.true_label) |\n",
    "       (voting.res15_max_prob_label == voting.true_label))]"
   ]
  },
  {
   "cell_type": "code",
   "execution_count": 19,
   "metadata": {},
   "outputs": [
    {
     "data": {
      "text/plain": [
       "Index(['res8_prob_0', 'res8_prob_1', 'res8_prob_2', 'res8_prob_3',\n",
       "       'res8_prob_4', 'res8_prob_5', 'res8_prob_6', 'res8_prob_7',\n",
       "       'res8_prob_8', 'res8_prob_9', 'res8_prob_10', 'res8_prob_11',\n",
       "       'res8_cat', 'res8_hash', 'res8_max_prob', 'res8_max_prob_label',\n",
       "       'res26_prob_0', 'res26_prob_1', 'res26_prob_2', 'res26_prob_3',\n",
       "       'res26_prob_4', 'res26_prob_5', 'res26_prob_6', 'res26_prob_7',\n",
       "       'res26_prob_8', 'res26_prob_9', 'res26_prob_10', 'res26_prob_11',\n",
       "       'res26_cat', 'res26_hash', 'res26_max_prob', 'res26_max_prob_label',\n",
       "       'res15_fname', 'res15_prob_0', 'res15_prob_1', 'res15_prob_2',\n",
       "       'res15_prob_3', 'res15_prob_4', 'res15_prob_5', 'res15_prob_6',\n",
       "       'res15_prob_7', 'res15_prob_8', 'res15_prob_9', 'res15_prob_10',\n",
       "       'res15_prob_11', 'res15_label', 'res15_cat', 'res15_hash',\n",
       "       'res15_max_prob', 'res15_max_prob_label', 'true_label'],\n",
       "      dtype='object')"
      ]
     },
     "execution_count": 19,
     "metadata": {},
     "output_type": "execute_result"
    }
   ],
   "source": [
    "common_valid.columns"
   ]
  },
  {
   "cell_type": "code",
   "execution_count": 20,
   "metadata": {},
   "outputs": [
    {
     "name": "stderr",
     "output_type": "stream",
     "text": [
      "/home/egor/tensorflow/lib/python3.5/site-packages/ipykernel_launcher.py:5: FutureWarning: currently extract(expand=None) means expand=False (return Index/Series/DataFrame) but in a future version of pandas this will be changed to expand=True (return DataFrame)\n",
      "  \"\"\"\n"
     ]
    }
   ],
   "source": [
    "for prob in range(12):\n",
    "    gmean = (common_valid['res8_prob_' + str(prob)] * \\\n",
    "                                         common_valid['res26_prob_' + str(prob)] * \\\n",
    "                                         common_valid['res15_prob_' + str(prob)])**(1/3)\n",
    "    common_valid['gmean_' + str(prob)] = gmean\n",
    "\n",
    "common_valid['gmean_max_prob_label'] = common_valid[[col for col in common_valid.columns if 'gmean' in col]] \\\n",
    "                                                                                .idxmax(axis=1) \\\n",
    "                                                                                .str.extract('(\\d+)') \\\n",
    "                                                                                .astype(int) \\\n",
    "                                                                                .map(label2word)"
   ]
  },
  {
   "cell_type": "code",
   "execution_count": 21,
   "metadata": {},
   "outputs": [
    {
     "name": "stderr",
     "output_type": "stream",
     "text": [
      "/home/egor/tensorflow/lib/python3.5/site-packages/ipykernel_launcher.py:5: FutureWarning: currently extract(expand=None) means expand=False (return Index/Series/DataFrame) but in a future version of pandas this will be changed to expand=True (return DataFrame)\n",
      "  \"\"\"\n"
     ]
    }
   ],
   "source": [
    "for prob in range(12):\n",
    "    gmean = (common_valid['res8_prob_' + str(prob)]**2 * \\\n",
    "                                         common_valid['res26_prob_' + str(prob)]**2 * \\\n",
    "                                         common_valid['res15_prob_' + str(prob)]**2)**(1/3)\n",
    "    common_valid['gmean_squared' + str(prob)] = gmean\n",
    "\n",
    "common_valid['gmean_squared_max_prob_label'] = common_valid[[col for col in common_valid.columns if 'gmean_squared' in col]] \\\n",
    "                                                                                .idxmax(axis=1) \\\n",
    "                                                                                .str.extract('(\\d+)') \\\n",
    "                                                                                .astype(int) \\\n",
    "                                                                                .map(label2word)"
   ]
  },
  {
   "cell_type": "code",
   "execution_count": 22,
   "metadata": {},
   "outputs": [
    {
     "name": "stderr",
     "output_type": "stream",
     "text": [
      "/home/egor/tensorflow/lib/python3.5/site-packages/ipykernel_launcher.py:5: FutureWarning: currently extract(expand=None) means expand=False (return Index/Series/DataFrame) but in a future version of pandas this will be changed to expand=True (return DataFrame)\n",
      "  \"\"\"\n"
     ]
    }
   ],
   "source": [
    "for prob in range(12):\n",
    "    gmean = (common_valid['res8_prob_' + str(prob)]**2 * \\\n",
    "                                         common_valid['res26_prob_' + str(prob)]**2 * \\\n",
    "                                         common_valid['res15_prob_' + str(prob)])**(1/3)\n",
    "    common_valid['gmean_squared_ex_res_fifthteen' + str(prob)] = gmean\n",
    "\n",
    "common_valid['gmean_squared_ex_res_fifthteen_max_prob_label'] = common_valid[[col for col in common_valid.columns if 'gmean_squared_ex_res_fifthteen' in col]] \\\n",
    "                                                                                .idxmax(axis=1) \\\n",
    "                                                                                .str.extract('(\\d+)') \\\n",
    "                                                                                .astype(int) \\\n",
    "                                                                                .map(label2word)"
   ]
  },
  {
   "cell_type": "code",
   "execution_count": 25,
   "metadata": {},
   "outputs": [
    {
     "name": "stderr",
     "output_type": "stream",
     "text": [
      "/home/egor/tensorflow/lib/python3.5/site-packages/ipykernel_launcher.py:5: FutureWarning: currently extract(expand=None) means expand=False (return Index/Series/DataFrame) but in a future version of pandas this will be changed to expand=True (return DataFrame)\n",
      "  \"\"\"\n"
     ]
    }
   ],
   "source": [
    "for prob in range(12):\n",
    "    mean = (common_valid['res8_prob_' + str(prob)] + \\\n",
    "                                         common_valid['res26_prob_' + str(prob)] + \\\n",
    "                                         common_valid['res15_prob_' + str(prob)])/3\n",
    "    common_valid['usual_mean' + str(prob)] = mean\n",
    "\n",
    "common_valid['mean_max_prob_label'] = common_valid[[col for col in common_valid.columns if 'usual_mean' in col]] \\\n",
    "                                                                                .idxmax(axis=1) \\\n",
    "                                                                                .str.extract('(\\d+)') \\\n",
    "                                                                                .astype(int) \\\n",
    "                                                                                .map(label2word)"
   ]
  },
  {
   "cell_type": "code",
   "execution_count": 27,
   "metadata": {},
   "outputs": [],
   "source": [
    "ensemble = common_valid[['res15_max_prob_label', 'gmean_max_prob_label', \n",
    "                         \"gmean_squared_ex_res_fifthteen_max_prob_label\",\n",
    "                         'mean_max_prob_label', 'gmean_squared_max_prob_label', \n",
    "                         'true_label']]"
   ]
  },
  {
   "cell_type": "code",
   "execution_count": 28,
   "metadata": {},
   "outputs": [
    {
     "data": {
      "text/plain": [
       "(2894, 6)"
      ]
     },
     "execution_count": 28,
     "metadata": {},
     "output_type": "execute_result"
    }
   ],
   "source": [
    "ensemble[ensemble['res15_max_prob_label'] == ensemble['true_label']].shape"
   ]
  },
  {
   "cell_type": "code",
   "execution_count": 29,
   "metadata": {},
   "outputs": [
    {
     "data": {
      "text/plain": [
       "(1348, 6)"
      ]
     },
     "execution_count": 29,
     "metadata": {},
     "output_type": "execute_result"
    }
   ],
   "source": [
    "ensemble[ensemble['gmean_max_prob_label'] == ensemble['true_label']].shape"
   ]
  },
  {
   "cell_type": "code",
   "execution_count": 30,
   "metadata": {},
   "outputs": [
    {
     "data": {
      "text/plain": [
       "(1213, 6)"
      ]
     },
     "execution_count": 30,
     "metadata": {},
     "output_type": "execute_result"
    }
   ],
   "source": [
    "ensemble[ensemble['mean_max_prob_label'] == ensemble['true_label']].shape"
   ]
  },
  {
   "cell_type": "code",
   "execution_count": 31,
   "metadata": {},
   "outputs": [
    {
     "data": {
      "text/plain": [
       "(1348, 6)"
      ]
     },
     "execution_count": 31,
     "metadata": {},
     "output_type": "execute_result"
    }
   ],
   "source": [
    "ensemble[ensemble['gmean_squared_max_prob_label'] == ensemble['true_label']].shape"
   ]
  },
  {
   "cell_type": "code",
   "execution_count": 33,
   "metadata": {},
   "outputs": [
    {
     "data": {
      "text/plain": [
       "(769, 6)"
      ]
     },
     "execution_count": 33,
     "metadata": {},
     "output_type": "execute_result"
    }
   ],
   "source": [
    "ensemble[ensemble['gmean_squared_ex_res_fifthteen_max_prob_label'] == ensemble['true_label']].shape"
   ]
  },
  {
   "cell_type": "markdown",
   "metadata": {},
   "source": [
    "# Вот тут ЖЁПА"
   ]
  },
  {
   "cell_type": "code",
   "execution_count": 37,
   "metadata": {},
   "outputs": [
    {
     "data": {
      "text/plain": [
       "(313, 103)"
      ]
     },
     "execution_count": 37,
     "metadata": {},
     "output_type": "execute_result"
    }
   ],
   "source": [
    "common_valid[(common_valid.res26_max_prob_label == common_valid.true_label)].shape"
   ]
  },
  {
   "cell_type": "code",
   "execution_count": 38,
   "metadata": {},
   "outputs": [
    {
     "data": {
      "text/plain": [
       "(339, 103)"
      ]
     },
     "execution_count": 38,
     "metadata": {},
     "output_type": "execute_result"
    }
   ],
   "source": [
    "common_valid[(common_valid.res8_max_prob_label == common_valid.true_label)].shape"
   ]
  },
  {
   "cell_type": "code",
   "execution_count": 40,
   "metadata": {},
   "outputs": [
    {
     "data": {
      "text/plain": [
       "(24, 103)"
      ]
     },
     "execution_count": 40,
     "metadata": {},
     "output_type": "execute_result"
    }
   ],
   "source": [
    "common_valid[(common_valid.res26_max_prob_label == common_valid.true_label) &\n",
    "             (common_valid.res15_max_prob_label != common_valid.true_label)].shape"
   ]
  },
  {
   "cell_type": "code",
   "execution_count": 43,
   "metadata": {},
   "outputs": [
    {
     "data": {
      "text/html": [
       "<div>\n",
       "<style>\n",
       "    .dataframe thead tr:only-child th {\n",
       "        text-align: right;\n",
       "    }\n",
       "\n",
       "    .dataframe thead th {\n",
       "        text-align: left;\n",
       "    }\n",
       "\n",
       "    .dataframe tbody tr th {\n",
       "        vertical-align: top;\n",
       "    }\n",
       "</style>\n",
       "<table border=\"1\" class=\"dataframe\">\n",
       "  <thead>\n",
       "    <tr style=\"text-align: right;\">\n",
       "      <th></th>\n",
       "      <th>res15_max_prob_label</th>\n",
       "      <th>gmean_max_prob_label</th>\n",
       "      <th>gmean_squared_ex_res_fifthteen_max_prob_label</th>\n",
       "      <th>mean_max_prob_label</th>\n",
       "      <th>gmean_squared_max_prob_label</th>\n",
       "      <th>true_label</th>\n",
       "    </tr>\n",
       "  </thead>\n",
       "  <tbody>\n",
       "    <tr>\n",
       "      <th>1888</th>\n",
       "      <td>go</td>\n",
       "      <td>unknown</td>\n",
       "      <td>unknown</td>\n",
       "      <td>unknown</td>\n",
       "      <td>unknown</td>\n",
       "      <td>unknown</td>\n",
       "    </tr>\n",
       "    <tr>\n",
       "      <th>1009</th>\n",
       "      <td>up</td>\n",
       "      <td>off</td>\n",
       "      <td>off</td>\n",
       "      <td>yes</td>\n",
       "      <td>off</td>\n",
       "      <td>yes</td>\n",
       "    </tr>\n",
       "    <tr>\n",
       "      <th>721</th>\n",
       "      <td>no</td>\n",
       "      <td>silence</td>\n",
       "      <td>silence</td>\n",
       "      <td>silence</td>\n",
       "      <td>silence</td>\n",
       "      <td>unknown</td>\n",
       "    </tr>\n",
       "    <tr>\n",
       "      <th>372</th>\n",
       "      <td>down</td>\n",
       "      <td>no</td>\n",
       "      <td>no</td>\n",
       "      <td>no</td>\n",
       "      <td>no</td>\n",
       "      <td>no</td>\n",
       "    </tr>\n",
       "    <tr>\n",
       "      <th>1974</th>\n",
       "      <td>silence</td>\n",
       "      <td>silence</td>\n",
       "      <td>silence</td>\n",
       "      <td>silence</td>\n",
       "      <td>silence</td>\n",
       "      <td>on</td>\n",
       "    </tr>\n",
       "    <tr>\n",
       "      <th>1497</th>\n",
       "      <td>yes</td>\n",
       "      <td>unknown</td>\n",
       "      <td>unknown</td>\n",
       "      <td>unknown</td>\n",
       "      <td>unknown</td>\n",
       "      <td>unknown</td>\n",
       "    </tr>\n",
       "    <tr>\n",
       "      <th>2232</th>\n",
       "      <td>stop</td>\n",
       "      <td>unknown</td>\n",
       "      <td>unknown</td>\n",
       "      <td>silence</td>\n",
       "      <td>unknown</td>\n",
       "      <td>unknown</td>\n",
       "    </tr>\n",
       "    <tr>\n",
       "      <th>3175</th>\n",
       "      <td>unknown</td>\n",
       "      <td>yes</td>\n",
       "      <td>yes</td>\n",
       "      <td>yes</td>\n",
       "      <td>yes</td>\n",
       "      <td>yes</td>\n",
       "    </tr>\n",
       "    <tr>\n",
       "      <th>2486</th>\n",
       "      <td>stop</td>\n",
       "      <td>no</td>\n",
       "      <td>no</td>\n",
       "      <td>no</td>\n",
       "      <td>no</td>\n",
       "      <td>up</td>\n",
       "    </tr>\n",
       "    <tr>\n",
       "      <th>2050</th>\n",
       "      <td>up</td>\n",
       "      <td>unknown</td>\n",
       "      <td>unknown</td>\n",
       "      <td>unknown</td>\n",
       "      <td>unknown</td>\n",
       "      <td>unknown</td>\n",
       "    </tr>\n",
       "    <tr>\n",
       "      <th>918</th>\n",
       "      <td>go</td>\n",
       "      <td>silence</td>\n",
       "      <td>down</td>\n",
       "      <td>down</td>\n",
       "      <td>silence</td>\n",
       "      <td>down</td>\n",
       "    </tr>\n",
       "    <tr>\n",
       "      <th>1194</th>\n",
       "      <td>off</td>\n",
       "      <td>unknown</td>\n",
       "      <td>unknown</td>\n",
       "      <td>unknown</td>\n",
       "      <td>unknown</td>\n",
       "      <td>unknown</td>\n",
       "    </tr>\n",
       "    <tr>\n",
       "      <th>3159</th>\n",
       "      <td>silence</td>\n",
       "      <td>silence</td>\n",
       "      <td>silence</td>\n",
       "      <td>silence</td>\n",
       "      <td>silence</td>\n",
       "      <td>unknown</td>\n",
       "    </tr>\n",
       "    <tr>\n",
       "      <th>1523</th>\n",
       "      <td>silence</td>\n",
       "      <td>unknown</td>\n",
       "      <td>unknown</td>\n",
       "      <td>up</td>\n",
       "      <td>unknown</td>\n",
       "      <td>unknown</td>\n",
       "    </tr>\n",
       "    <tr>\n",
       "      <th>2364</th>\n",
       "      <td>silence</td>\n",
       "      <td>unknown</td>\n",
       "      <td>unknown</td>\n",
       "      <td>unknown</td>\n",
       "      <td>unknown</td>\n",
       "      <td>unknown</td>\n",
       "    </tr>\n",
       "    <tr>\n",
       "      <th>2162</th>\n",
       "      <td>unknown</td>\n",
       "      <td>unknown</td>\n",
       "      <td>yes</td>\n",
       "      <td>right</td>\n",
       "      <td>unknown</td>\n",
       "      <td>right</td>\n",
       "    </tr>\n",
       "    <tr>\n",
       "      <th>1177</th>\n",
       "      <td>up</td>\n",
       "      <td>off</td>\n",
       "      <td>off</td>\n",
       "      <td>off</td>\n",
       "      <td>off</td>\n",
       "      <td>off</td>\n",
       "    </tr>\n",
       "    <tr>\n",
       "      <th>90</th>\n",
       "      <td>unknown</td>\n",
       "      <td>right</td>\n",
       "      <td>right</td>\n",
       "      <td>right</td>\n",
       "      <td>right</td>\n",
       "      <td>right</td>\n",
       "    </tr>\n",
       "    <tr>\n",
       "      <th>578</th>\n",
       "      <td>stop</td>\n",
       "      <td>unknown</td>\n",
       "      <td>off</td>\n",
       "      <td>off</td>\n",
       "      <td>unknown</td>\n",
       "      <td>unknown</td>\n",
       "    </tr>\n",
       "    <tr>\n",
       "      <th>3115</th>\n",
       "      <td>silence</td>\n",
       "      <td>unknown</td>\n",
       "      <td>unknown</td>\n",
       "      <td>unknown</td>\n",
       "      <td>unknown</td>\n",
       "      <td>unknown</td>\n",
       "    </tr>\n",
       "    <tr>\n",
       "      <th>2523</th>\n",
       "      <td>off</td>\n",
       "      <td>no</td>\n",
       "      <td>no</td>\n",
       "      <td>go</td>\n",
       "      <td>no</td>\n",
       "      <td>go</td>\n",
       "    </tr>\n",
       "    <tr>\n",
       "      <th>3169</th>\n",
       "      <td>up</td>\n",
       "      <td>no</td>\n",
       "      <td>no</td>\n",
       "      <td>no</td>\n",
       "      <td>no</td>\n",
       "      <td>no</td>\n",
       "    </tr>\n",
       "    <tr>\n",
       "      <th>1205</th>\n",
       "      <td>up</td>\n",
       "      <td>unknown</td>\n",
       "      <td>unknown</td>\n",
       "      <td>unknown</td>\n",
       "      <td>unknown</td>\n",
       "      <td>unknown</td>\n",
       "    </tr>\n",
       "    <tr>\n",
       "      <th>1143</th>\n",
       "      <td>down</td>\n",
       "      <td>unknown</td>\n",
       "      <td>unknown</td>\n",
       "      <td>yes</td>\n",
       "      <td>unknown</td>\n",
       "      <td>unknown</td>\n",
       "    </tr>\n",
       "  </tbody>\n",
       "</table>\n",
       "</div>"
      ],
      "text/plain": [
       "     res15_max_prob_label gmean_max_prob_label  \\\n",
       "1888                   go              unknown   \n",
       "1009                   up                  off   \n",
       "721                    no              silence   \n",
       "372                  down                   no   \n",
       "1974              silence              silence   \n",
       "1497                  yes              unknown   \n",
       "2232                 stop              unknown   \n",
       "3175              unknown                  yes   \n",
       "2486                 stop                   no   \n",
       "2050                   up              unknown   \n",
       "918                    go              silence   \n",
       "1194                  off              unknown   \n",
       "3159              silence              silence   \n",
       "1523              silence              unknown   \n",
       "2364              silence              unknown   \n",
       "2162              unknown              unknown   \n",
       "1177                   up                  off   \n",
       "90                unknown                right   \n",
       "578                  stop              unknown   \n",
       "3115              silence              unknown   \n",
       "2523                  off                   no   \n",
       "3169                   up                   no   \n",
       "1205                   up              unknown   \n",
       "1143                 down              unknown   \n",
       "\n",
       "     gmean_squared_ex_res_fifthteen_max_prob_label mean_max_prob_label  \\\n",
       "1888                                       unknown             unknown   \n",
       "1009                                           off                 yes   \n",
       "721                                        silence             silence   \n",
       "372                                             no                  no   \n",
       "1974                                       silence             silence   \n",
       "1497                                       unknown             unknown   \n",
       "2232                                       unknown             silence   \n",
       "3175                                           yes                 yes   \n",
       "2486                                            no                  no   \n",
       "2050                                       unknown             unknown   \n",
       "918                                           down                down   \n",
       "1194                                       unknown             unknown   \n",
       "3159                                       silence             silence   \n",
       "1523                                       unknown                  up   \n",
       "2364                                       unknown             unknown   \n",
       "2162                                           yes               right   \n",
       "1177                                           off                 off   \n",
       "90                                           right               right   \n",
       "578                                            off                 off   \n",
       "3115                                       unknown             unknown   \n",
       "2523                                            no                  go   \n",
       "3169                                            no                  no   \n",
       "1205                                       unknown             unknown   \n",
       "1143                                       unknown                 yes   \n",
       "\n",
       "     gmean_squared_max_prob_label true_label  \n",
       "1888                      unknown    unknown  \n",
       "1009                          off        yes  \n",
       "721                       silence    unknown  \n",
       "372                            no         no  \n",
       "1974                      silence         on  \n",
       "1497                      unknown    unknown  \n",
       "2232                      unknown    unknown  \n",
       "3175                          yes        yes  \n",
       "2486                           no         up  \n",
       "2050                      unknown    unknown  \n",
       "918                       silence       down  \n",
       "1194                      unknown    unknown  \n",
       "3159                      silence    unknown  \n",
       "1523                      unknown    unknown  \n",
       "2364                      unknown    unknown  \n",
       "2162                      unknown      right  \n",
       "1177                          off        off  \n",
       "90                          right      right  \n",
       "578                       unknown    unknown  \n",
       "3115                      unknown    unknown  \n",
       "2523                           no         go  \n",
       "3169                           no         no  \n",
       "1205                      unknown    unknown  \n",
       "1143                      unknown    unknown  "
      ]
     },
     "execution_count": 43,
     "metadata": {},
     "output_type": "execute_result"
    }
   ],
   "source": [
    "common_valid[(common_valid.res26_max_prob_label == common_valid.true_label) &\n",
    "             (common_valid.res15_max_prob_label != common_valid.true_label)][ensemble.columns]"
   ]
  },
  {
   "cell_type": "code",
   "execution_count": 44,
   "metadata": {},
   "outputs": [
    {
     "data": {
      "text/plain": [
       "(26, 103)"
      ]
     },
     "execution_count": 44,
     "metadata": {},
     "output_type": "execute_result"
    }
   ],
   "source": [
    "common_valid[(common_valid.res8_max_prob_label == common_valid.true_label) &\n",
    "             (common_valid.res15_max_prob_label != common_valid.true_label)].shape"
   ]
  },
  {
   "cell_type": "code",
   "execution_count": 51,
   "metadata": {},
   "outputs": [
    {
     "data": {
      "text/html": [
       "<div>\n",
       "<style>\n",
       "    .dataframe thead tr:only-child th {\n",
       "        text-align: right;\n",
       "    }\n",
       "\n",
       "    .dataframe thead th {\n",
       "        text-align: left;\n",
       "    }\n",
       "\n",
       "    .dataframe tbody tr th {\n",
       "        vertical-align: top;\n",
       "    }\n",
       "</style>\n",
       "<table border=\"1\" class=\"dataframe\">\n",
       "  <thead>\n",
       "    <tr style=\"text-align: right;\">\n",
       "      <th></th>\n",
       "      <th>res15_max_prob_label</th>\n",
       "      <th>gmean_max_prob_label</th>\n",
       "      <th>gmean_squared_ex_res_fifthteen_max_prob_label</th>\n",
       "      <th>mean_max_prob_label</th>\n",
       "      <th>gmean_squared_max_prob_label</th>\n",
       "      <th>true_label</th>\n",
       "    </tr>\n",
       "  </thead>\n",
       "  <tbody>\n",
       "    <tr>\n",
       "      <th>782</th>\n",
       "      <td>stop</td>\n",
       "      <td>unknown</td>\n",
       "      <td>unknown</td>\n",
       "      <td>right</td>\n",
       "      <td>unknown</td>\n",
       "      <td>unknown</td>\n",
       "    </tr>\n",
       "    <tr>\n",
       "      <th>2673</th>\n",
       "      <td>unknown</td>\n",
       "      <td>left</td>\n",
       "      <td>left</td>\n",
       "      <td>right</td>\n",
       "      <td>left</td>\n",
       "      <td>right</td>\n",
       "    </tr>\n",
       "    <tr>\n",
       "      <th>2835</th>\n",
       "      <td>yes</td>\n",
       "      <td>no</td>\n",
       "      <td>no</td>\n",
       "      <td>no</td>\n",
       "      <td>no</td>\n",
       "      <td>unknown</td>\n",
       "    </tr>\n",
       "    <tr>\n",
       "      <th>1128</th>\n",
       "      <td>silence</td>\n",
       "      <td>left</td>\n",
       "      <td>left</td>\n",
       "      <td>unknown</td>\n",
       "      <td>left</td>\n",
       "      <td>unknown</td>\n",
       "    </tr>\n",
       "    <tr>\n",
       "      <th>1888</th>\n",
       "      <td>go</td>\n",
       "      <td>unknown</td>\n",
       "      <td>unknown</td>\n",
       "      <td>unknown</td>\n",
       "      <td>unknown</td>\n",
       "      <td>unknown</td>\n",
       "    </tr>\n",
       "    <tr>\n",
       "      <th>1442</th>\n",
       "      <td>off</td>\n",
       "      <td>up</td>\n",
       "      <td>up</td>\n",
       "      <td>up</td>\n",
       "      <td>up</td>\n",
       "      <td>up</td>\n",
       "    </tr>\n",
       "    <tr>\n",
       "      <th>3189</th>\n",
       "      <td>unknown</td>\n",
       "      <td>go</td>\n",
       "      <td>go</td>\n",
       "      <td>yes</td>\n",
       "      <td>go</td>\n",
       "      <td>go</td>\n",
       "    </tr>\n",
       "    <tr>\n",
       "      <th>2526</th>\n",
       "      <td>silence</td>\n",
       "      <td>off</td>\n",
       "      <td>off</td>\n",
       "      <td>off</td>\n",
       "      <td>off</td>\n",
       "      <td>unknown</td>\n",
       "    </tr>\n",
       "    <tr>\n",
       "      <th>3095</th>\n",
       "      <td>stop</td>\n",
       "      <td>unknown</td>\n",
       "      <td>unknown</td>\n",
       "      <td>unknown</td>\n",
       "      <td>unknown</td>\n",
       "      <td>unknown</td>\n",
       "    </tr>\n",
       "    <tr>\n",
       "      <th>1385</th>\n",
       "      <td>silence</td>\n",
       "      <td>unknown</td>\n",
       "      <td>unknown</td>\n",
       "      <td>down</td>\n",
       "      <td>unknown</td>\n",
       "      <td>down</td>\n",
       "    </tr>\n",
       "    <tr>\n",
       "      <th>1063</th>\n",
       "      <td>left</td>\n",
       "      <td>up</td>\n",
       "      <td>up</td>\n",
       "      <td>up</td>\n",
       "      <td>up</td>\n",
       "      <td>unknown</td>\n",
       "    </tr>\n",
       "    <tr>\n",
       "      <th>1497</th>\n",
       "      <td>yes</td>\n",
       "      <td>unknown</td>\n",
       "      <td>unknown</td>\n",
       "      <td>unknown</td>\n",
       "      <td>unknown</td>\n",
       "      <td>unknown</td>\n",
       "    </tr>\n",
       "    <tr>\n",
       "      <th>39</th>\n",
       "      <td>stop</td>\n",
       "      <td>unknown</td>\n",
       "      <td>unknown</td>\n",
       "      <td>unknown</td>\n",
       "      <td>unknown</td>\n",
       "      <td>unknown</td>\n",
       "    </tr>\n",
       "    <tr>\n",
       "      <th>1867</th>\n",
       "      <td>silence</td>\n",
       "      <td>unknown</td>\n",
       "      <td>up</td>\n",
       "      <td>up</td>\n",
       "      <td>unknown</td>\n",
       "      <td>unknown</td>\n",
       "    </tr>\n",
       "    <tr>\n",
       "      <th>2050</th>\n",
       "      <td>up</td>\n",
       "      <td>unknown</td>\n",
       "      <td>unknown</td>\n",
       "      <td>unknown</td>\n",
       "      <td>unknown</td>\n",
       "      <td>unknown</td>\n",
       "    </tr>\n",
       "    <tr>\n",
       "      <th>2091</th>\n",
       "      <td>up</td>\n",
       "      <td>unknown</td>\n",
       "      <td>unknown</td>\n",
       "      <td>yes</td>\n",
       "      <td>unknown</td>\n",
       "      <td>unknown</td>\n",
       "    </tr>\n",
       "    <tr>\n",
       "      <th>2364</th>\n",
       "      <td>silence</td>\n",
       "      <td>unknown</td>\n",
       "      <td>unknown</td>\n",
       "      <td>unknown</td>\n",
       "      <td>unknown</td>\n",
       "      <td>unknown</td>\n",
       "    </tr>\n",
       "    <tr>\n",
       "      <th>2343</th>\n",
       "      <td>down</td>\n",
       "      <td>no</td>\n",
       "      <td>no</td>\n",
       "      <td>no</td>\n",
       "      <td>no</td>\n",
       "      <td>no</td>\n",
       "    </tr>\n",
       "    <tr>\n",
       "      <th>1878</th>\n",
       "      <td>up</td>\n",
       "      <td>silence</td>\n",
       "      <td>silence</td>\n",
       "      <td>silence</td>\n",
       "      <td>silence</td>\n",
       "      <td>no</td>\n",
       "    </tr>\n",
       "    <tr>\n",
       "      <th>298</th>\n",
       "      <td>stop</td>\n",
       "      <td>left</td>\n",
       "      <td>left</td>\n",
       "      <td>yes</td>\n",
       "      <td>left</td>\n",
       "      <td>yes</td>\n",
       "    </tr>\n",
       "    <tr>\n",
       "      <th>1243</th>\n",
       "      <td>silence</td>\n",
       "      <td>up</td>\n",
       "      <td>up</td>\n",
       "      <td>up</td>\n",
       "      <td>up</td>\n",
       "      <td>up</td>\n",
       "    </tr>\n",
       "    <tr>\n",
       "      <th>1218</th>\n",
       "      <td>yes</td>\n",
       "      <td>unknown</td>\n",
       "      <td>unknown</td>\n",
       "      <td>unknown</td>\n",
       "      <td>unknown</td>\n",
       "      <td>unknown</td>\n",
       "    </tr>\n",
       "    <tr>\n",
       "      <th>411</th>\n",
       "      <td>left</td>\n",
       "      <td>unknown</td>\n",
       "      <td>unknown</td>\n",
       "      <td>unknown</td>\n",
       "      <td>unknown</td>\n",
       "      <td>unknown</td>\n",
       "    </tr>\n",
       "    <tr>\n",
       "      <th>2939</th>\n",
       "      <td>silence</td>\n",
       "      <td>unknown</td>\n",
       "      <td>unknown</td>\n",
       "      <td>go</td>\n",
       "      <td>unknown</td>\n",
       "      <td>unknown</td>\n",
       "    </tr>\n",
       "    <tr>\n",
       "      <th>3169</th>\n",
       "      <td>up</td>\n",
       "      <td>no</td>\n",
       "      <td>no</td>\n",
       "      <td>no</td>\n",
       "      <td>no</td>\n",
       "      <td>no</td>\n",
       "    </tr>\n",
       "    <tr>\n",
       "      <th>1079</th>\n",
       "      <td>silence</td>\n",
       "      <td>stop</td>\n",
       "      <td>unknown</td>\n",
       "      <td>stop</td>\n",
       "      <td>stop</td>\n",
       "      <td>stop</td>\n",
       "    </tr>\n",
       "  </tbody>\n",
       "</table>\n",
       "</div>"
      ],
      "text/plain": [
       "     res15_max_prob_label gmean_max_prob_label  \\\n",
       "782                  stop              unknown   \n",
       "2673              unknown                 left   \n",
       "2835                  yes                   no   \n",
       "1128              silence                 left   \n",
       "1888                   go              unknown   \n",
       "1442                  off                   up   \n",
       "3189              unknown                   go   \n",
       "2526              silence                  off   \n",
       "3095                 stop              unknown   \n",
       "1385              silence              unknown   \n",
       "1063                 left                   up   \n",
       "1497                  yes              unknown   \n",
       "39                   stop              unknown   \n",
       "1867              silence              unknown   \n",
       "2050                   up              unknown   \n",
       "2091                   up              unknown   \n",
       "2364              silence              unknown   \n",
       "2343                 down                   no   \n",
       "1878                   up              silence   \n",
       "298                  stop                 left   \n",
       "1243              silence                   up   \n",
       "1218                  yes              unknown   \n",
       "411                  left              unknown   \n",
       "2939              silence              unknown   \n",
       "3169                   up                   no   \n",
       "1079              silence                 stop   \n",
       "\n",
       "     gmean_squared_ex_res_fifthteen_max_prob_label mean_max_prob_label  \\\n",
       "782                                        unknown               right   \n",
       "2673                                          left               right   \n",
       "2835                                            no                  no   \n",
       "1128                                          left             unknown   \n",
       "1888                                       unknown             unknown   \n",
       "1442                                            up                  up   \n",
       "3189                                            go                 yes   \n",
       "2526                                           off                 off   \n",
       "3095                                       unknown             unknown   \n",
       "1385                                       unknown                down   \n",
       "1063                                            up                  up   \n",
       "1497                                       unknown             unknown   \n",
       "39                                         unknown             unknown   \n",
       "1867                                            up                  up   \n",
       "2050                                       unknown             unknown   \n",
       "2091                                       unknown                 yes   \n",
       "2364                                       unknown             unknown   \n",
       "2343                                            no                  no   \n",
       "1878                                       silence             silence   \n",
       "298                                           left                 yes   \n",
       "1243                                            up                  up   \n",
       "1218                                       unknown             unknown   \n",
       "411                                        unknown             unknown   \n",
       "2939                                       unknown                  go   \n",
       "3169                                            no                  no   \n",
       "1079                                       unknown                stop   \n",
       "\n",
       "     gmean_squared_max_prob_label true_label  \n",
       "782                       unknown    unknown  \n",
       "2673                         left      right  \n",
       "2835                           no    unknown  \n",
       "1128                         left    unknown  \n",
       "1888                      unknown    unknown  \n",
       "1442                           up         up  \n",
       "3189                           go         go  \n",
       "2526                          off    unknown  \n",
       "3095                      unknown    unknown  \n",
       "1385                      unknown       down  \n",
       "1063                           up    unknown  \n",
       "1497                      unknown    unknown  \n",
       "39                        unknown    unknown  \n",
       "1867                      unknown    unknown  \n",
       "2050                      unknown    unknown  \n",
       "2091                      unknown    unknown  \n",
       "2364                      unknown    unknown  \n",
       "2343                           no         no  \n",
       "1878                      silence         no  \n",
       "298                          left        yes  \n",
       "1243                           up         up  \n",
       "1218                      unknown    unknown  \n",
       "411                       unknown    unknown  \n",
       "2939                      unknown    unknown  \n",
       "3169                           no         no  \n",
       "1079                         stop       stop  "
      ]
     },
     "execution_count": 51,
     "metadata": {},
     "output_type": "execute_result"
    }
   ],
   "source": [
    "common_valid[((common_valid.res8_max_prob_label == common_valid.true_label) |\n",
    "             (common_valid.res15_max_prob_label == common_valid.true_label)) &\n",
    "             (common_valid.res15_max_prob_label != common_valid.true_label)][ensemble.columns]"
   ]
  },
  {
   "cell_type": "code",
   "execution_count": 53,
   "metadata": {},
   "outputs": [
    {
     "data": {
      "text/plain": [
       "(3208, 103)"
      ]
     },
     "execution_count": 53,
     "metadata": {},
     "output_type": "execute_result"
    }
   ],
   "source": [
    "common_valid.shape"
   ]
  },
  {
   "cell_type": "code",
   "execution_count": 55,
   "metadata": {},
   "outputs": [
    {
     "name": "stdout",
     "output_type": "stream",
     "text": [
      "0.9021197007481296\n",
      "0.9102244389027432\n"
     ]
    }
   ],
   "source": [
    "# res15 дает 2894 из 3208\n",
    "print(2894 / 3208)\n",
    "print((2894 + 26) / 3208)"
   ]
  },
  {
   "cell_type": "markdown",
   "metadata": {},
   "source": [
    "негусто, но что-то"
   ]
  },
  {
   "cell_type": "code",
   "execution_count": null,
   "metadata": {},
   "outputs": [],
   "source": []
  },
  {
   "cell_type": "code",
   "execution_count": null,
   "metadata": {},
   "outputs": [],
   "source": []
  },
  {
   "cell_type": "code",
   "execution_count": 41,
   "metadata": {},
   "outputs": [],
   "source": [
    "res15 = pd.read_csv('../probs_subs/mix_model_res15.txt')\n",
    "\n",
    "res26 = pd.read_csv('../probs_subs/mix_model_res26.txt')\n",
    "\n",
    "res8 = pd.read_csv('../probs_subs/mix_model_res8.txt')"
   ]
  },
  {
   "cell_type": "code",
   "execution_count": 42,
   "metadata": {},
   "outputs": [
    {
     "name": "stderr",
     "output_type": "stream",
     "text": [
      "/home/egor/tensorflow/lib/python3.5/site-packages/ipykernel_launcher.py:1: FutureWarning: currently extract(expand=None) means expand=False (return Index/Series/DataFrame) but in a future version of pandas this will be changed to expand=True (return DataFrame)\n",
      "  \"\"\"Entry point for launching an IPython kernel.\n"
     ]
    }
   ],
   "source": [
    "res15['label'] = res15[[col for col in res15.columns if 'prob' in col]].idxmax(axis=1).str.extract('(\\d+)').astype(int)"
   ]
  },
  {
   "cell_type": "code",
   "execution_count": 51,
   "metadata": {},
   "outputs": [],
   "source": [
    "res15[['fname', 'label']].to_csv('res15.csv', index=False)"
   ]
  },
  {
   "cell_type": "code",
   "execution_count": 48,
   "metadata": {},
   "outputs": [],
   "source": [
    "res15['label'] = res15['label'].map(label2word)"
   ]
  },
  {
   "cell_type": "code",
   "execution_count": 49,
   "metadata": {},
   "outputs": [],
   "source": [
    "res15['label'] = res15['label'].map(label2word)"
   ]
  },
  {
   "cell_type": "code",
   "execution_count": 52,
   "metadata": {},
   "outputs": [],
   "source": [
    "sol085 = pd.read_csv('../submissions/submission_mix_noises_updated.txt')"
   ]
  },
  {
   "cell_type": "code",
   "execution_count": 59,
   "metadata": {},
   "outputs": [
    {
     "data": {
      "text/html": [
       "<div>\n",
       "<style>\n",
       "    .dataframe thead tr:only-child th {\n",
       "        text-align: right;\n",
       "    }\n",
       "\n",
       "    .dataframe thead th {\n",
       "        text-align: left;\n",
       "    }\n",
       "\n",
       "    .dataframe tbody tr th {\n",
       "        vertical-align: top;\n",
       "    }\n",
       "</style>\n",
       "<table border=\"1\" class=\"dataframe\">\n",
       "  <thead>\n",
       "    <tr style=\"text-align: right;\">\n",
       "      <th></th>\n",
       "      <th>fname</th>\n",
       "      <th>label</th>\n",
       "    </tr>\n",
       "  </thead>\n",
       "  <tbody>\n",
       "    <tr>\n",
       "      <th>71424</th>\n",
       "      <td>clip_000044442.wav</td>\n",
       "      <td>no</td>\n",
       "    </tr>\n",
       "    <tr>\n",
       "      <th>158031</th>\n",
       "      <td>clip_0000adecb.wav</td>\n",
       "      <td>unknown</td>\n",
       "    </tr>\n",
       "    <tr>\n",
       "      <th>50617</th>\n",
       "      <td>clip_0000d4322.wav</td>\n",
       "      <td>unknown</td>\n",
       "    </tr>\n",
       "    <tr>\n",
       "      <th>86558</th>\n",
       "      <td>clip_0000fb6fe.wav</td>\n",
       "      <td>unknown</td>\n",
       "    </tr>\n",
       "    <tr>\n",
       "      <th>107514</th>\n",
       "      <td>clip_0001d1559.wav</td>\n",
       "      <td>unknown</td>\n",
       "    </tr>\n",
       "  </tbody>\n",
       "</table>\n",
       "</div>"
      ],
      "text/plain": [
       "                     fname    label\n",
       "71424   clip_000044442.wav       no\n",
       "158031  clip_0000adecb.wav  unknown\n",
       "50617   clip_0000d4322.wav  unknown\n",
       "86558   clip_0000fb6fe.wav  unknown\n",
       "107514  clip_0001d1559.wav  unknown"
      ]
     },
     "execution_count": 59,
     "metadata": {},
     "output_type": "execute_result"
    }
   ],
   "source": [
    "sol085.sort_values(by='fname', inplace=True)\n",
    "sol085.head()"
   ]
  },
  {
   "cell_type": "code",
   "execution_count": 60,
   "metadata": {},
   "outputs": [
    {
     "data": {
      "text/html": [
       "<div>\n",
       "<style>\n",
       "    .dataframe thead tr:only-child th {\n",
       "        text-align: right;\n",
       "    }\n",
       "\n",
       "    .dataframe thead th {\n",
       "        text-align: left;\n",
       "    }\n",
       "\n",
       "    .dataframe tbody tr th {\n",
       "        vertical-align: top;\n",
       "    }\n",
       "</style>\n",
       "<table border=\"1\" class=\"dataframe\">\n",
       "  <thead>\n",
       "    <tr style=\"text-align: right;\">\n",
       "      <th></th>\n",
       "      <th>fname</th>\n",
       "      <th>prob_0</th>\n",
       "      <th>prob_1</th>\n",
       "      <th>prob_2</th>\n",
       "      <th>prob_3</th>\n",
       "      <th>prob_4</th>\n",
       "      <th>prob_5</th>\n",
       "      <th>prob_6</th>\n",
       "      <th>prob_7</th>\n",
       "      <th>prob_8</th>\n",
       "      <th>prob_9</th>\n",
       "      <th>prob_10</th>\n",
       "      <th>prob_11</th>\n",
       "      <th>label</th>\n",
       "    </tr>\n",
       "  </thead>\n",
       "  <tbody>\n",
       "    <tr>\n",
       "      <th>101340</th>\n",
       "      <td>clip_000044442.wav</td>\n",
       "      <td>-0.977384</td>\n",
       "      <td>-1.348111</td>\n",
       "      <td>2.131595</td>\n",
       "      <td>10.426859</td>\n",
       "      <td>-4.485994</td>\n",
       "      <td>5.713288</td>\n",
       "      <td>-2.758749</td>\n",
       "      <td>0.012697</td>\n",
       "      <td>-2.613747</td>\n",
       "      <td>-3.857974</td>\n",
       "      <td>-6.275019</td>\n",
       "      <td>3.524774</td>\n",
       "      <td>no</td>\n",
       "    </tr>\n",
       "    <tr>\n",
       "      <th>124379</th>\n",
       "      <td>clip_0000adecb.wav</td>\n",
       "      <td>-2.354270</td>\n",
       "      <td>7.805121</td>\n",
       "      <td>1.053384</td>\n",
       "      <td>-3.319956</td>\n",
       "      <td>-2.274884</td>\n",
       "      <td>1.480882</td>\n",
       "      <td>-3.501911</td>\n",
       "      <td>-0.289700</td>\n",
       "      <td>-1.475971</td>\n",
       "      <td>-3.287670</td>\n",
       "      <td>2.148622</td>\n",
       "      <td>2.826076</td>\n",
       "      <td>unknown</td>\n",
       "    </tr>\n",
       "    <tr>\n",
       "      <th>138910</th>\n",
       "      <td>clip_0000d4322.wav</td>\n",
       "      <td>-4.655570</td>\n",
       "      <td>7.682039</td>\n",
       "      <td>-3.166668</td>\n",
       "      <td>-1.656624</td>\n",
       "      <td>-5.331973</td>\n",
       "      <td>5.172206</td>\n",
       "      <td>-3.183746</td>\n",
       "      <td>-1.311582</td>\n",
       "      <td>-0.043383</td>\n",
       "      <td>-0.962119</td>\n",
       "      <td>3.987596</td>\n",
       "      <td>2.065382</td>\n",
       "      <td>unknown</td>\n",
       "    </tr>\n",
       "    <tr>\n",
       "      <th>109977</th>\n",
       "      <td>clip_0000fb6fe.wav</td>\n",
       "      <td>-0.059371</td>\n",
       "      <td>0.897257</td>\n",
       "      <td>0.027694</td>\n",
       "      <td>-0.824628</td>\n",
       "      <td>2.066972</td>\n",
       "      <td>-0.906270</td>\n",
       "      <td>0.790950</td>\n",
       "      <td>1.427714</td>\n",
       "      <td>-2.442889</td>\n",
       "      <td>-1.878847</td>\n",
       "      <td>0.811910</td>\n",
       "      <td>0.175236</td>\n",
       "      <td>up</td>\n",
       "    </tr>\n",
       "    <tr>\n",
       "      <th>134530</th>\n",
       "      <td>clip_0001d1559.wav</td>\n",
       "      <td>-3.948608</td>\n",
       "      <td>9.243481</td>\n",
       "      <td>-0.739165</td>\n",
       "      <td>-0.147731</td>\n",
       "      <td>-4.242608</td>\n",
       "      <td>1.361280</td>\n",
       "      <td>-3.195101</td>\n",
       "      <td>1.705395</td>\n",
       "      <td>1.064723</td>\n",
       "      <td>-2.168180</td>\n",
       "      <td>-2.613084</td>\n",
       "      <td>2.581058</td>\n",
       "      <td>unknown</td>\n",
       "    </tr>\n",
       "  </tbody>\n",
       "</table>\n",
       "</div>"
      ],
      "text/plain": [
       "                     fname    prob_0    prob_1    prob_2     prob_3    prob_4  \\\n",
       "101340  clip_000044442.wav -0.977384 -1.348111  2.131595  10.426859 -4.485994   \n",
       "124379  clip_0000adecb.wav -2.354270  7.805121  1.053384  -3.319956 -2.274884   \n",
       "138910  clip_0000d4322.wav -4.655570  7.682039 -3.166668  -1.656624 -5.331973   \n",
       "109977  clip_0000fb6fe.wav -0.059371  0.897257  0.027694  -0.824628  2.066972   \n",
       "134530  clip_0001d1559.wav -3.948608  9.243481 -0.739165  -0.147731 -4.242608   \n",
       "\n",
       "          prob_5    prob_6    prob_7    prob_8    prob_9   prob_10   prob_11  \\\n",
       "101340  5.713288 -2.758749  0.012697 -2.613747 -3.857974 -6.275019  3.524774   \n",
       "124379  1.480882 -3.501911 -0.289700 -1.475971 -3.287670  2.148622  2.826076   \n",
       "138910  5.172206 -3.183746 -1.311582 -0.043383 -0.962119  3.987596  2.065382   \n",
       "109977 -0.906270  0.790950  1.427714 -2.442889 -1.878847  0.811910  0.175236   \n",
       "134530  1.361280 -3.195101  1.705395  1.064723 -2.168180 -2.613084  2.581058   \n",
       "\n",
       "          label  \n",
       "101340       no  \n",
       "124379  unknown  \n",
       "138910  unknown  \n",
       "109977       up  \n",
       "134530  unknown  "
      ]
     },
     "execution_count": 60,
     "metadata": {},
     "output_type": "execute_result"
    }
   ],
   "source": [
    "res15.sort_values(by='fname', inplace=True)\n",
    "res15.head()"
   ]
  },
  {
   "cell_type": "code",
   "execution_count": 61,
   "metadata": {},
   "outputs": [],
   "source": [
    "res15['085_sol'] = sol085['label']"
   ]
  },
  {
   "cell_type": "code",
   "execution_count": null,
   "metadata": {},
   "outputs": [],
   "source": []
  },
  {
   "cell_type": "code",
   "execution_count": null,
   "metadata": {},
   "outputs": [],
   "source": []
  },
  {
   "cell_type": "code",
   "execution_count": null,
   "metadata": {},
   "outputs": [],
   "source": []
  },
  {
   "cell_type": "code",
   "execution_count": null,
   "metadata": {},
   "outputs": [],
   "source": []
  },
  {
   "cell_type": "code",
   "execution_count": null,
   "metadata": {},
   "outputs": [],
   "source": []
  },
  {
   "cell_type": "code",
   "execution_count": null,
   "metadata": {},
   "outputs": [],
   "source": []
  },
  {
   "cell_type": "code",
   "execution_count": null,
   "metadata": {},
   "outputs": [],
   "source": []
  },
  {
   "cell_type": "code",
   "execution_count": null,
   "metadata": {},
   "outputs": [],
   "source": []
  },
  {
   "cell_type": "code",
   "execution_count": null,
   "metadata": {},
   "outputs": [],
   "source": []
  },
  {
   "cell_type": "code",
   "execution_count": 6,
   "metadata": {},
   "outputs": [],
   "source": [
    "res15['sum'] = res15['prob_0'] + res15['prob_1'] + res15['prob_2'] + res15['prob_3'] + res15['prob_4'] + \\\n",
    "               res15['prob_5'] + res15['prob_6'] + res15['prob_7'] + res15['prob_8'] + res15['prob_9'] + \\\n",
    "               res15['prob_10'] + res15['prob_11']"
   ]
  },
  {
   "cell_type": "code",
   "execution_count": 9,
   "metadata": {},
   "outputs": [
    {
     "data": {
      "text/plain": [
       "count    158538.000000\n",
       "mean         -0.429559\n",
       "std           0.802099\n",
       "min          -4.248121\n",
       "25%          -0.918870\n",
       "50%          -0.423918\n",
       "75%           0.041790\n",
       "max           1.843294\n",
       "Name: sum, dtype: float64"
      ]
     },
     "execution_count": 9,
     "metadata": {},
     "output_type": "execute_result"
    }
   ],
   "source": [
    "res15['sum'].describe()"
   ]
  },
  {
   "cell_type": "code",
   "execution_count": 10,
   "metadata": {},
   "outputs": [],
   "source": [
    "res26['sum'] = res26['prob_0'] + res26['prob_1'] + res26['prob_2'] + res26['prob_3'] + res26['prob_4'] + \\\n",
    "               res26['prob_5'] + res26['prob_6'] + res26['prob_7'] + res26['prob_8'] + res26['prob_9'] + \\\n",
    "               res26['prob_10'] + res26['prob_11']"
   ]
  },
  {
   "cell_type": "code",
   "execution_count": 11,
   "metadata": {},
   "outputs": [
    {
     "data": {
      "text/plain": [
       "count    158538.000000\n",
       "mean         -0.543636\n",
       "std           0.612085\n",
       "min          -3.676363\n",
       "25%          -0.843397\n",
       "50%          -0.468640\n",
       "75%          -0.141315\n",
       "max           1.217290\n",
       "Name: sum, dtype: float64"
      ]
     },
     "execution_count": 11,
     "metadata": {},
     "output_type": "execute_result"
    }
   ],
   "source": [
    "res26['sum'].describe()"
   ]
  },
  {
   "cell_type": "code",
   "execution_count": 14,
   "metadata": {},
   "outputs": [],
   "source": [
    "res8['sum'] = res8['prob_0'] + res8['prob_1'] + res8['prob_2'] + res8['prob_3'] + res8['prob_4'] + \\\n",
    "               res8['prob_5'] + res8['prob_6'] + res8['prob_7'] + res8['prob_8'] + res8['prob_9'] + \\\n",
    "               res8['prob_10'] + res8['prob_11']"
   ]
  },
  {
   "cell_type": "code",
   "execution_count": 15,
   "metadata": {},
   "outputs": [
    {
     "data": {
      "text/plain": [
       "count    158538.000000\n",
       "mean          0.130686\n",
       "std           0.394445\n",
       "min          -1.761701\n",
       "25%          -0.103157\n",
       "50%           0.145098\n",
       "75%           0.374886\n",
       "max           1.561545\n",
       "Name: sum, dtype: float64"
      ]
     },
     "execution_count": 15,
     "metadata": {},
     "output_type": "execute_result"
    }
   ],
   "source": [
    "res8['sum'].describe()"
   ]
  },
  {
   "cell_type": "code",
   "execution_count": null,
   "metadata": {},
   "outputs": [],
   "source": []
  },
  {
   "cell_type": "code",
   "execution_count": null,
   "metadata": {},
   "outputs": [],
   "source": []
  },
  {
   "cell_type": "code",
   "execution_count": null,
   "metadata": {},
   "outputs": [],
   "source": []
  },
  {
   "cell_type": "code",
   "execution_count": null,
   "metadata": {},
   "outputs": [],
   "source": []
  },
  {
   "cell_type": "code",
   "execution_count": null,
   "metadata": {},
   "outputs": [],
   "source": []
  },
  {
   "cell_type": "code",
   "execution_count": null,
   "metadata": {},
   "outputs": [],
   "source": []
  }
 ],
 "metadata": {
  "kernelspec": {
   "display_name": "Python 3",
   "language": "python",
   "name": "python3"
  },
  "language_info": {
   "codemirror_mode": {
    "name": "ipython",
    "version": 3
   },
   "file_extension": ".py",
   "mimetype": "text/x-python",
   "name": "python",
   "nbconvert_exporter": "python",
   "pygments_lexer": "ipython3",
   "version": "3.5.2"
  }
 },
 "nbformat": 4,
 "nbformat_minor": 2
}
