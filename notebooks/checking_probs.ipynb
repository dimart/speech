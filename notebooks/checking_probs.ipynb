{
 "cells": [
  {
   "cell_type": "code",
   "execution_count": 62,
   "metadata": {},
   "outputs": [],
   "source": [
    "import pandas as pd\n",
    "import numpy as np"
   ]
  },
  {
   "cell_type": "code",
   "execution_count": 63,
   "metadata": {},
   "outputs": [],
   "source": [
    "res15_valid = pd.read_csv('../probs_subs/check_res15_updated_file.txt')\n",
    "\n",
    "res26_valid = pd.read_csv('../probs_subs/check_res26_updated_file.txt')\n",
    "\n",
    "res8_valid = pd.read_csv('../probs_subs/check_res8_updated_file.txt')"
   ]
  },
  {
   "cell_type": "code",
   "execution_count": 64,
   "metadata": {},
   "outputs": [],
   "source": [
    "res15_valid.sort_values(by='fname', inplace=True)\n",
    "res26_valid.sort_values(by='fname', inplace=True)\n",
    "res8_valid.sort_values(by='fname', inplace=True)"
   ]
  },
  {
   "cell_type": "code",
   "execution_count": 65,
   "metadata": {},
   "outputs": [],
   "source": [
    "res15_valid['cat'] = [s[-2] for s in res15_valid['fname'].str.rsplit('/')]\n",
    "res15_valid['hash'] = [s[-1] for s in res15_valid['fname'].str.rsplit('/')]\n",
    "\n",
    "res15_valid['fname'] = res15_valid['cat'] + '/' + res15_valid['hash']"
   ]
  },
  {
   "cell_type": "code",
   "execution_count": 66,
   "metadata": {},
   "outputs": [],
   "source": [
    "res26_valid['cat'] = [s[-2] for s in res26_valid['fname'].str.rsplit('/')]\n",
    "res26_valid['hash'] = [s[-1] for s in res26_valid['fname'].str.rsplit('/')]\n",
    "\n",
    "res26_valid['fname'] = res26_valid['cat'] + '/' + res26_valid['hash']\n",
    "\n",
    "res8_valid['cat'] = [s[-2] for s in res8_valid['fname'].str.rsplit('/')]\n",
    "res8_valid['hash'] = [s[-1] for s in res8_valid['fname'].str.rsplit('/')]\n",
    "\n",
    "res8_valid['fname'] = res8_valid['cat'] + '/' + res8_valid['hash']"
   ]
  },
  {
   "cell_type": "code",
   "execution_count": 67,
   "metadata": {},
   "outputs": [
    {
     "data": {
      "text/plain": [
       "up        272\n",
       "left      267\n",
       "off       262\n",
       "right     259\n",
       "yes       256\n",
       "down      253\n",
       "no        252\n",
       "go        251\n",
       "stop      249\n",
       "on        246\n",
       "eight      53\n",
       "five       40\n",
       "seven      40\n",
       "one        39\n",
       "six        38\n",
       "zero       37\n",
       "bed        37\n",
       "three      36\n",
       "four       34\n",
       "sheila     33\n",
       "house      33\n",
       "nine       32\n",
       "wow        30\n",
       "two        30\n",
       "happy      26\n",
       "dog        23\n",
       "cat        22\n",
       "marvin     21\n",
       "bird       20\n",
       "tree       17\n",
       "Name: cat, dtype: int64"
      ]
     },
     "execution_count": 67,
     "metadata": {},
     "output_type": "execute_result"
    }
   ],
   "source": [
    "res15_valid['cat'].value_counts()"
   ]
  },
  {
   "cell_type": "code",
   "execution_count": 68,
   "metadata": {},
   "outputs": [
    {
     "data": {
      "text/plain": [
       "0"
      ]
     },
     "execution_count": 68,
     "metadata": {},
     "output_type": "execute_result"
    }
   ],
   "source": [
    "(res26_valid['fname'] != res8_valid['fname'] ).sum()"
   ]
  },
  {
   "cell_type": "code",
   "execution_count": 69,
   "metadata": {},
   "outputs": [
    {
     "data": {
      "text/plain": [
       "0"
      ]
     },
     "execution_count": 69,
     "metadata": {},
     "output_type": "execute_result"
    }
   ],
   "source": [
    "(res15_valid['fname'] != res8_valid['fname'] ).sum()"
   ]
  },
  {
   "cell_type": "code",
   "execution_count": 70,
   "metadata": {},
   "outputs": [],
   "source": [
    "res26_valid.drop(['fname', 'label'], axis=1, inplace=True)\n",
    "res8_valid.drop(['fname', 'label'], axis=1, inplace=True)"
   ]
  },
  {
   "cell_type": "code",
   "execution_count": 71,
   "metadata": {},
   "outputs": [
    {
     "name": "stderr",
     "output_type": "stream",
     "text": [
      "/home/egor/tensorflow/lib/python3.5/site-packages/ipykernel_launcher.py:1: FutureWarning: currently extract(expand=None) means expand=False (return Index/Series/DataFrame) but in a future version of pandas this will be changed to expand=True (return DataFrame)\n",
      "  \"\"\"Entry point for launching an IPython kernel.\n",
      "/home/egor/tensorflow/lib/python3.5/site-packages/ipykernel_launcher.py:2: FutureWarning: currently extract(expand=None) means expand=False (return Index/Series/DataFrame) but in a future version of pandas this will be changed to expand=True (return DataFrame)\n",
      "  \n",
      "/home/egor/tensorflow/lib/python3.5/site-packages/ipykernel_launcher.py:3: FutureWarning: currently extract(expand=None) means expand=False (return Index/Series/DataFrame) but in a future version of pandas this will be changed to expand=True (return DataFrame)\n",
      "  This is separate from the ipykernel package so we can avoid doing imports until\n"
     ]
    }
   ],
   "source": [
    "res26_valid['max_prob'] = res26_valid[[col for col in res26_valid.columns if 'prob' in col]].idxmax(axis=1).str.extract('(\\d+)').astype(int)\n",
    "res8_valid['max_prob'] = res8_valid[[col for col in res8_valid.columns if 'prob' in col]].idxmax(axis=1).str.extract('(\\d+)').astype(int)\n",
    "res15_valid['max_prob'] = res15_valid[[col for col in res15_valid.columns if 'prob' in col]].idxmax(axis=1).str.extract('(\\d+)').astype(int)"
   ]
  },
  {
   "cell_type": "code",
   "execution_count": 72,
   "metadata": {},
   "outputs": [],
   "source": [
    "label2word = {0: 'silence',\n",
    " 1: 'unknown',\n",
    " 2: 'yes',\n",
    " 3: 'no',\n",
    " 4: 'up',\n",
    " 5: 'down',\n",
    " 6: 'left',\n",
    " 7: 'right',\n",
    " 8: 'on',\n",
    " 9: 'off',\n",
    " 10: 'stop',\n",
    " 11: 'go'}\n",
    "\n",
    "res26_valid['max_prob_label'] = res26_valid['max_prob'].map(label2word)\n",
    "res8_valid['max_prob_label'] = res8_valid['max_prob'].map(label2word)\n",
    "res15_valid['max_prob_label'] = res15_valid['max_prob'].map(label2word)"
   ]
  },
  {
   "cell_type": "code",
   "execution_count": 73,
   "metadata": {},
   "outputs": [],
   "source": [
    "res15_valid.columns = ['res15_' + col for col in res15_valid.columns]"
   ]
  },
  {
   "cell_type": "code",
   "execution_count": 74,
   "metadata": {},
   "outputs": [],
   "source": [
    "res8_valid.columns = ['res8_' + col for col in res8_valid.columns]"
   ]
  },
  {
   "cell_type": "code",
   "execution_count": 75,
   "metadata": {},
   "outputs": [],
   "source": [
    "res26_valid.columns = ['res26_' + col for col in res26_valid.columns]"
   ]
  },
  {
   "cell_type": "code",
   "execution_count": 76,
   "metadata": {},
   "outputs": [],
   "source": [
    "common_valid = pd.concat([res8_valid, res26_valid, res15_valid], axis=1)"
   ]
  },
  {
   "cell_type": "code",
   "execution_count": null,
   "metadata": {},
   "outputs": [],
   "source": []
  },
  {
   "cell_type": "code",
   "execution_count": null,
   "metadata": {},
   "outputs": [],
   "source": []
  },
  {
   "cell_type": "code",
   "execution_count": null,
   "metadata": {},
   "outputs": [],
   "source": []
  },
  {
   "cell_type": "code",
   "execution_count": null,
   "metadata": {},
   "outputs": [],
   "source": []
  },
  {
   "cell_type": "code",
   "execution_count": null,
   "metadata": {},
   "outputs": [],
   "source": []
  },
  {
   "cell_type": "code",
   "execution_count": null,
   "metadata": {},
   "outputs": [],
   "source": []
  },
  {
   "cell_type": "code",
   "execution_count": null,
   "metadata": {},
   "outputs": [],
   "source": []
  },
  {
   "cell_type": "code",
   "execution_count": null,
   "metadata": {},
   "outputs": [],
   "source": []
  },
  {
   "cell_type": "code",
   "execution_count": null,
   "metadata": {},
   "outputs": [],
   "source": []
  },
  {
   "cell_type": "code",
   "execution_count": 41,
   "metadata": {},
   "outputs": [],
   "source": [
    "res15 = pd.read_csv('../probs_subs/mix_model_res15.txt')\n",
    "\n",
    "res26 = pd.read_csv('../probs_subs/mix_model_res26.txt')\n",
    "\n",
    "res8 = pd.read_csv('../probs_subs/mix_model_res8.txt')"
   ]
  },
  {
   "cell_type": "code",
   "execution_count": 42,
   "metadata": {},
   "outputs": [
    {
     "name": "stderr",
     "output_type": "stream",
     "text": [
      "/home/egor/tensorflow/lib/python3.5/site-packages/ipykernel_launcher.py:1: FutureWarning: currently extract(expand=None) means expand=False (return Index/Series/DataFrame) but in a future version of pandas this will be changed to expand=True (return DataFrame)\n",
      "  \"\"\"Entry point for launching an IPython kernel.\n"
     ]
    }
   ],
   "source": [
    "res15['label'] = res15[[col for col in res15.columns if 'prob' in col]].idxmax(axis=1).str.extract('(\\d+)').astype(int)"
   ]
  },
  {
   "cell_type": "code",
   "execution_count": 51,
   "metadata": {},
   "outputs": [],
   "source": [
    "res15[['fname', 'label']].to_csv('res15.csv', index=False)"
   ]
  },
  {
   "cell_type": "code",
   "execution_count": 48,
   "metadata": {},
   "outputs": [],
   "source": [
    "res15['label'] = res15['label'].map(label2word)"
   ]
  },
  {
   "cell_type": "code",
   "execution_count": 49,
   "metadata": {},
   "outputs": [],
   "source": [
    "res15['label'] = res15['label'].map(label2word)"
   ]
  },
  {
   "cell_type": "code",
   "execution_count": 52,
   "metadata": {},
   "outputs": [],
   "source": [
    "sol085 = pd.read_csv('../submissions/submission_mix_noises_updated.txt')"
   ]
  },
  {
   "cell_type": "code",
   "execution_count": 59,
   "metadata": {},
   "outputs": [
    {
     "data": {
      "text/html": [
       "<div>\n",
       "<style>\n",
       "    .dataframe thead tr:only-child th {\n",
       "        text-align: right;\n",
       "    }\n",
       "\n",
       "    .dataframe thead th {\n",
       "        text-align: left;\n",
       "    }\n",
       "\n",
       "    .dataframe tbody tr th {\n",
       "        vertical-align: top;\n",
       "    }\n",
       "</style>\n",
       "<table border=\"1\" class=\"dataframe\">\n",
       "  <thead>\n",
       "    <tr style=\"text-align: right;\">\n",
       "      <th></th>\n",
       "      <th>fname</th>\n",
       "      <th>label</th>\n",
       "    </tr>\n",
       "  </thead>\n",
       "  <tbody>\n",
       "    <tr>\n",
       "      <th>71424</th>\n",
       "      <td>clip_000044442.wav</td>\n",
       "      <td>no</td>\n",
       "    </tr>\n",
       "    <tr>\n",
       "      <th>158031</th>\n",
       "      <td>clip_0000adecb.wav</td>\n",
       "      <td>unknown</td>\n",
       "    </tr>\n",
       "    <tr>\n",
       "      <th>50617</th>\n",
       "      <td>clip_0000d4322.wav</td>\n",
       "      <td>unknown</td>\n",
       "    </tr>\n",
       "    <tr>\n",
       "      <th>86558</th>\n",
       "      <td>clip_0000fb6fe.wav</td>\n",
       "      <td>unknown</td>\n",
       "    </tr>\n",
       "    <tr>\n",
       "      <th>107514</th>\n",
       "      <td>clip_0001d1559.wav</td>\n",
       "      <td>unknown</td>\n",
       "    </tr>\n",
       "  </tbody>\n",
       "</table>\n",
       "</div>"
      ],
      "text/plain": [
       "                     fname    label\n",
       "71424   clip_000044442.wav       no\n",
       "158031  clip_0000adecb.wav  unknown\n",
       "50617   clip_0000d4322.wav  unknown\n",
       "86558   clip_0000fb6fe.wav  unknown\n",
       "107514  clip_0001d1559.wav  unknown"
      ]
     },
     "execution_count": 59,
     "metadata": {},
     "output_type": "execute_result"
    }
   ],
   "source": [
    "sol085.sort_values(by='fname', inplace=True)\n",
    "sol085.head()"
   ]
  },
  {
   "cell_type": "code",
   "execution_count": 60,
   "metadata": {},
   "outputs": [
    {
     "data": {
      "text/html": [
       "<div>\n",
       "<style>\n",
       "    .dataframe thead tr:only-child th {\n",
       "        text-align: right;\n",
       "    }\n",
       "\n",
       "    .dataframe thead th {\n",
       "        text-align: left;\n",
       "    }\n",
       "\n",
       "    .dataframe tbody tr th {\n",
       "        vertical-align: top;\n",
       "    }\n",
       "</style>\n",
       "<table border=\"1\" class=\"dataframe\">\n",
       "  <thead>\n",
       "    <tr style=\"text-align: right;\">\n",
       "      <th></th>\n",
       "      <th>fname</th>\n",
       "      <th>prob_0</th>\n",
       "      <th>prob_1</th>\n",
       "      <th>prob_2</th>\n",
       "      <th>prob_3</th>\n",
       "      <th>prob_4</th>\n",
       "      <th>prob_5</th>\n",
       "      <th>prob_6</th>\n",
       "      <th>prob_7</th>\n",
       "      <th>prob_8</th>\n",
       "      <th>prob_9</th>\n",
       "      <th>prob_10</th>\n",
       "      <th>prob_11</th>\n",
       "      <th>label</th>\n",
       "    </tr>\n",
       "  </thead>\n",
       "  <tbody>\n",
       "    <tr>\n",
       "      <th>101340</th>\n",
       "      <td>clip_000044442.wav</td>\n",
       "      <td>-0.977384</td>\n",
       "      <td>-1.348111</td>\n",
       "      <td>2.131595</td>\n",
       "      <td>10.426859</td>\n",
       "      <td>-4.485994</td>\n",
       "      <td>5.713288</td>\n",
       "      <td>-2.758749</td>\n",
       "      <td>0.012697</td>\n",
       "      <td>-2.613747</td>\n",
       "      <td>-3.857974</td>\n",
       "      <td>-6.275019</td>\n",
       "      <td>3.524774</td>\n",
       "      <td>no</td>\n",
       "    </tr>\n",
       "    <tr>\n",
       "      <th>124379</th>\n",
       "      <td>clip_0000adecb.wav</td>\n",
       "      <td>-2.354270</td>\n",
       "      <td>7.805121</td>\n",
       "      <td>1.053384</td>\n",
       "      <td>-3.319956</td>\n",
       "      <td>-2.274884</td>\n",
       "      <td>1.480882</td>\n",
       "      <td>-3.501911</td>\n",
       "      <td>-0.289700</td>\n",
       "      <td>-1.475971</td>\n",
       "      <td>-3.287670</td>\n",
       "      <td>2.148622</td>\n",
       "      <td>2.826076</td>\n",
       "      <td>unknown</td>\n",
       "    </tr>\n",
       "    <tr>\n",
       "      <th>138910</th>\n",
       "      <td>clip_0000d4322.wav</td>\n",
       "      <td>-4.655570</td>\n",
       "      <td>7.682039</td>\n",
       "      <td>-3.166668</td>\n",
       "      <td>-1.656624</td>\n",
       "      <td>-5.331973</td>\n",
       "      <td>5.172206</td>\n",
       "      <td>-3.183746</td>\n",
       "      <td>-1.311582</td>\n",
       "      <td>-0.043383</td>\n",
       "      <td>-0.962119</td>\n",
       "      <td>3.987596</td>\n",
       "      <td>2.065382</td>\n",
       "      <td>unknown</td>\n",
       "    </tr>\n",
       "    <tr>\n",
       "      <th>109977</th>\n",
       "      <td>clip_0000fb6fe.wav</td>\n",
       "      <td>-0.059371</td>\n",
       "      <td>0.897257</td>\n",
       "      <td>0.027694</td>\n",
       "      <td>-0.824628</td>\n",
       "      <td>2.066972</td>\n",
       "      <td>-0.906270</td>\n",
       "      <td>0.790950</td>\n",
       "      <td>1.427714</td>\n",
       "      <td>-2.442889</td>\n",
       "      <td>-1.878847</td>\n",
       "      <td>0.811910</td>\n",
       "      <td>0.175236</td>\n",
       "      <td>up</td>\n",
       "    </tr>\n",
       "    <tr>\n",
       "      <th>134530</th>\n",
       "      <td>clip_0001d1559.wav</td>\n",
       "      <td>-3.948608</td>\n",
       "      <td>9.243481</td>\n",
       "      <td>-0.739165</td>\n",
       "      <td>-0.147731</td>\n",
       "      <td>-4.242608</td>\n",
       "      <td>1.361280</td>\n",
       "      <td>-3.195101</td>\n",
       "      <td>1.705395</td>\n",
       "      <td>1.064723</td>\n",
       "      <td>-2.168180</td>\n",
       "      <td>-2.613084</td>\n",
       "      <td>2.581058</td>\n",
       "      <td>unknown</td>\n",
       "    </tr>\n",
       "  </tbody>\n",
       "</table>\n",
       "</div>"
      ],
      "text/plain": [
       "                     fname    prob_0    prob_1    prob_2     prob_3    prob_4  \\\n",
       "101340  clip_000044442.wav -0.977384 -1.348111  2.131595  10.426859 -4.485994   \n",
       "124379  clip_0000adecb.wav -2.354270  7.805121  1.053384  -3.319956 -2.274884   \n",
       "138910  clip_0000d4322.wav -4.655570  7.682039 -3.166668  -1.656624 -5.331973   \n",
       "109977  clip_0000fb6fe.wav -0.059371  0.897257  0.027694  -0.824628  2.066972   \n",
       "134530  clip_0001d1559.wav -3.948608  9.243481 -0.739165  -0.147731 -4.242608   \n",
       "\n",
       "          prob_5    prob_6    prob_7    prob_8    prob_9   prob_10   prob_11  \\\n",
       "101340  5.713288 -2.758749  0.012697 -2.613747 -3.857974 -6.275019  3.524774   \n",
       "124379  1.480882 -3.501911 -0.289700 -1.475971 -3.287670  2.148622  2.826076   \n",
       "138910  5.172206 -3.183746 -1.311582 -0.043383 -0.962119  3.987596  2.065382   \n",
       "109977 -0.906270  0.790950  1.427714 -2.442889 -1.878847  0.811910  0.175236   \n",
       "134530  1.361280 -3.195101  1.705395  1.064723 -2.168180 -2.613084  2.581058   \n",
       "\n",
       "          label  \n",
       "101340       no  \n",
       "124379  unknown  \n",
       "138910  unknown  \n",
       "109977       up  \n",
       "134530  unknown  "
      ]
     },
     "execution_count": 60,
     "metadata": {},
     "output_type": "execute_result"
    }
   ],
   "source": [
    "res15.sort_values(by='fname', inplace=True)\n",
    "res15.head()"
   ]
  },
  {
   "cell_type": "code",
   "execution_count": 61,
   "metadata": {},
   "outputs": [],
   "source": [
    "res15['085_sol'] = sol085['label']"
   ]
  },
  {
   "cell_type": "code",
   "execution_count": null,
   "metadata": {},
   "outputs": [],
   "source": []
  },
  {
   "cell_type": "code",
   "execution_count": null,
   "metadata": {},
   "outputs": [],
   "source": []
  },
  {
   "cell_type": "code",
   "execution_count": null,
   "metadata": {},
   "outputs": [],
   "source": []
  },
  {
   "cell_type": "code",
   "execution_count": null,
   "metadata": {},
   "outputs": [],
   "source": []
  },
  {
   "cell_type": "code",
   "execution_count": null,
   "metadata": {},
   "outputs": [],
   "source": []
  },
  {
   "cell_type": "code",
   "execution_count": null,
   "metadata": {},
   "outputs": [],
   "source": []
  },
  {
   "cell_type": "code",
   "execution_count": null,
   "metadata": {},
   "outputs": [],
   "source": []
  },
  {
   "cell_type": "code",
   "execution_count": null,
   "metadata": {},
   "outputs": [],
   "source": []
  },
  {
   "cell_type": "code",
   "execution_count": null,
   "metadata": {},
   "outputs": [],
   "source": []
  },
  {
   "cell_type": "code",
   "execution_count": 6,
   "metadata": {},
   "outputs": [],
   "source": [
    "res15['sum'] = res15['prob_0'] + res15['prob_1'] + res15['prob_2'] + res15['prob_3'] + res15['prob_4'] + \\\n",
    "               res15['prob_5'] + res15['prob_6'] + res15['prob_7'] + res15['prob_8'] + res15['prob_9'] + \\\n",
    "               res15['prob_10'] + res15['prob_11']"
   ]
  },
  {
   "cell_type": "code",
   "execution_count": 9,
   "metadata": {},
   "outputs": [
    {
     "data": {
      "text/plain": [
       "count    158538.000000\n",
       "mean         -0.429559\n",
       "std           0.802099\n",
       "min          -4.248121\n",
       "25%          -0.918870\n",
       "50%          -0.423918\n",
       "75%           0.041790\n",
       "max           1.843294\n",
       "Name: sum, dtype: float64"
      ]
     },
     "execution_count": 9,
     "metadata": {},
     "output_type": "execute_result"
    }
   ],
   "source": [
    "res15['sum'].describe()"
   ]
  },
  {
   "cell_type": "code",
   "execution_count": 10,
   "metadata": {},
   "outputs": [],
   "source": [
    "res26['sum'] = res26['prob_0'] + res26['prob_1'] + res26['prob_2'] + res26['prob_3'] + res26['prob_4'] + \\\n",
    "               res26['prob_5'] + res26['prob_6'] + res26['prob_7'] + res26['prob_8'] + res26['prob_9'] + \\\n",
    "               res26['prob_10'] + res26['prob_11']"
   ]
  },
  {
   "cell_type": "code",
   "execution_count": 11,
   "metadata": {},
   "outputs": [
    {
     "data": {
      "text/plain": [
       "count    158538.000000\n",
       "mean         -0.543636\n",
       "std           0.612085\n",
       "min          -3.676363\n",
       "25%          -0.843397\n",
       "50%          -0.468640\n",
       "75%          -0.141315\n",
       "max           1.217290\n",
       "Name: sum, dtype: float64"
      ]
     },
     "execution_count": 11,
     "metadata": {},
     "output_type": "execute_result"
    }
   ],
   "source": [
    "res26['sum'].describe()"
   ]
  },
  {
   "cell_type": "code",
   "execution_count": 14,
   "metadata": {},
   "outputs": [],
   "source": [
    "res8['sum'] = res8['prob_0'] + res8['prob_1'] + res8['prob_2'] + res8['prob_3'] + res8['prob_4'] + \\\n",
    "               res8['prob_5'] + res8['prob_6'] + res8['prob_7'] + res8['prob_8'] + res8['prob_9'] + \\\n",
    "               res8['prob_10'] + res8['prob_11']"
   ]
  },
  {
   "cell_type": "code",
   "execution_count": 15,
   "metadata": {},
   "outputs": [
    {
     "data": {
      "text/plain": [
       "count    158538.000000\n",
       "mean          0.130686\n",
       "std           0.394445\n",
       "min          -1.761701\n",
       "25%          -0.103157\n",
       "50%           0.145098\n",
       "75%           0.374886\n",
       "max           1.561545\n",
       "Name: sum, dtype: float64"
      ]
     },
     "execution_count": 15,
     "metadata": {},
     "output_type": "execute_result"
    }
   ],
   "source": [
    "res8['sum'].describe()"
   ]
  },
  {
   "cell_type": "code",
   "execution_count": null,
   "metadata": {},
   "outputs": [],
   "source": []
  },
  {
   "cell_type": "code",
   "execution_count": null,
   "metadata": {},
   "outputs": [],
   "source": []
  },
  {
   "cell_type": "code",
   "execution_count": null,
   "metadata": {},
   "outputs": [],
   "source": []
  },
  {
   "cell_type": "code",
   "execution_count": null,
   "metadata": {},
   "outputs": [],
   "source": []
  },
  {
   "cell_type": "code",
   "execution_count": null,
   "metadata": {},
   "outputs": [],
   "source": []
  },
  {
   "cell_type": "code",
   "execution_count": null,
   "metadata": {},
   "outputs": [],
   "source": []
  }
 ],
 "metadata": {
  "kernelspec": {
   "display_name": "Python 3",
   "language": "python",
   "name": "python3"
  },
  "language_info": {
   "codemirror_mode": {
    "name": "ipython",
    "version": 3
   },
   "file_extension": ".py",
   "mimetype": "text/x-python",
   "name": "python",
   "nbconvert_exporter": "python",
   "pygments_lexer": "ipython3",
   "version": "3.5.2"
  }
 },
 "nbformat": 4,
 "nbformat_minor": 2
}
