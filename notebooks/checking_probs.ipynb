{
 "cells": [
  {
   "cell_type": "code",
   "execution_count": 1,
   "metadata": {},
   "outputs": [],
   "source": [
    "import pandas as pd\n",
    "import numpy as np"
   ]
  },
  {
   "cell_type": "code",
   "execution_count": 2,
   "metadata": {},
   "outputs": [],
   "source": [
    "res15_valid = pd.read_csv('../probs_subs/check_res15_updated_file.txt')\n",
    "\n",
    "res26_valid = pd.read_csv('../probs_subs/check_res26_updated_file.txt')\n",
    "\n",
    "res8_valid = pd.read_csv('../probs_subs/check_res8_updated_file.txt')"
   ]
  },
  {
   "cell_type": "code",
   "execution_count": 3,
   "metadata": {},
   "outputs": [],
   "source": [
    "res15_valid.sort_values(by='fname', inplace=True)\n",
    "res26_valid.sort_values(by='fname', inplace=True)\n",
    "res8_valid.sort_values(by='fname', inplace=True)"
   ]
  },
  {
   "cell_type": "code",
   "execution_count": null,
   "metadata": {},
   "outputs": [],
   "source": [
    "res15_valid.sort_values(by='fname', inplace=True)\n",
    "res26_valid.sort_values(by='fname', inplace=True)\n",
    "res8_valid.sort_values(by='fname', inplace=True)\n",
    "\n",
    "prob_columns = [col for col in res15_valid.columns if 'prob' in col]\n",
    "\n",
    "res15_valid[prob_columns] = res15_valid[prob_columns].apply(softmax)\n",
    "res26_valid[prob_columns] = res26_valid[prob_columns].apply(softmax)\n",
    "res8_valid[prob_columns] = res8_valid[prob_columns].apply(softmax)\n",
    "\n"
   ]
  },
  {
   "cell_type": "code",
   "execution_count": 4,
   "metadata": {},
   "outputs": [],
   "source": [
    "def softmax(x):\n",
    "    scoreMatExp = np.exp(np.asarray(x))\n",
    "    return scoreMatExp / scoreMatExp.sum(0)"
   ]
  },
  {
   "cell_type": "code",
   "execution_count": 5,
   "metadata": {},
   "outputs": [],
   "source": [
    "prob_columns = [col for col in res15_valid.columns if 'prob' in col]\n",
    "\n",
    "res15_valid[prob_columns] = res15_valid[prob_columns].apply(softmax)\n",
    "res26_valid[prob_columns] = res26_valid[prob_columns].apply(softmax)\n",
    "res8_valid[prob_columns] = res8_valid[prob_columns].apply(softmax)"
   ]
  },
  {
   "cell_type": "code",
   "execution_count": 6,
   "metadata": {},
   "outputs": [],
   "source": [
    "res15_valid['cat'] = [s[-2] for s in res15_valid['fname'].str.rsplit('/')]\n",
    "res15_valid['hash'] = [s[-1] for s in res15_valid['fname'].str.rsplit('/')]\n",
    "\n",
    "res15_valid['fname'] = res15_valid['cat'] + '/' + res15_valid['hash']"
   ]
  },
  {
   "cell_type": "code",
   "execution_count": 7,
   "metadata": {},
   "outputs": [],
   "source": [
    "res26_valid['cat'] = [s[-2] for s in res26_valid['fname'].str.rsplit('/')]\n",
    "res26_valid['hash'] = [s[-1] for s in res26_valid['fname'].str.rsplit('/')]\n",
    "\n",
    "res26_valid['fname'] = res26_valid['cat'] + '/' + res26_valid['hash']\n",
    "\n",
    "res8_valid['cat'] = [s[-2] for s in res8_valid['fname'].str.rsplit('/')]\n",
    "res8_valid['hash'] = [s[-1] for s in res8_valid['fname'].str.rsplit('/')]\n",
    "\n",
    "res8_valid['fname'] = res8_valid['cat'] + '/' + res8_valid['hash']"
   ]
  },
  {
   "cell_type": "code",
   "execution_count": 8,
   "metadata": {},
   "outputs": [
    {
     "data": {
      "text/plain": [
       "up        272\n",
       "left      267\n",
       "off       262\n",
       "right     259\n",
       "yes       256\n",
       "down      253\n",
       "no        252\n",
       "go        251\n",
       "stop      249\n",
       "on        246\n",
       "eight      53\n",
       "five       40\n",
       "seven      40\n",
       "one        39\n",
       "six        38\n",
       "zero       37\n",
       "bed        37\n",
       "three      36\n",
       "four       34\n",
       "sheila     33\n",
       "house      33\n",
       "nine       32\n",
       "wow        30\n",
       "two        30\n",
       "happy      26\n",
       "dog        23\n",
       "cat        22\n",
       "marvin     21\n",
       "bird       20\n",
       "tree       17\n",
       "Name: cat, dtype: int64"
      ]
     },
     "execution_count": 8,
     "metadata": {},
     "output_type": "execute_result"
    }
   ],
   "source": [
    "res15_valid['cat'].value_counts()"
   ]
  },
  {
   "cell_type": "code",
   "execution_count": 9,
   "metadata": {},
   "outputs": [
    {
     "data": {
      "text/plain": [
       "0"
      ]
     },
     "execution_count": 9,
     "metadata": {},
     "output_type": "execute_result"
    }
   ],
   "source": [
    "(res26_valid['fname'] != res8_valid['fname'] ).sum()"
   ]
  },
  {
   "cell_type": "code",
   "execution_count": 10,
   "metadata": {},
   "outputs": [
    {
     "data": {
      "text/plain": [
       "0"
      ]
     },
     "execution_count": 10,
     "metadata": {},
     "output_type": "execute_result"
    }
   ],
   "source": [
    "(res15_valid['fname'] != res8_valid['fname'] ).sum()"
   ]
  },
  {
   "cell_type": "code",
   "execution_count": 11,
   "metadata": {},
   "outputs": [],
   "source": [
    "res26_valid.drop(['fname', 'label'], axis=1, inplace=True)\n",
    "res8_valid.drop(['fname', 'label'], axis=1, inplace=True)"
   ]
  },
  {
   "cell_type": "code",
   "execution_count": 12,
   "metadata": {},
   "outputs": [
    {
     "name": "stderr",
     "output_type": "stream",
     "text": [
      "/home/egor/tensorflow/lib/python3.5/site-packages/ipykernel_launcher.py:1: FutureWarning: currently extract(expand=None) means expand=False (return Index/Series/DataFrame) but in a future version of pandas this will be changed to expand=True (return DataFrame)\n",
      "  \"\"\"Entry point for launching an IPython kernel.\n",
      "/home/egor/tensorflow/lib/python3.5/site-packages/ipykernel_launcher.py:2: FutureWarning: currently extract(expand=None) means expand=False (return Index/Series/DataFrame) but in a future version of pandas this will be changed to expand=True (return DataFrame)\n",
      "  \n",
      "/home/egor/tensorflow/lib/python3.5/site-packages/ipykernel_launcher.py:3: FutureWarning: currently extract(expand=None) means expand=False (return Index/Series/DataFrame) but in a future version of pandas this will be changed to expand=True (return DataFrame)\n",
      "  This is separate from the ipykernel package so we can avoid doing imports until\n"
     ]
    }
   ],
   "source": [
    "res26_valid['max_prob'] = res26_valid[prob_columns].idxmax(axis=1).str.extract('(\\d+)').astype(int)\n",
    "res8_valid['max_prob'] = res8_valid[prob_columns].idxmax(axis=1).str.extract('(\\d+)').astype(int)\n",
    "res15_valid['max_prob'] = res15_valid[prob_columns].idxmax(axis=1).str.extract('(\\d+)').astype(int)"
   ]
  },
  {
   "cell_type": "code",
   "execution_count": 13,
   "metadata": {},
   "outputs": [],
   "source": [
    "label2word = {0: 'silence',\n",
    " 1: 'unknown',\n",
    " 2: 'yes',\n",
    " 3: 'no',\n",
    " 4: 'up',\n",
    " 5: 'down',\n",
    " 6: 'left',\n",
    " 7: 'right',\n",
    " 8: 'on',\n",
    " 9: 'off',\n",
    " 10: 'stop',\n",
    " 11: 'go'}"
   ]
  },
  {
   "cell_type": "code",
   "execution_count": 14,
   "metadata": {},
   "outputs": [],
   "source": [
    "res26_valid['max_prob_label'] = res26_valid['max_prob'].map(label2word)\n",
    "res8_valid['max_prob_label'] = res8_valid['max_prob'].map(label2word)\n",
    "res15_valid['max_prob_label'] = res15_valid['max_prob'].map(label2word)"
   ]
  },
  {
   "cell_type": "code",
   "execution_count": 15,
   "metadata": {},
   "outputs": [],
   "source": [
    "res15_valid.columns = ['res15_' + col for col in res15_valid.columns]\n",
    "res8_valid.columns = ['res8_' + col for col in res8_valid.columns]\n",
    "res26_valid.columns = ['res26_' + col for col in res26_valid.columns]"
   ]
  },
  {
   "cell_type": "code",
   "execution_count": 16,
   "metadata": {},
   "outputs": [],
   "source": [
    "common_valid = pd.concat([res8_valid, res26_valid, res15_valid], axis=1)"
   ]
  },
  {
   "cell_type": "code",
   "execution_count": 17,
   "metadata": {},
   "outputs": [],
   "source": [
    "common_valid['true_label'] = common_valid['res15_label'].map(label2word)"
   ]
  },
  {
   "cell_type": "code",
   "execution_count": 18,
   "metadata": {},
   "outputs": [],
   "source": [
    "voting = common_valid[[col for col in common_valid.columns if ('label' in col) and ('res15_label' not in col)]]"
   ]
  },
  {
   "cell_type": "code",
   "execution_count": 19,
   "metadata": {},
   "outputs": [
    {
     "data": {
      "text/html": [
       "<div>\n",
       "<style>\n",
       "    .dataframe thead tr:only-child th {\n",
       "        text-align: right;\n",
       "    }\n",
       "\n",
       "    .dataframe thead th {\n",
       "        text-align: left;\n",
       "    }\n",
       "\n",
       "    .dataframe tbody tr th {\n",
       "        vertical-align: top;\n",
       "    }\n",
       "</style>\n",
       "<table border=\"1\" class=\"dataframe\">\n",
       "  <thead>\n",
       "    <tr style=\"text-align: right;\">\n",
       "      <th></th>\n",
       "      <th>res8_max_prob_label</th>\n",
       "      <th>res26_max_prob_label</th>\n",
       "      <th>res15_max_prob_label</th>\n",
       "      <th>true_label</th>\n",
       "    </tr>\n",
       "  </thead>\n",
       "  <tbody>\n",
       "  </tbody>\n",
       "</table>\n",
       "</div>"
      ],
      "text/plain": [
       "Empty DataFrame\n",
       "Columns: [res8_max_prob_label, res26_max_prob_label, res15_max_prob_label, true_label]\n",
       "Index: []"
      ]
     },
     "execution_count": 19,
     "metadata": {},
     "output_type": "execute_result"
    }
   ],
   "source": [
    "voting[(voting.res15_max_prob_label != voting.true_label) &\n",
    "       ((voting.res15_max_prob_label == voting.true_label) |\n",
    "       (voting.res15_max_prob_label == voting.true_label))]"
   ]
  },
  {
   "cell_type": "code",
   "execution_count": 20,
   "metadata": {},
   "outputs": [
    {
     "data": {
      "text/plain": [
       "Index(['res8_prob_0', 'res8_prob_1', 'res8_prob_2', 'res8_prob_3',\n",
       "       'res8_prob_4', 'res8_prob_5', 'res8_prob_6', 'res8_prob_7',\n",
       "       'res8_prob_8', 'res8_prob_9', 'res8_prob_10', 'res8_prob_11',\n",
       "       'res8_cat', 'res8_hash', 'res8_max_prob', 'res8_max_prob_label',\n",
       "       'res26_prob_0', 'res26_prob_1', 'res26_prob_2', 'res26_prob_3',\n",
       "       'res26_prob_4', 'res26_prob_5', 'res26_prob_6', 'res26_prob_7',\n",
       "       'res26_prob_8', 'res26_prob_9', 'res26_prob_10', 'res26_prob_11',\n",
       "       'res26_cat', 'res26_hash', 'res26_max_prob', 'res26_max_prob_label',\n",
       "       'res15_fname', 'res15_prob_0', 'res15_prob_1', 'res15_prob_2',\n",
       "       'res15_prob_3', 'res15_prob_4', 'res15_prob_5', 'res15_prob_6',\n",
       "       'res15_prob_7', 'res15_prob_8', 'res15_prob_9', 'res15_prob_10',\n",
       "       'res15_prob_11', 'res15_label', 'res15_cat', 'res15_hash',\n",
       "       'res15_max_prob', 'res15_max_prob_label', 'true_label'],\n",
       "      dtype='object')"
      ]
     },
     "execution_count": 20,
     "metadata": {},
     "output_type": "execute_result"
    }
   ],
   "source": [
    "common_valid.columns"
   ]
  },
  {
   "cell_type": "code",
   "execution_count": 21,
   "metadata": {},
   "outputs": [
    {
     "name": "stderr",
     "output_type": "stream",
     "text": [
      "/home/egor/tensorflow/lib/python3.5/site-packages/ipykernel_launcher.py:5: FutureWarning: currently extract(expand=None) means expand=False (return Index/Series/DataFrame) but in a future version of pandas this will be changed to expand=True (return DataFrame)\n",
      "  \"\"\"\n"
     ]
    }
   ],
   "source": [
    "for prob in range(12):\n",
    "    gmean = (common_valid['res8_prob_' + str(prob)] * \\\n",
    "                                         common_valid['res26_prob_' + str(prob)] * \\\n",
    "                                         common_valid['res15_prob_' + str(prob)])**(1/3)\n",
    "    common_valid['gmean_' + str(prob)] = gmean\n",
    "\n",
    "common_valid['gmean_max_prob_label'] = common_valid[[col for col in common_valid.columns if 'gmean' in col]] \\\n",
    "                                                                                .idxmax(axis=1) \\\n",
    "                                                                                .str.extract('(\\d+)') \\\n",
    "                                                                                .astype(int) \\\n",
    "                                                                                .map(label2word)"
   ]
  },
  {
   "cell_type": "code",
   "execution_count": 22,
   "metadata": {},
   "outputs": [
    {
     "name": "stderr",
     "output_type": "stream",
     "text": [
      "/home/egor/tensorflow/lib/python3.5/site-packages/ipykernel_launcher.py:5: FutureWarning: currently extract(expand=None) means expand=False (return Index/Series/DataFrame) but in a future version of pandas this will be changed to expand=True (return DataFrame)\n",
      "  \"\"\"\n"
     ]
    }
   ],
   "source": [
    "for prob in range(12):\n",
    "    gmean = (common_valid['res8_prob_' + str(prob)]**2 * \\\n",
    "                                         common_valid['res26_prob_' + str(prob)]**2 * \\\n",
    "                                         common_valid['res15_prob_' + str(prob)]**2)**(1/3)\n",
    "    common_valid['gmean_squared' + str(prob)] = gmean\n",
    "\n",
    "common_valid['gmean_squared_max_prob_label'] = common_valid[[col for col in common_valid.columns if 'gmean_squared' in col]] \\\n",
    "                                                                                .idxmax(axis=1) \\\n",
    "                                                                                .str.extract('(\\d+)') \\\n",
    "                                                                                .astype(int) \\\n",
    "                                                                                .map(label2word)"
   ]
  },
  {
   "cell_type": "code",
   "execution_count": 23,
   "metadata": {},
   "outputs": [
    {
     "name": "stderr",
     "output_type": "stream",
     "text": [
      "/home/egor/tensorflow/lib/python3.5/site-packages/ipykernel_launcher.py:5: FutureWarning: currently extract(expand=None) means expand=False (return Index/Series/DataFrame) but in a future version of pandas this will be changed to expand=True (return DataFrame)\n",
      "  \"\"\"\n"
     ]
    }
   ],
   "source": [
    "for prob in range(12):\n",
    "    gmean = (common_valid['res8_prob_' + str(prob)]**2 * \\\n",
    "                                         common_valid['res26_prob_' + str(prob)]**2 * \\\n",
    "                                         common_valid['res15_prob_' + str(prob)])**(1/3)\n",
    "    common_valid['gmean_squared_ex_res_fifthteen' + str(prob)] = gmean\n",
    "\n",
    "common_valid['gmean_squared_ex_res_fifthteen_max_prob_label'] = common_valid[[col for col in common_valid.columns if 'gmean_squared_ex_res_fifthteen' in col]] \\\n",
    "                                                                                .idxmax(axis=1) \\\n",
    "                                                                                .str.extract('(\\d+)') \\\n",
    "                                                                                .astype(int) \\\n",
    "                                                                                .map(label2word)"
   ]
  },
  {
   "cell_type": "code",
   "execution_count": 24,
   "metadata": {},
   "outputs": [
    {
     "name": "stderr",
     "output_type": "stream",
     "text": [
      "/home/egor/tensorflow/lib/python3.5/site-packages/ipykernel_launcher.py:5: FutureWarning: currently extract(expand=None) means expand=False (return Index/Series/DataFrame) but in a future version of pandas this will be changed to expand=True (return DataFrame)\n",
      "  \"\"\"\n"
     ]
    }
   ],
   "source": [
    "for prob in range(12):\n",
    "    mean = (common_valid['res8_prob_' + str(prob)] + \\\n",
    "                                         common_valid['res26_prob_' + str(prob)] + \\\n",
    "                                         common_valid['res15_prob_' + str(prob)])/3\n",
    "    common_valid['usual_mean' + str(prob)] = mean\n",
    "\n",
    "common_valid['mean_max_prob_label'] = common_valid[[col for col in common_valid.columns if 'usual_mean' in col]] \\\n",
    "                                                                                .idxmax(axis=1) \\\n",
    "                                                                                .str.extract('(\\d+)') \\\n",
    "                                                                                .astype(int) \\\n",
    "                                                                                .map(label2word)"
   ]
  },
  {
   "cell_type": "code",
   "execution_count": 25,
   "metadata": {},
   "outputs": [
    {
     "data": {
      "text/plain": [
       "array([ 0.  ,  0.05,  0.1 ,  0.15,  0.2 ,  0.25,  0.3 ,  0.35,  0.4 ,  0.45])"
      ]
     },
     "execution_count": 25,
     "metadata": {},
     "output_type": "execute_result"
    }
   ],
   "source": [
    "np.arange(0, 0.5, 0.05)"
   ]
  },
  {
   "cell_type": "code",
   "execution_count": 26,
   "metadata": {},
   "outputs": [],
   "source": [
    "find_coef = common_valid[[col for col in common_valid.columns if ('res8_prob_' in col) |\n",
    "                                                                 ('res26_prob_' in col) |\n",
    "                                                                 ('res15_prob_' in col) |\n",
    "                                                                 ('true_label' in col)]]"
   ]
  },
  {
   "cell_type": "code",
   "execution_count": 27,
   "metadata": {},
   "outputs": [
    {
     "name": "stderr",
     "output_type": "stream",
     "text": [
      "/home/egor/tensorflow/lib/python3.5/site-packages/ipykernel_launcher.py:9: SettingWithCopyWarning: \n",
      "A value is trying to be set on a copy of a slice from a DataFrame.\n",
      "Try using .loc[row_indexer,col_indexer] = value instead\n",
      "\n",
      "See the caveats in the documentation: http://pandas.pydata.org/pandas-docs/stable/indexing.html#indexing-view-versus-copy\n",
      "  if __name__ == '__main__':\n",
      "/home/egor/tensorflow/lib/python3.5/site-packages/ipykernel_launcher.py:11: FutureWarning: currently extract(expand=None) means expand=False (return Index/Series/DataFrame) but in a future version of pandas this will be changed to expand=True (return DataFrame)\n",
      "  # This is added back by InteractiveShellApp.init_path()\n",
      "/home/egor/tensorflow/lib/python3.5/site-packages/ipykernel_launcher.py:11: SettingWithCopyWarning: \n",
      "A value is trying to be set on a copy of a slice from a DataFrame.\n",
      "Try using .loc[row_indexer,col_indexer] = value instead\n",
      "\n",
      "See the caveats in the documentation: http://pandas.pydata.org/pandas-docs/stable/indexing.html#indexing-view-versus-copy\n",
      "  # This is added back by InteractiveShellApp.init_path()\n"
     ]
    }
   ],
   "source": [
    "res15_coef = 0.99\n",
    "others_coef = 1 - res15_coef\n",
    "\n",
    "for i, coef in enumerate(np.arange(0, others_coef, 0.0005)):\n",
    "    for prob in range(12):\n",
    "        other_coef = others_coef - coef\n",
    "        \n",
    "        mean = find_coef['res8_prob_' + str(prob)] * coef + \\\n",
    "                find_coef['res26_prob_' + str(prob)] * other_coef + \\\n",
    "                find_coef['res15_prob_' + str(prob)] * res15_coef\n",
    "        find_coef['coefs_mean' + str(prob)] = mean\n",
    "        \n",
    "    find_coef['try_N' + str(i)] = find_coef[[col for col in find_coef.columns if 'coefs_mean' in col]] \\\n",
    "                                                                                    .idxmax(axis=1) \\\n",
    "                                                                                    .str.extract('(\\d+)') \\\n",
    "                                                                                    .astype(int) \\\n",
    "                                                                                    .map(label2word)"
   ]
  },
  {
   "cell_type": "code",
   "execution_count": null,
   "metadata": {},
   "outputs": [],
   "source": [
    "# 0.4 res15\n",
    "for guess in [col for col in find_coef.columns if 'try_N' in col]:   \n",
    "    print(find_coef[find_coef[guess] == find_coef['true_label']].shape)"
   ]
  },
  {
   "cell_type": "code",
   "execution_count": null,
   "metadata": {},
   "outputs": [],
   "source": [
    "# 0.5 res15\n",
    "for guess in [col for col in find_coef.columns if 'try_N' in col]:   \n",
    "    print(find_coef[find_coef[guess] == find_coef['true_label']].shape)"
   ]
  },
  {
   "cell_type": "code",
   "execution_count": null,
   "metadata": {},
   "outputs": [],
   "source": [
    "# 0.6 res15\n",
    "for guess in [col for col in find_coef.columns if 'try_N' in col]:   \n",
    "    print(find_coef[find_coef[guess] == find_coef['true_label']].shape)"
   ]
  },
  {
   "cell_type": "code",
   "execution_count": null,
   "metadata": {},
   "outputs": [],
   "source": [
    "# 0.9 res15\n",
    "for guess in [col for col in find_coef.columns if 'try_N' in col]:   \n",
    "    print(find_coef[find_coef[guess] == find_coef['true_label']].shape)"
   ]
  },
  {
   "cell_type": "code",
   "execution_count": 27,
   "metadata": {},
   "outputs": [
    {
     "name": "stdout",
     "output_type": "stream",
     "text": [
      "(2228, 55)\n",
      "(2108, 55)\n",
      "(2073, 55)\n",
      "(2088, 55)\n",
      "(2121, 55)\n",
      "(2251, 55)\n"
     ]
    }
   ],
   "source": [
    "# 0.95 res15\n",
    "for guess in [col for col in find_coef.columns if 'try_N' in col]:   \n",
    "    print(find_coef[find_coef[guess] == find_coef['true_label']].shape)"
   ]
  },
  {
   "cell_type": "code",
   "execution_count": 27,
   "metadata": {},
   "outputs": [
    {
     "name": "stdout",
     "output_type": "stream",
     "text": [
      "(2322, 56)\n",
      "(2222, 56)\n",
      "(2201, 56)\n",
      "(2195, 56)\n",
      "(2200, 56)\n",
      "(2238, 56)\n",
      "(2347, 56)\n"
     ]
    }
   ],
   "source": [
    "# 0.97 res15\n",
    "for guess in [col for col in find_coef.columns if 'try_N' in col]:   \n",
    "    print(find_coef[find_coef[guess] == find_coef['true_label']].shape)"
   ]
  },
  {
   "cell_type": "code",
   "execution_count": 27,
   "metadata": {},
   "outputs": [
    {
     "name": "stdout",
     "output_type": "stream",
     "text": [
      "(2507, 70)\n",
      "(2462, 70)\n",
      "(2448, 70)\n",
      "(2435, 70)\n",
      "(2424, 70)\n",
      "(2418, 70)\n",
      "(2412, 70)\n",
      "(2414, 70)\n",
      "(2410, 70)\n",
      "(2409, 70)\n",
      "(2408, 70)\n",
      "(2417, 70)\n",
      "(2419, 70)\n",
      "(2422, 70)\n",
      "(2424, 70)\n",
      "(2430, 70)\n",
      "(2432, 70)\n",
      "(2445, 70)\n",
      "(2454, 70)\n",
      "(2464, 70)\n",
      "(2507, 70)\n"
     ]
    }
   ],
   "source": [
    "# 0.99 res15\n",
    "for guess in [col for col in find_coef.columns if 'try_N' in col]:   \n",
    "    print(find_coef[find_coef[guess] == find_coef['true_label']].shape)"
   ]
  },
  {
   "cell_type": "code",
   "execution_count": 29,
   "metadata": {},
   "outputs": [
    {
     "data": {
      "text/plain": [
       "Index(['res8_prob_0', 'res8_prob_1', 'res8_prob_2', 'res8_prob_3',\n",
       "       'res8_prob_4', 'res8_prob_5', 'res8_prob_6', 'res8_prob_7',\n",
       "       'res8_prob_8', 'res8_prob_9',\n",
       "       ...\n",
       "       'usual_mean3', 'usual_mean4', 'usual_mean5', 'usual_mean6',\n",
       "       'usual_mean7', 'usual_mean8', 'usual_mean9', 'usual_mean10',\n",
       "       'usual_mean11', 'mean_max_prob_label'],\n",
       "      dtype='object', length=103)"
      ]
     },
     "execution_count": 29,
     "metadata": {},
     "output_type": "execute_result"
    }
   ],
   "source": [
    "common_valid.columns"
   ]
  },
  {
   "cell_type": "code",
   "execution_count": 23,
   "metadata": {},
   "outputs": [
    {
     "data": {
      "text/plain": [
       "Index(['res8_prob_0', 'res8_prob_1', 'res8_prob_2', 'res8_prob_3',\n",
       "       'res8_prob_4', 'res8_prob_5', 'res8_prob_6', 'res8_prob_7',\n",
       "       'res8_prob_8', 'res8_prob_9',\n",
       "       ...\n",
       "       'usual_mean3', 'usual_mean4', 'usual_mean5', 'usual_mean6',\n",
       "       'usual_mean7', 'usual_mean8', 'usual_mean9', 'usual_mean10',\n",
       "       'usual_mean11', 'mean_max_prob_label'],\n",
       "      dtype='object', length=103)"
      ]
     },
     "execution_count": 23,
     "metadata": {},
     "output_type": "execute_result"
    }
   ],
   "source": [
    "common_valid.columns"
   ]
  },
  {
   "cell_type": "code",
   "execution_count": 28,
   "metadata": {},
   "outputs": [
    {
     "data": {
      "text/plain": [
       "['res8_max_prob_label',\n",
       " 'res26_max_prob_label',\n",
       " 'res15_label',\n",
       " 'res15_max_prob_label',\n",
       " 'true_label',\n",
       " 'gmean_max_prob_label',\n",
       " 'gmean_squared_max_prob_label',\n",
       " 'gmean_squared_ex_res_fifthteen_max_prob_label',\n",
       " 'mean_max_prob_label']"
      ]
     },
     "execution_count": 28,
     "metadata": {},
     "output_type": "execute_result"
    }
   ],
   "source": [
    "[col for col in common_valid.columns if 'label' in col]"
   ]
  },
  {
   "cell_type": "code",
   "execution_count": 28,
   "metadata": {},
   "outputs": [],
   "source": [
    "common_valid.drop(['res8_max_prob_label',\n",
    " 'res26_max_prob_label',\n",
    " 'res15_label',\n",
    " 'res15_max_prob_label',\n",
    " 'gmean_max_prob_label',\n",
    " 'gmean_squared_max_prob_label',\n",
    " 'gmean_squared_ex_res_fifthteen_max_prob_label',\n",
    " 'mean_max_prob_label'], axis=1, inplace=True)"
   ]
  },
  {
   "cell_type": "code",
   "execution_count": 32,
   "metadata": {},
   "outputs": [],
   "source": [
    "common_valid.drop('res15_fname', axis=1, inplace=True)"
   ]
  },
  {
   "cell_type": "code",
   "execution_count": null,
   "metadata": {},
   "outputs": [],
   "source": []
  },
  {
   "cell_type": "code",
   "execution_count": 35,
   "metadata": {},
   "outputs": [],
   "source": [
    "from sklearn.preprocessing import LabelEncoder\n",
    "\n",
    "le = LabelEncoder()\n"
   ]
  },
  {
   "cell_type": "code",
   "execution_count": 36,
   "metadata": {},
   "outputs": [
    {
     "data": {
      "text/plain": [
       "['res8_hash', 'res26_hash', 'res15_hash']"
      ]
     },
     "execution_count": 36,
     "metadata": {},
     "output_type": "execute_result"
    }
   ],
   "source": [
    "[col for col in common_valid.columns if 'hash' in col]"
   ]
  },
  {
   "cell_type": "code",
   "execution_count": 40,
   "metadata": {},
   "outputs": [],
   "source": [
    "common_valid['res8_hash'] = le.fit_transform(common_valid['res8_hash'])"
   ]
  },
  {
   "cell_type": "code",
   "execution_count": 41,
   "metadata": {},
   "outputs": [],
   "source": [
    "common_valid['res26_hash'] = le.fit_transform(common_valid['res26_hash'])"
   ]
  },
  {
   "cell_type": "code",
   "execution_count": 42,
   "metadata": {},
   "outputs": [],
   "source": [
    "common_valid['res15_hash'] = le.fit_transform(common_valid['res15_hash'])"
   ]
  },
  {
   "cell_type": "code",
   "execution_count": 47,
   "metadata": {},
   "outputs": [],
   "source": [
    "common_valid.drop([col for col in common_valid.columns if 'cat' in col], axis=1, inplace=True)"
   ]
  },
  {
   "cell_type": "code",
   "execution_count": 50,
   "metadata": {},
   "outputs": [],
   "source": [
    "common_valid.drop([col for col in common_valid.columns if 'hash' in col], axis=1, inplace=True)"
   ]
  },
  {
   "cell_type": "code",
   "execution_count": 102,
   "metadata": {},
   "outputs": [],
   "source": [
    "from sklearn.ensemble import RandomForestClassifier, ExtraTreesClassifier\n",
    "\n",
    "from sklearn.model_selection import cross_val_score\n",
    "clf = RandomForestClassifier(n_estimators=1000)\n",
    "scores = cross_val_score(clf, common_valid[[col for col in common_valid.columns if 'true_label' not in col]], \n",
    "                         common_valid.true_label, cv=3)"
   ]
  },
  {
   "cell_type": "code",
   "execution_count": 55,
   "metadata": {},
   "outputs": [],
   "source": [
    "from sklearn.ensemble import RandomForestClassifier, ExtraTreesClassifier, GradientBoostingClassifier\n",
    "\n",
    "from sklearn.model_selection import cross_val_score\n",
    "clf = ExtraTreesClassifier(n_estimators=1000)\n",
    "scores = cross_val_score(clf, common_valid[[col for col in common_valid.columns if 'true_label' not in col]], \n",
    "                         common_valid.true_label, cv=3)"
   ]
  },
  {
   "cell_type": "code",
   "execution_count": 30,
   "metadata": {},
   "outputs": [
    {
     "data": {
      "text/plain": [
       "array([ 0.89013035,  0.89148737,  0.89389671])"
      ]
     },
     "execution_count": 30,
     "metadata": {},
     "output_type": "execute_result"
    }
   ],
   "source": [
    "# logistic\n",
    "scores"
   ]
  },
  {
   "cell_type": "code",
   "execution_count": 54,
   "metadata": {},
   "outputs": [
    {
     "data": {
      "text/plain": [
       "array([ 0.90595903,  0.91393826,  0.92018779])"
      ]
     },
     "execution_count": 54,
     "metadata": {},
     "output_type": "execute_result"
    }
   ],
   "source": [
    "# rf with n_estimators=1000\n",
    "scores"
   ]
  },
  {
   "cell_type": "code",
   "execution_count": 103,
   "metadata": {},
   "outputs": [
    {
     "data": {
      "text/plain": [
       "array([ 0.90502793,  0.91206735,  0.92018779])"
      ]
     },
     "execution_count": 103,
     "metadata": {},
     "output_type": "execute_result"
    }
   ],
   "source": [
    "# rf with n_estimators=1000\n",
    "scores"
   ]
  },
  {
   "cell_type": "code",
   "execution_count": 104,
   "metadata": {},
   "outputs": [
    {
     "data": {
      "text/plain": [
       "RandomForestClassifier(bootstrap=True, class_weight=None, criterion='gini',\n",
       "            max_depth=None, max_features='auto', max_leaf_nodes=None,\n",
       "            min_impurity_decrease=0.0, min_impurity_split=None,\n",
       "            min_samples_leaf=1, min_samples_split=2,\n",
       "            min_weight_fraction_leaf=0.0, n_estimators=1000, n_jobs=1,\n",
       "            oob_score=False, random_state=None, verbose=0,\n",
       "            warm_start=False)"
      ]
     },
     "execution_count": 104,
     "metadata": {},
     "output_type": "execute_result"
    }
   ],
   "source": [
    "clf.fit(common_valid[[col for col in common_valid.columns if 'true_label' not in col]], \n",
    "                         common_valid.true_label)"
   ]
  },
  {
   "cell_type": "code",
   "execution_count": 56,
   "metadata": {},
   "outputs": [
    {
     "data": {
      "text/plain": [
       "array([ 0.90316574,  0.90739008,  0.91643192])"
      ]
     },
     "execution_count": 56,
     "metadata": {},
     "output_type": "execute_result"
    }
   ],
   "source": [
    "# et with n_estimators=1000\n",
    "scores"
   ]
  },
  {
   "cell_type": "code",
   "execution_count": null,
   "metadata": {},
   "outputs": [],
   "source": []
  },
  {
   "cell_type": "code",
   "execution_count": null,
   "metadata": {},
   "outputs": [],
   "source": []
  },
  {
   "cell_type": "code",
   "execution_count": null,
   "metadata": {},
   "outputs": [],
   "source": []
  },
  {
   "cell_type": "code",
   "execution_count": 28,
   "metadata": {},
   "outputs": [
    {
     "data": {
      "text/html": [
       "<div>\n",
       "<style>\n",
       "    .dataframe thead tr:only-child th {\n",
       "        text-align: right;\n",
       "    }\n",
       "\n",
       "    .dataframe thead th {\n",
       "        text-align: left;\n",
       "    }\n",
       "\n",
       "    .dataframe tbody tr th {\n",
       "        vertical-align: top;\n",
       "    }\n",
       "</style>\n",
       "<table border=\"1\" class=\"dataframe\">\n",
       "  <thead>\n",
       "    <tr style=\"text-align: right;\">\n",
       "      <th></th>\n",
       "      <th>true_label</th>\n",
       "      <th>try_N0</th>\n",
       "      <th>try_N1</th>\n",
       "      <th>try_N2</th>\n",
       "      <th>try_N3</th>\n",
       "      <th>try_N4</th>\n",
       "      <th>try_N5</th>\n",
       "    </tr>\n",
       "  </thead>\n",
       "  <tbody>\n",
       "    <tr>\n",
       "      <th>291</th>\n",
       "      <td>down</td>\n",
       "      <td>no</td>\n",
       "      <td>no</td>\n",
       "      <td>go</td>\n",
       "      <td>go</td>\n",
       "      <td>go</td>\n",
       "      <td>go</td>\n",
       "    </tr>\n",
       "    <tr>\n",
       "      <th>1426</th>\n",
       "      <td>no</td>\n",
       "      <td>silence</td>\n",
       "      <td>silence</td>\n",
       "      <td>silence</td>\n",
       "      <td>silence</td>\n",
       "      <td>no</td>\n",
       "      <td>no</td>\n",
       "    </tr>\n",
       "    <tr>\n",
       "      <th>2644</th>\n",
       "      <td>unknown</td>\n",
       "      <td>unknown</td>\n",
       "      <td>unknown</td>\n",
       "      <td>yes</td>\n",
       "      <td>yes</td>\n",
       "      <td>yes</td>\n",
       "      <td>yes</td>\n",
       "    </tr>\n",
       "    <tr>\n",
       "      <th>576</th>\n",
       "      <td>silence</td>\n",
       "      <td>silence</td>\n",
       "      <td>silence</td>\n",
       "      <td>silence</td>\n",
       "      <td>silence</td>\n",
       "      <td>silence</td>\n",
       "      <td>silence</td>\n",
       "    </tr>\n",
       "    <tr>\n",
       "      <th>1144</th>\n",
       "      <td>up</td>\n",
       "      <td>up</td>\n",
       "      <td>up</td>\n",
       "      <td>up</td>\n",
       "      <td>up</td>\n",
       "      <td>up</td>\n",
       "      <td>up</td>\n",
       "    </tr>\n",
       "    <tr>\n",
       "      <th>753</th>\n",
       "      <td>no</td>\n",
       "      <td>go</td>\n",
       "      <td>right</td>\n",
       "      <td>right</td>\n",
       "      <td>right</td>\n",
       "      <td>right</td>\n",
       "      <td>right</td>\n",
       "    </tr>\n",
       "    <tr>\n",
       "      <th>2150</th>\n",
       "      <td>on</td>\n",
       "      <td>on</td>\n",
       "      <td>on</td>\n",
       "      <td>on</td>\n",
       "      <td>on</td>\n",
       "      <td>on</td>\n",
       "      <td>on</td>\n",
       "    </tr>\n",
       "    <tr>\n",
       "      <th>1564</th>\n",
       "      <td>right</td>\n",
       "      <td>right</td>\n",
       "      <td>unknown</td>\n",
       "      <td>unknown</td>\n",
       "      <td>unknown</td>\n",
       "      <td>unknown</td>\n",
       "      <td>unknown</td>\n",
       "    </tr>\n",
       "    <tr>\n",
       "      <th>3174</th>\n",
       "      <td>down</td>\n",
       "      <td>down</td>\n",
       "      <td>down</td>\n",
       "      <td>down</td>\n",
       "      <td>down</td>\n",
       "      <td>down</td>\n",
       "      <td>down</td>\n",
       "    </tr>\n",
       "    <tr>\n",
       "      <th>2287</th>\n",
       "      <td>unknown</td>\n",
       "      <td>unknown</td>\n",
       "      <td>silence</td>\n",
       "      <td>silence</td>\n",
       "      <td>silence</td>\n",
       "      <td>silence</td>\n",
       "      <td>silence</td>\n",
       "    </tr>\n",
       "    <tr>\n",
       "      <th>760</th>\n",
       "      <td>no</td>\n",
       "      <td>silence</td>\n",
       "      <td>silence</td>\n",
       "      <td>silence</td>\n",
       "      <td>no</td>\n",
       "      <td>no</td>\n",
       "      <td>no</td>\n",
       "    </tr>\n",
       "    <tr>\n",
       "      <th>2308</th>\n",
       "      <td>unknown</td>\n",
       "      <td>go</td>\n",
       "      <td>go</td>\n",
       "      <td>go</td>\n",
       "      <td>go</td>\n",
       "      <td>go</td>\n",
       "      <td>unknown</td>\n",
       "    </tr>\n",
       "    <tr>\n",
       "      <th>43</th>\n",
       "      <td>no</td>\n",
       "      <td>no</td>\n",
       "      <td>no</td>\n",
       "      <td>no</td>\n",
       "      <td>no</td>\n",
       "      <td>no</td>\n",
       "      <td>no</td>\n",
       "    </tr>\n",
       "    <tr>\n",
       "      <th>327</th>\n",
       "      <td>silence</td>\n",
       "      <td>silence</td>\n",
       "      <td>silence</td>\n",
       "      <td>silence</td>\n",
       "      <td>silence</td>\n",
       "      <td>silence</td>\n",
       "      <td>silence</td>\n",
       "    </tr>\n",
       "    <tr>\n",
       "      <th>1002</th>\n",
       "      <td>go</td>\n",
       "      <td>go</td>\n",
       "      <td>right</td>\n",
       "      <td>right</td>\n",
       "      <td>right</td>\n",
       "      <td>right</td>\n",
       "      <td>right</td>\n",
       "    </tr>\n",
       "    <tr>\n",
       "      <th>3084</th>\n",
       "      <td>silence</td>\n",
       "      <td>silence</td>\n",
       "      <td>silence</td>\n",
       "      <td>silence</td>\n",
       "      <td>silence</td>\n",
       "      <td>silence</td>\n",
       "      <td>silence</td>\n",
       "    </tr>\n",
       "    <tr>\n",
       "      <th>40</th>\n",
       "      <td>off</td>\n",
       "      <td>off</td>\n",
       "      <td>off</td>\n",
       "      <td>off</td>\n",
       "      <td>off</td>\n",
       "      <td>off</td>\n",
       "      <td>off</td>\n",
       "    </tr>\n",
       "    <tr>\n",
       "      <th>2045</th>\n",
       "      <td>no</td>\n",
       "      <td>no</td>\n",
       "      <td>no</td>\n",
       "      <td>no</td>\n",
       "      <td>no</td>\n",
       "      <td>no</td>\n",
       "      <td>no</td>\n",
       "    </tr>\n",
       "    <tr>\n",
       "      <th>1993</th>\n",
       "      <td>up</td>\n",
       "      <td>up</td>\n",
       "      <td>up</td>\n",
       "      <td>up</td>\n",
       "      <td>up</td>\n",
       "      <td>up</td>\n",
       "      <td>up</td>\n",
       "    </tr>\n",
       "    <tr>\n",
       "      <th>1892</th>\n",
       "      <td>unknown</td>\n",
       "      <td>unknown</td>\n",
       "      <td>unknown</td>\n",
       "      <td>unknown</td>\n",
       "      <td>unknown</td>\n",
       "      <td>unknown</td>\n",
       "      <td>unknown</td>\n",
       "    </tr>\n",
       "    <tr>\n",
       "      <th>923</th>\n",
       "      <td>down</td>\n",
       "      <td>silence</td>\n",
       "      <td>silence</td>\n",
       "      <td>silence</td>\n",
       "      <td>unknown</td>\n",
       "      <td>unknown</td>\n",
       "      <td>unknown</td>\n",
       "    </tr>\n",
       "    <tr>\n",
       "      <th>1401</th>\n",
       "      <td>off</td>\n",
       "      <td>left</td>\n",
       "      <td>left</td>\n",
       "      <td>left</td>\n",
       "      <td>left</td>\n",
       "      <td>left</td>\n",
       "      <td>left</td>\n",
       "    </tr>\n",
       "    <tr>\n",
       "      <th>1843</th>\n",
       "      <td>off</td>\n",
       "      <td>silence</td>\n",
       "      <td>silence</td>\n",
       "      <td>silence</td>\n",
       "      <td>silence</td>\n",
       "      <td>silence</td>\n",
       "      <td>silence</td>\n",
       "    </tr>\n",
       "    <tr>\n",
       "      <th>3009</th>\n",
       "      <td>yes</td>\n",
       "      <td>yes</td>\n",
       "      <td>yes</td>\n",
       "      <td>yes</td>\n",
       "      <td>yes</td>\n",
       "      <td>yes</td>\n",
       "      <td>yes</td>\n",
       "    </tr>\n",
       "    <tr>\n",
       "      <th>743</th>\n",
       "      <td>no</td>\n",
       "      <td>no</td>\n",
       "      <td>no</td>\n",
       "      <td>no</td>\n",
       "      <td>no</td>\n",
       "      <td>no</td>\n",
       "      <td>no</td>\n",
       "    </tr>\n",
       "    <tr>\n",
       "      <th>2488</th>\n",
       "      <td>go</td>\n",
       "      <td>up</td>\n",
       "      <td>up</td>\n",
       "      <td>up</td>\n",
       "      <td>no</td>\n",
       "      <td>no</td>\n",
       "      <td>no</td>\n",
       "    </tr>\n",
       "    <tr>\n",
       "      <th>2675</th>\n",
       "      <td>silence</td>\n",
       "      <td>silence</td>\n",
       "      <td>silence</td>\n",
       "      <td>silence</td>\n",
       "      <td>silence</td>\n",
       "      <td>silence</td>\n",
       "      <td>silence</td>\n",
       "    </tr>\n",
       "    <tr>\n",
       "      <th>2527</th>\n",
       "      <td>unknown</td>\n",
       "      <td>stop</td>\n",
       "      <td>stop</td>\n",
       "      <td>stop</td>\n",
       "      <td>stop</td>\n",
       "      <td>stop</td>\n",
       "      <td>off</td>\n",
       "    </tr>\n",
       "    <tr>\n",
       "      <th>2382</th>\n",
       "      <td>off</td>\n",
       "      <td>unknown</td>\n",
       "      <td>unknown</td>\n",
       "      <td>unknown</td>\n",
       "      <td>unknown</td>\n",
       "      <td>unknown</td>\n",
       "      <td>off</td>\n",
       "    </tr>\n",
       "    <tr>\n",
       "      <th>2850</th>\n",
       "      <td>yes</td>\n",
       "      <td>stop</td>\n",
       "      <td>stop</td>\n",
       "      <td>stop</td>\n",
       "      <td>left</td>\n",
       "      <td>left</td>\n",
       "      <td>left</td>\n",
       "    </tr>\n",
       "    <tr>\n",
       "      <th>...</th>\n",
       "      <td>...</td>\n",
       "      <td>...</td>\n",
       "      <td>...</td>\n",
       "      <td>...</td>\n",
       "      <td>...</td>\n",
       "      <td>...</td>\n",
       "      <td>...</td>\n",
       "    </tr>\n",
       "    <tr>\n",
       "      <th>529</th>\n",
       "      <td>go</td>\n",
       "      <td>go</td>\n",
       "      <td>go</td>\n",
       "      <td>go</td>\n",
       "      <td>go</td>\n",
       "      <td>go</td>\n",
       "      <td>go</td>\n",
       "    </tr>\n",
       "    <tr>\n",
       "      <th>1033</th>\n",
       "      <td>silence</td>\n",
       "      <td>silence</td>\n",
       "      <td>silence</td>\n",
       "      <td>silence</td>\n",
       "      <td>silence</td>\n",
       "      <td>silence</td>\n",
       "      <td>silence</td>\n",
       "    </tr>\n",
       "    <tr>\n",
       "      <th>114</th>\n",
       "      <td>left</td>\n",
       "      <td>silence</td>\n",
       "      <td>silence</td>\n",
       "      <td>silence</td>\n",
       "      <td>silence</td>\n",
       "      <td>silence</td>\n",
       "      <td>silence</td>\n",
       "    </tr>\n",
       "    <tr>\n",
       "      <th>1868</th>\n",
       "      <td>stop</td>\n",
       "      <td>stop</td>\n",
       "      <td>no</td>\n",
       "      <td>no</td>\n",
       "      <td>no</td>\n",
       "      <td>no</td>\n",
       "      <td>no</td>\n",
       "    </tr>\n",
       "    <tr>\n",
       "      <th>2654</th>\n",
       "      <td>down</td>\n",
       "      <td>down</td>\n",
       "      <td>down</td>\n",
       "      <td>down</td>\n",
       "      <td>down</td>\n",
       "      <td>down</td>\n",
       "      <td>down</td>\n",
       "    </tr>\n",
       "    <tr>\n",
       "      <th>2967</th>\n",
       "      <td>stop</td>\n",
       "      <td>down</td>\n",
       "      <td>down</td>\n",
       "      <td>down</td>\n",
       "      <td>down</td>\n",
       "      <td>down</td>\n",
       "      <td>down</td>\n",
       "    </tr>\n",
       "    <tr>\n",
       "      <th>842</th>\n",
       "      <td>off</td>\n",
       "      <td>off</td>\n",
       "      <td>off</td>\n",
       "      <td>off</td>\n",
       "      <td>off</td>\n",
       "      <td>off</td>\n",
       "      <td>off</td>\n",
       "    </tr>\n",
       "    <tr>\n",
       "      <th>1953</th>\n",
       "      <td>unknown</td>\n",
       "      <td>right</td>\n",
       "      <td>right</td>\n",
       "      <td>right</td>\n",
       "      <td>no</td>\n",
       "      <td>no</td>\n",
       "      <td>no</td>\n",
       "    </tr>\n",
       "    <tr>\n",
       "      <th>604</th>\n",
       "      <td>left</td>\n",
       "      <td>left</td>\n",
       "      <td>unknown</td>\n",
       "      <td>unknown</td>\n",
       "      <td>unknown</td>\n",
       "      <td>unknown</td>\n",
       "      <td>unknown</td>\n",
       "    </tr>\n",
       "    <tr>\n",
       "      <th>633</th>\n",
       "      <td>left</td>\n",
       "      <td>left</td>\n",
       "      <td>left</td>\n",
       "      <td>left</td>\n",
       "      <td>left</td>\n",
       "      <td>left</td>\n",
       "      <td>left</td>\n",
       "    </tr>\n",
       "    <tr>\n",
       "      <th>1405</th>\n",
       "      <td>stop</td>\n",
       "      <td>up</td>\n",
       "      <td>up</td>\n",
       "      <td>up</td>\n",
       "      <td>up</td>\n",
       "      <td>up</td>\n",
       "      <td>up</td>\n",
       "    </tr>\n",
       "    <tr>\n",
       "      <th>284</th>\n",
       "      <td>no</td>\n",
       "      <td>on</td>\n",
       "      <td>on</td>\n",
       "      <td>on</td>\n",
       "      <td>on</td>\n",
       "      <td>on</td>\n",
       "      <td>on</td>\n",
       "    </tr>\n",
       "    <tr>\n",
       "      <th>1926</th>\n",
       "      <td>yes</td>\n",
       "      <td>yes</td>\n",
       "      <td>yes</td>\n",
       "      <td>yes</td>\n",
       "      <td>yes</td>\n",
       "      <td>yes</td>\n",
       "      <td>yes</td>\n",
       "    </tr>\n",
       "    <tr>\n",
       "      <th>1791</th>\n",
       "      <td>no</td>\n",
       "      <td>up</td>\n",
       "      <td>right</td>\n",
       "      <td>right</td>\n",
       "      <td>right</td>\n",
       "      <td>right</td>\n",
       "      <td>right</td>\n",
       "    </tr>\n",
       "    <tr>\n",
       "      <th>1018</th>\n",
       "      <td>stop</td>\n",
       "      <td>stop</td>\n",
       "      <td>stop</td>\n",
       "      <td>stop</td>\n",
       "      <td>stop</td>\n",
       "      <td>stop</td>\n",
       "      <td>stop</td>\n",
       "    </tr>\n",
       "    <tr>\n",
       "      <th>2163</th>\n",
       "      <td>unknown</td>\n",
       "      <td>left</td>\n",
       "      <td>left</td>\n",
       "      <td>left</td>\n",
       "      <td>left</td>\n",
       "      <td>unknown</td>\n",
       "      <td>unknown</td>\n",
       "    </tr>\n",
       "    <tr>\n",
       "      <th>92</th>\n",
       "      <td>right</td>\n",
       "      <td>right</td>\n",
       "      <td>on</td>\n",
       "      <td>on</td>\n",
       "      <td>on</td>\n",
       "      <td>on</td>\n",
       "      <td>on</td>\n",
       "    </tr>\n",
       "    <tr>\n",
       "      <th>2078</th>\n",
       "      <td>off</td>\n",
       "      <td>off</td>\n",
       "      <td>off</td>\n",
       "      <td>off</td>\n",
       "      <td>off</td>\n",
       "      <td>off</td>\n",
       "      <td>off</td>\n",
       "    </tr>\n",
       "    <tr>\n",
       "      <th>1712</th>\n",
       "      <td>left</td>\n",
       "      <td>left</td>\n",
       "      <td>left</td>\n",
       "      <td>left</td>\n",
       "      <td>left</td>\n",
       "      <td>left</td>\n",
       "      <td>left</td>\n",
       "    </tr>\n",
       "    <tr>\n",
       "      <th>1208</th>\n",
       "      <td>unknown</td>\n",
       "      <td>unknown</td>\n",
       "      <td>right</td>\n",
       "      <td>right</td>\n",
       "      <td>right</td>\n",
       "      <td>right</td>\n",
       "      <td>right</td>\n",
       "    </tr>\n",
       "    <tr>\n",
       "      <th>682</th>\n",
       "      <td>right</td>\n",
       "      <td>down</td>\n",
       "      <td>down</td>\n",
       "      <td>down</td>\n",
       "      <td>down</td>\n",
       "      <td>down</td>\n",
       "      <td>right</td>\n",
       "    </tr>\n",
       "    <tr>\n",
       "      <th>455</th>\n",
       "      <td>go</td>\n",
       "      <td>go</td>\n",
       "      <td>go</td>\n",
       "      <td>on</td>\n",
       "      <td>on</td>\n",
       "      <td>on</td>\n",
       "      <td>on</td>\n",
       "    </tr>\n",
       "    <tr>\n",
       "      <th>926</th>\n",
       "      <td>unknown</td>\n",
       "      <td>unknown</td>\n",
       "      <td>yes</td>\n",
       "      <td>yes</td>\n",
       "      <td>yes</td>\n",
       "      <td>yes</td>\n",
       "      <td>yes</td>\n",
       "    </tr>\n",
       "    <tr>\n",
       "      <th>1107</th>\n",
       "      <td>stop</td>\n",
       "      <td>stop</td>\n",
       "      <td>stop</td>\n",
       "      <td>stop</td>\n",
       "      <td>stop</td>\n",
       "      <td>stop</td>\n",
       "      <td>stop</td>\n",
       "    </tr>\n",
       "    <tr>\n",
       "      <th>1674</th>\n",
       "      <td>up</td>\n",
       "      <td>up</td>\n",
       "      <td>up</td>\n",
       "      <td>up</td>\n",
       "      <td>up</td>\n",
       "      <td>up</td>\n",
       "      <td>up</td>\n",
       "    </tr>\n",
       "    <tr>\n",
       "      <th>767</th>\n",
       "      <td>right</td>\n",
       "      <td>right</td>\n",
       "      <td>right</td>\n",
       "      <td>right</td>\n",
       "      <td>right</td>\n",
       "      <td>right</td>\n",
       "      <td>right</td>\n",
       "    </tr>\n",
       "    <tr>\n",
       "      <th>647</th>\n",
       "      <td>up</td>\n",
       "      <td>up</td>\n",
       "      <td>left</td>\n",
       "      <td>left</td>\n",
       "      <td>left</td>\n",
       "      <td>left</td>\n",
       "      <td>left</td>\n",
       "    </tr>\n",
       "    <tr>\n",
       "      <th>250</th>\n",
       "      <td>unknown</td>\n",
       "      <td>right</td>\n",
       "      <td>unknown</td>\n",
       "      <td>unknown</td>\n",
       "      <td>unknown</td>\n",
       "      <td>unknown</td>\n",
       "      <td>unknown</td>\n",
       "    </tr>\n",
       "    <tr>\n",
       "      <th>185</th>\n",
       "      <td>silence</td>\n",
       "      <td>silence</td>\n",
       "      <td>silence</td>\n",
       "      <td>silence</td>\n",
       "      <td>silence</td>\n",
       "      <td>silence</td>\n",
       "      <td>silence</td>\n",
       "    </tr>\n",
       "    <tr>\n",
       "      <th>2985</th>\n",
       "      <td>yes</td>\n",
       "      <td>yes</td>\n",
       "      <td>yes</td>\n",
       "      <td>yes</td>\n",
       "      <td>yes</td>\n",
       "      <td>yes</td>\n",
       "      <td>yes</td>\n",
       "    </tr>\n",
       "  </tbody>\n",
       "</table>\n",
       "<p>3208 rows × 7 columns</p>\n",
       "</div>"
      ],
      "text/plain": [
       "     true_label   try_N0   try_N1   try_N2   try_N3   try_N4   try_N5\n",
       "291        down       no       no       go       go       go       go\n",
       "1426         no  silence  silence  silence  silence       no       no\n",
       "2644    unknown  unknown  unknown      yes      yes      yes      yes\n",
       "576     silence  silence  silence  silence  silence  silence  silence\n",
       "1144         up       up       up       up       up       up       up\n",
       "753          no       go    right    right    right    right    right\n",
       "2150         on       on       on       on       on       on       on\n",
       "1564      right    right  unknown  unknown  unknown  unknown  unknown\n",
       "3174       down     down     down     down     down     down     down\n",
       "2287    unknown  unknown  silence  silence  silence  silence  silence\n",
       "760          no  silence  silence  silence       no       no       no\n",
       "2308    unknown       go       go       go       go       go  unknown\n",
       "43           no       no       no       no       no       no       no\n",
       "327     silence  silence  silence  silence  silence  silence  silence\n",
       "1002         go       go    right    right    right    right    right\n",
       "3084    silence  silence  silence  silence  silence  silence  silence\n",
       "40          off      off      off      off      off      off      off\n",
       "2045         no       no       no       no       no       no       no\n",
       "1993         up       up       up       up       up       up       up\n",
       "1892    unknown  unknown  unknown  unknown  unknown  unknown  unknown\n",
       "923        down  silence  silence  silence  unknown  unknown  unknown\n",
       "1401        off     left     left     left     left     left     left\n",
       "1843        off  silence  silence  silence  silence  silence  silence\n",
       "3009        yes      yes      yes      yes      yes      yes      yes\n",
       "743          no       no       no       no       no       no       no\n",
       "2488         go       up       up       up       no       no       no\n",
       "2675    silence  silence  silence  silence  silence  silence  silence\n",
       "2527    unknown     stop     stop     stop     stop     stop      off\n",
       "2382        off  unknown  unknown  unknown  unknown  unknown      off\n",
       "2850        yes     stop     stop     stop     left     left     left\n",
       "...         ...      ...      ...      ...      ...      ...      ...\n",
       "529          go       go       go       go       go       go       go\n",
       "1033    silence  silence  silence  silence  silence  silence  silence\n",
       "114        left  silence  silence  silence  silence  silence  silence\n",
       "1868       stop     stop       no       no       no       no       no\n",
       "2654       down     down     down     down     down     down     down\n",
       "2967       stop     down     down     down     down     down     down\n",
       "842         off      off      off      off      off      off      off\n",
       "1953    unknown    right    right    right       no       no       no\n",
       "604        left     left  unknown  unknown  unknown  unknown  unknown\n",
       "633        left     left     left     left     left     left     left\n",
       "1405       stop       up       up       up       up       up       up\n",
       "284          no       on       on       on       on       on       on\n",
       "1926        yes      yes      yes      yes      yes      yes      yes\n",
       "1791         no       up    right    right    right    right    right\n",
       "1018       stop     stop     stop     stop     stop     stop     stop\n",
       "2163    unknown     left     left     left     left  unknown  unknown\n",
       "92        right    right       on       on       on       on       on\n",
       "2078        off      off      off      off      off      off      off\n",
       "1712       left     left     left     left     left     left     left\n",
       "1208    unknown  unknown    right    right    right    right    right\n",
       "682       right     down     down     down     down     down    right\n",
       "455          go       go       go       on       on       on       on\n",
       "926     unknown  unknown      yes      yes      yes      yes      yes\n",
       "1107       stop     stop     stop     stop     stop     stop     stop\n",
       "1674         up       up       up       up       up       up       up\n",
       "767       right    right    right    right    right    right    right\n",
       "647          up       up     left     left     left     left     left\n",
       "250     unknown    right  unknown  unknown  unknown  unknown  unknown\n",
       "185     silence  silence  silence  silence  silence  silence  silence\n",
       "2985        yes      yes      yes      yes      yes      yes      yes\n",
       "\n",
       "[3208 rows x 7 columns]"
      ]
     },
     "execution_count": 28,
     "metadata": {},
     "output_type": "execute_result"
    }
   ],
   "source": [
    "find_coef[[col for col in find_coef.columns if ('try_N' in col) | ('true_label' in col)]]"
   ]
  },
  {
   "cell_type": "code",
   "execution_count": 29,
   "metadata": {},
   "outputs": [],
   "source": [
    "ensemble = common_valid[['res15_max_prob_label', 'gmean_max_prob_label', \n",
    "                         \"gmean_squared_ex_res_fifthteen_max_prob_label\",\n",
    "                         'mean_max_prob_label', 'gmean_squared_max_prob_label', \n",
    "                         'true_label']]"
   ]
  },
  {
   "cell_type": "code",
   "execution_count": 30,
   "metadata": {},
   "outputs": [
    {
     "data": {
      "text/plain": [
       "(2894, 6)"
      ]
     },
     "execution_count": 30,
     "metadata": {},
     "output_type": "execute_result"
    }
   ],
   "source": [
    "ensemble[ensemble['res15_max_prob_label'] == ensemble['true_label']].shape"
   ]
  },
  {
   "cell_type": "code",
   "execution_count": 31,
   "metadata": {},
   "outputs": [
    {
     "data": {
      "text/plain": [
       "(1348, 6)"
      ]
     },
     "execution_count": 31,
     "metadata": {},
     "output_type": "execute_result"
    }
   ],
   "source": [
    "ensemble[ensemble['gmean_max_prob_label'] == ensemble['true_label']].shape"
   ]
  },
  {
   "cell_type": "code",
   "execution_count": 32,
   "metadata": {},
   "outputs": [
    {
     "data": {
      "text/plain": [
       "(1213, 6)"
      ]
     },
     "execution_count": 32,
     "metadata": {},
     "output_type": "execute_result"
    }
   ],
   "source": [
    "ensemble[ensemble['mean_max_prob_label'] == ensemble['true_label']].shape"
   ]
  },
  {
   "cell_type": "code",
   "execution_count": 33,
   "metadata": {},
   "outputs": [
    {
     "data": {
      "text/plain": [
       "(1348, 6)"
      ]
     },
     "execution_count": 33,
     "metadata": {},
     "output_type": "execute_result"
    }
   ],
   "source": [
    "ensemble[ensemble['gmean_squared_max_prob_label'] == ensemble['true_label']].shape"
   ]
  },
  {
   "cell_type": "code",
   "execution_count": 34,
   "metadata": {},
   "outputs": [
    {
     "data": {
      "text/plain": [
       "(769, 6)"
      ]
     },
     "execution_count": 34,
     "metadata": {},
     "output_type": "execute_result"
    }
   ],
   "source": [
    "ensemble[ensemble['gmean_squared_ex_res_fifthteen_max_prob_label'] == ensemble['true_label']].shape"
   ]
  },
  {
   "cell_type": "markdown",
   "metadata": {},
   "source": [
    "# Вот тут ЖЁПА"
   ]
  },
  {
   "cell_type": "code",
   "execution_count": 35,
   "metadata": {},
   "outputs": [
    {
     "data": {
      "text/plain": [
       "(313, 103)"
      ]
     },
     "execution_count": 35,
     "metadata": {},
     "output_type": "execute_result"
    }
   ],
   "source": [
    "common_valid[(common_valid.res26_max_prob_label == common_valid.true_label)].shape"
   ]
  },
  {
   "cell_type": "code",
   "execution_count": 36,
   "metadata": {},
   "outputs": [
    {
     "data": {
      "text/plain": [
       "(339, 103)"
      ]
     },
     "execution_count": 36,
     "metadata": {},
     "output_type": "execute_result"
    }
   ],
   "source": [
    "common_valid[(common_valid.res8_max_prob_label == common_valid.true_label)].shape"
   ]
  },
  {
   "cell_type": "code",
   "execution_count": 37,
   "metadata": {},
   "outputs": [
    {
     "data": {
      "text/plain": [
       "(24, 103)"
      ]
     },
     "execution_count": 37,
     "metadata": {},
     "output_type": "execute_result"
    }
   ],
   "source": [
    "common_valid[(common_valid.res26_max_prob_label == common_valid.true_label) &\n",
    "             (common_valid.res15_max_prob_label != common_valid.true_label)].shape"
   ]
  },
  {
   "cell_type": "code",
   "execution_count": 38,
   "metadata": {},
   "outputs": [
    {
     "data": {
      "text/html": [
       "<div>\n",
       "<style>\n",
       "    .dataframe thead tr:only-child th {\n",
       "        text-align: right;\n",
       "    }\n",
       "\n",
       "    .dataframe thead th {\n",
       "        text-align: left;\n",
       "    }\n",
       "\n",
       "    .dataframe tbody tr th {\n",
       "        vertical-align: top;\n",
       "    }\n",
       "</style>\n",
       "<table border=\"1\" class=\"dataframe\">\n",
       "  <thead>\n",
       "    <tr style=\"text-align: right;\">\n",
       "      <th></th>\n",
       "      <th>res15_max_prob_label</th>\n",
       "      <th>gmean_max_prob_label</th>\n",
       "      <th>gmean_squared_ex_res_fifthteen_max_prob_label</th>\n",
       "      <th>mean_max_prob_label</th>\n",
       "      <th>gmean_squared_max_prob_label</th>\n",
       "      <th>true_label</th>\n",
       "    </tr>\n",
       "  </thead>\n",
       "  <tbody>\n",
       "    <tr>\n",
       "      <th>1888</th>\n",
       "      <td>go</td>\n",
       "      <td>unknown</td>\n",
       "      <td>unknown</td>\n",
       "      <td>unknown</td>\n",
       "      <td>unknown</td>\n",
       "      <td>unknown</td>\n",
       "    </tr>\n",
       "    <tr>\n",
       "      <th>1009</th>\n",
       "      <td>up</td>\n",
       "      <td>off</td>\n",
       "      <td>off</td>\n",
       "      <td>yes</td>\n",
       "      <td>off</td>\n",
       "      <td>yes</td>\n",
       "    </tr>\n",
       "    <tr>\n",
       "      <th>721</th>\n",
       "      <td>no</td>\n",
       "      <td>silence</td>\n",
       "      <td>silence</td>\n",
       "      <td>silence</td>\n",
       "      <td>silence</td>\n",
       "      <td>unknown</td>\n",
       "    </tr>\n",
       "    <tr>\n",
       "      <th>372</th>\n",
       "      <td>down</td>\n",
       "      <td>no</td>\n",
       "      <td>no</td>\n",
       "      <td>no</td>\n",
       "      <td>no</td>\n",
       "      <td>no</td>\n",
       "    </tr>\n",
       "    <tr>\n",
       "      <th>1974</th>\n",
       "      <td>silence</td>\n",
       "      <td>silence</td>\n",
       "      <td>silence</td>\n",
       "      <td>silence</td>\n",
       "      <td>silence</td>\n",
       "      <td>on</td>\n",
       "    </tr>\n",
       "    <tr>\n",
       "      <th>1497</th>\n",
       "      <td>yes</td>\n",
       "      <td>unknown</td>\n",
       "      <td>unknown</td>\n",
       "      <td>unknown</td>\n",
       "      <td>unknown</td>\n",
       "      <td>unknown</td>\n",
       "    </tr>\n",
       "    <tr>\n",
       "      <th>2232</th>\n",
       "      <td>stop</td>\n",
       "      <td>unknown</td>\n",
       "      <td>unknown</td>\n",
       "      <td>silence</td>\n",
       "      <td>unknown</td>\n",
       "      <td>unknown</td>\n",
       "    </tr>\n",
       "    <tr>\n",
       "      <th>3175</th>\n",
       "      <td>unknown</td>\n",
       "      <td>yes</td>\n",
       "      <td>yes</td>\n",
       "      <td>yes</td>\n",
       "      <td>yes</td>\n",
       "      <td>yes</td>\n",
       "    </tr>\n",
       "    <tr>\n",
       "      <th>2486</th>\n",
       "      <td>stop</td>\n",
       "      <td>no</td>\n",
       "      <td>no</td>\n",
       "      <td>no</td>\n",
       "      <td>no</td>\n",
       "      <td>up</td>\n",
       "    </tr>\n",
       "    <tr>\n",
       "      <th>2050</th>\n",
       "      <td>up</td>\n",
       "      <td>unknown</td>\n",
       "      <td>unknown</td>\n",
       "      <td>unknown</td>\n",
       "      <td>unknown</td>\n",
       "      <td>unknown</td>\n",
       "    </tr>\n",
       "    <tr>\n",
       "      <th>918</th>\n",
       "      <td>go</td>\n",
       "      <td>silence</td>\n",
       "      <td>down</td>\n",
       "      <td>down</td>\n",
       "      <td>silence</td>\n",
       "      <td>down</td>\n",
       "    </tr>\n",
       "    <tr>\n",
       "      <th>1194</th>\n",
       "      <td>off</td>\n",
       "      <td>unknown</td>\n",
       "      <td>unknown</td>\n",
       "      <td>unknown</td>\n",
       "      <td>unknown</td>\n",
       "      <td>unknown</td>\n",
       "    </tr>\n",
       "    <tr>\n",
       "      <th>3159</th>\n",
       "      <td>silence</td>\n",
       "      <td>silence</td>\n",
       "      <td>silence</td>\n",
       "      <td>silence</td>\n",
       "      <td>silence</td>\n",
       "      <td>unknown</td>\n",
       "    </tr>\n",
       "    <tr>\n",
       "      <th>1523</th>\n",
       "      <td>silence</td>\n",
       "      <td>unknown</td>\n",
       "      <td>unknown</td>\n",
       "      <td>up</td>\n",
       "      <td>unknown</td>\n",
       "      <td>unknown</td>\n",
       "    </tr>\n",
       "    <tr>\n",
       "      <th>2364</th>\n",
       "      <td>silence</td>\n",
       "      <td>unknown</td>\n",
       "      <td>unknown</td>\n",
       "      <td>unknown</td>\n",
       "      <td>unknown</td>\n",
       "      <td>unknown</td>\n",
       "    </tr>\n",
       "    <tr>\n",
       "      <th>2162</th>\n",
       "      <td>unknown</td>\n",
       "      <td>unknown</td>\n",
       "      <td>yes</td>\n",
       "      <td>right</td>\n",
       "      <td>unknown</td>\n",
       "      <td>right</td>\n",
       "    </tr>\n",
       "    <tr>\n",
       "      <th>1177</th>\n",
       "      <td>up</td>\n",
       "      <td>off</td>\n",
       "      <td>off</td>\n",
       "      <td>off</td>\n",
       "      <td>off</td>\n",
       "      <td>off</td>\n",
       "    </tr>\n",
       "    <tr>\n",
       "      <th>90</th>\n",
       "      <td>unknown</td>\n",
       "      <td>right</td>\n",
       "      <td>right</td>\n",
       "      <td>right</td>\n",
       "      <td>right</td>\n",
       "      <td>right</td>\n",
       "    </tr>\n",
       "    <tr>\n",
       "      <th>578</th>\n",
       "      <td>stop</td>\n",
       "      <td>unknown</td>\n",
       "      <td>off</td>\n",
       "      <td>off</td>\n",
       "      <td>unknown</td>\n",
       "      <td>unknown</td>\n",
       "    </tr>\n",
       "    <tr>\n",
       "      <th>3115</th>\n",
       "      <td>silence</td>\n",
       "      <td>unknown</td>\n",
       "      <td>unknown</td>\n",
       "      <td>unknown</td>\n",
       "      <td>unknown</td>\n",
       "      <td>unknown</td>\n",
       "    </tr>\n",
       "    <tr>\n",
       "      <th>2523</th>\n",
       "      <td>off</td>\n",
       "      <td>no</td>\n",
       "      <td>no</td>\n",
       "      <td>go</td>\n",
       "      <td>no</td>\n",
       "      <td>go</td>\n",
       "    </tr>\n",
       "    <tr>\n",
       "      <th>3169</th>\n",
       "      <td>up</td>\n",
       "      <td>no</td>\n",
       "      <td>no</td>\n",
       "      <td>no</td>\n",
       "      <td>no</td>\n",
       "      <td>no</td>\n",
       "    </tr>\n",
       "    <tr>\n",
       "      <th>1205</th>\n",
       "      <td>up</td>\n",
       "      <td>unknown</td>\n",
       "      <td>unknown</td>\n",
       "      <td>unknown</td>\n",
       "      <td>unknown</td>\n",
       "      <td>unknown</td>\n",
       "    </tr>\n",
       "    <tr>\n",
       "      <th>1143</th>\n",
       "      <td>down</td>\n",
       "      <td>unknown</td>\n",
       "      <td>unknown</td>\n",
       "      <td>yes</td>\n",
       "      <td>unknown</td>\n",
       "      <td>unknown</td>\n",
       "    </tr>\n",
       "  </tbody>\n",
       "</table>\n",
       "</div>"
      ],
      "text/plain": [
       "     res15_max_prob_label gmean_max_prob_label  \\\n",
       "1888                   go              unknown   \n",
       "1009                   up                  off   \n",
       "721                    no              silence   \n",
       "372                  down                   no   \n",
       "1974              silence              silence   \n",
       "1497                  yes              unknown   \n",
       "2232                 stop              unknown   \n",
       "3175              unknown                  yes   \n",
       "2486                 stop                   no   \n",
       "2050                   up              unknown   \n",
       "918                    go              silence   \n",
       "1194                  off              unknown   \n",
       "3159              silence              silence   \n",
       "1523              silence              unknown   \n",
       "2364              silence              unknown   \n",
       "2162              unknown              unknown   \n",
       "1177                   up                  off   \n",
       "90                unknown                right   \n",
       "578                  stop              unknown   \n",
       "3115              silence              unknown   \n",
       "2523                  off                   no   \n",
       "3169                   up                   no   \n",
       "1205                   up              unknown   \n",
       "1143                 down              unknown   \n",
       "\n",
       "     gmean_squared_ex_res_fifthteen_max_prob_label mean_max_prob_label  \\\n",
       "1888                                       unknown             unknown   \n",
       "1009                                           off                 yes   \n",
       "721                                        silence             silence   \n",
       "372                                             no                  no   \n",
       "1974                                       silence             silence   \n",
       "1497                                       unknown             unknown   \n",
       "2232                                       unknown             silence   \n",
       "3175                                           yes                 yes   \n",
       "2486                                            no                  no   \n",
       "2050                                       unknown             unknown   \n",
       "918                                           down                down   \n",
       "1194                                       unknown             unknown   \n",
       "3159                                       silence             silence   \n",
       "1523                                       unknown                  up   \n",
       "2364                                       unknown             unknown   \n",
       "2162                                           yes               right   \n",
       "1177                                           off                 off   \n",
       "90                                           right               right   \n",
       "578                                            off                 off   \n",
       "3115                                       unknown             unknown   \n",
       "2523                                            no                  go   \n",
       "3169                                            no                  no   \n",
       "1205                                       unknown             unknown   \n",
       "1143                                       unknown                 yes   \n",
       "\n",
       "     gmean_squared_max_prob_label true_label  \n",
       "1888                      unknown    unknown  \n",
       "1009                          off        yes  \n",
       "721                       silence    unknown  \n",
       "372                            no         no  \n",
       "1974                      silence         on  \n",
       "1497                      unknown    unknown  \n",
       "2232                      unknown    unknown  \n",
       "3175                          yes        yes  \n",
       "2486                           no         up  \n",
       "2050                      unknown    unknown  \n",
       "918                       silence       down  \n",
       "1194                      unknown    unknown  \n",
       "3159                      silence    unknown  \n",
       "1523                      unknown    unknown  \n",
       "2364                      unknown    unknown  \n",
       "2162                      unknown      right  \n",
       "1177                          off        off  \n",
       "90                          right      right  \n",
       "578                       unknown    unknown  \n",
       "3115                      unknown    unknown  \n",
       "2523                           no         go  \n",
       "3169                           no         no  \n",
       "1205                      unknown    unknown  \n",
       "1143                      unknown    unknown  "
      ]
     },
     "execution_count": 38,
     "metadata": {},
     "output_type": "execute_result"
    }
   ],
   "source": [
    "common_valid[(common_valid.res26_max_prob_label == common_valid.true_label) &\n",
    "             (common_valid.res15_max_prob_label != common_valid.true_label)][ensemble.columns]"
   ]
  },
  {
   "cell_type": "code",
   "execution_count": 39,
   "metadata": {},
   "outputs": [
    {
     "data": {
      "text/plain": [
       "(26, 103)"
      ]
     },
     "execution_count": 39,
     "metadata": {},
     "output_type": "execute_result"
    }
   ],
   "source": [
    "common_valid[(common_valid.res8_max_prob_label == common_valid.true_label) &\n",
    "             (common_valid.res15_max_prob_label != common_valid.true_label)].shape"
   ]
  },
  {
   "cell_type": "code",
   "execution_count": 40,
   "metadata": {},
   "outputs": [
    {
     "data": {
      "text/html": [
       "<div>\n",
       "<style>\n",
       "    .dataframe thead tr:only-child th {\n",
       "        text-align: right;\n",
       "    }\n",
       "\n",
       "    .dataframe thead th {\n",
       "        text-align: left;\n",
       "    }\n",
       "\n",
       "    .dataframe tbody tr th {\n",
       "        vertical-align: top;\n",
       "    }\n",
       "</style>\n",
       "<table border=\"1\" class=\"dataframe\">\n",
       "  <thead>\n",
       "    <tr style=\"text-align: right;\">\n",
       "      <th></th>\n",
       "      <th>res15_max_prob_label</th>\n",
       "      <th>gmean_max_prob_label</th>\n",
       "      <th>gmean_squared_ex_res_fifthteen_max_prob_label</th>\n",
       "      <th>mean_max_prob_label</th>\n",
       "      <th>gmean_squared_max_prob_label</th>\n",
       "      <th>true_label</th>\n",
       "    </tr>\n",
       "  </thead>\n",
       "  <tbody>\n",
       "    <tr>\n",
       "      <th>782</th>\n",
       "      <td>stop</td>\n",
       "      <td>unknown</td>\n",
       "      <td>unknown</td>\n",
       "      <td>right</td>\n",
       "      <td>unknown</td>\n",
       "      <td>unknown</td>\n",
       "    </tr>\n",
       "    <tr>\n",
       "      <th>2673</th>\n",
       "      <td>unknown</td>\n",
       "      <td>left</td>\n",
       "      <td>left</td>\n",
       "      <td>right</td>\n",
       "      <td>left</td>\n",
       "      <td>right</td>\n",
       "    </tr>\n",
       "    <tr>\n",
       "      <th>2835</th>\n",
       "      <td>yes</td>\n",
       "      <td>no</td>\n",
       "      <td>no</td>\n",
       "      <td>no</td>\n",
       "      <td>no</td>\n",
       "      <td>unknown</td>\n",
       "    </tr>\n",
       "    <tr>\n",
       "      <th>1128</th>\n",
       "      <td>silence</td>\n",
       "      <td>left</td>\n",
       "      <td>left</td>\n",
       "      <td>unknown</td>\n",
       "      <td>left</td>\n",
       "      <td>unknown</td>\n",
       "    </tr>\n",
       "    <tr>\n",
       "      <th>1888</th>\n",
       "      <td>go</td>\n",
       "      <td>unknown</td>\n",
       "      <td>unknown</td>\n",
       "      <td>unknown</td>\n",
       "      <td>unknown</td>\n",
       "      <td>unknown</td>\n",
       "    </tr>\n",
       "    <tr>\n",
       "      <th>1442</th>\n",
       "      <td>off</td>\n",
       "      <td>up</td>\n",
       "      <td>up</td>\n",
       "      <td>up</td>\n",
       "      <td>up</td>\n",
       "      <td>up</td>\n",
       "    </tr>\n",
       "    <tr>\n",
       "      <th>3189</th>\n",
       "      <td>unknown</td>\n",
       "      <td>go</td>\n",
       "      <td>go</td>\n",
       "      <td>yes</td>\n",
       "      <td>go</td>\n",
       "      <td>go</td>\n",
       "    </tr>\n",
       "    <tr>\n",
       "      <th>2526</th>\n",
       "      <td>silence</td>\n",
       "      <td>off</td>\n",
       "      <td>off</td>\n",
       "      <td>off</td>\n",
       "      <td>off</td>\n",
       "      <td>unknown</td>\n",
       "    </tr>\n",
       "    <tr>\n",
       "      <th>3095</th>\n",
       "      <td>stop</td>\n",
       "      <td>unknown</td>\n",
       "      <td>unknown</td>\n",
       "      <td>unknown</td>\n",
       "      <td>unknown</td>\n",
       "      <td>unknown</td>\n",
       "    </tr>\n",
       "    <tr>\n",
       "      <th>1385</th>\n",
       "      <td>silence</td>\n",
       "      <td>unknown</td>\n",
       "      <td>unknown</td>\n",
       "      <td>down</td>\n",
       "      <td>unknown</td>\n",
       "      <td>down</td>\n",
       "    </tr>\n",
       "    <tr>\n",
       "      <th>1063</th>\n",
       "      <td>left</td>\n",
       "      <td>up</td>\n",
       "      <td>up</td>\n",
       "      <td>up</td>\n",
       "      <td>up</td>\n",
       "      <td>unknown</td>\n",
       "    </tr>\n",
       "    <tr>\n",
       "      <th>1497</th>\n",
       "      <td>yes</td>\n",
       "      <td>unknown</td>\n",
       "      <td>unknown</td>\n",
       "      <td>unknown</td>\n",
       "      <td>unknown</td>\n",
       "      <td>unknown</td>\n",
       "    </tr>\n",
       "    <tr>\n",
       "      <th>39</th>\n",
       "      <td>stop</td>\n",
       "      <td>unknown</td>\n",
       "      <td>unknown</td>\n",
       "      <td>unknown</td>\n",
       "      <td>unknown</td>\n",
       "      <td>unknown</td>\n",
       "    </tr>\n",
       "    <tr>\n",
       "      <th>1867</th>\n",
       "      <td>silence</td>\n",
       "      <td>unknown</td>\n",
       "      <td>up</td>\n",
       "      <td>up</td>\n",
       "      <td>unknown</td>\n",
       "      <td>unknown</td>\n",
       "    </tr>\n",
       "    <tr>\n",
       "      <th>2050</th>\n",
       "      <td>up</td>\n",
       "      <td>unknown</td>\n",
       "      <td>unknown</td>\n",
       "      <td>unknown</td>\n",
       "      <td>unknown</td>\n",
       "      <td>unknown</td>\n",
       "    </tr>\n",
       "    <tr>\n",
       "      <th>2091</th>\n",
       "      <td>up</td>\n",
       "      <td>unknown</td>\n",
       "      <td>unknown</td>\n",
       "      <td>yes</td>\n",
       "      <td>unknown</td>\n",
       "      <td>unknown</td>\n",
       "    </tr>\n",
       "    <tr>\n",
       "      <th>2364</th>\n",
       "      <td>silence</td>\n",
       "      <td>unknown</td>\n",
       "      <td>unknown</td>\n",
       "      <td>unknown</td>\n",
       "      <td>unknown</td>\n",
       "      <td>unknown</td>\n",
       "    </tr>\n",
       "    <tr>\n",
       "      <th>2343</th>\n",
       "      <td>down</td>\n",
       "      <td>no</td>\n",
       "      <td>no</td>\n",
       "      <td>no</td>\n",
       "      <td>no</td>\n",
       "      <td>no</td>\n",
       "    </tr>\n",
       "    <tr>\n",
       "      <th>1878</th>\n",
       "      <td>up</td>\n",
       "      <td>silence</td>\n",
       "      <td>silence</td>\n",
       "      <td>silence</td>\n",
       "      <td>silence</td>\n",
       "      <td>no</td>\n",
       "    </tr>\n",
       "    <tr>\n",
       "      <th>298</th>\n",
       "      <td>stop</td>\n",
       "      <td>left</td>\n",
       "      <td>left</td>\n",
       "      <td>yes</td>\n",
       "      <td>left</td>\n",
       "      <td>yes</td>\n",
       "    </tr>\n",
       "    <tr>\n",
       "      <th>1243</th>\n",
       "      <td>silence</td>\n",
       "      <td>up</td>\n",
       "      <td>up</td>\n",
       "      <td>up</td>\n",
       "      <td>up</td>\n",
       "      <td>up</td>\n",
       "    </tr>\n",
       "    <tr>\n",
       "      <th>1218</th>\n",
       "      <td>yes</td>\n",
       "      <td>unknown</td>\n",
       "      <td>unknown</td>\n",
       "      <td>unknown</td>\n",
       "      <td>unknown</td>\n",
       "      <td>unknown</td>\n",
       "    </tr>\n",
       "    <tr>\n",
       "      <th>411</th>\n",
       "      <td>left</td>\n",
       "      <td>unknown</td>\n",
       "      <td>unknown</td>\n",
       "      <td>unknown</td>\n",
       "      <td>unknown</td>\n",
       "      <td>unknown</td>\n",
       "    </tr>\n",
       "    <tr>\n",
       "      <th>2939</th>\n",
       "      <td>silence</td>\n",
       "      <td>unknown</td>\n",
       "      <td>unknown</td>\n",
       "      <td>go</td>\n",
       "      <td>unknown</td>\n",
       "      <td>unknown</td>\n",
       "    </tr>\n",
       "    <tr>\n",
       "      <th>3169</th>\n",
       "      <td>up</td>\n",
       "      <td>no</td>\n",
       "      <td>no</td>\n",
       "      <td>no</td>\n",
       "      <td>no</td>\n",
       "      <td>no</td>\n",
       "    </tr>\n",
       "    <tr>\n",
       "      <th>1079</th>\n",
       "      <td>silence</td>\n",
       "      <td>stop</td>\n",
       "      <td>unknown</td>\n",
       "      <td>stop</td>\n",
       "      <td>stop</td>\n",
       "      <td>stop</td>\n",
       "    </tr>\n",
       "  </tbody>\n",
       "</table>\n",
       "</div>"
      ],
      "text/plain": [
       "     res15_max_prob_label gmean_max_prob_label  \\\n",
       "782                  stop              unknown   \n",
       "2673              unknown                 left   \n",
       "2835                  yes                   no   \n",
       "1128              silence                 left   \n",
       "1888                   go              unknown   \n",
       "1442                  off                   up   \n",
       "3189              unknown                   go   \n",
       "2526              silence                  off   \n",
       "3095                 stop              unknown   \n",
       "1385              silence              unknown   \n",
       "1063                 left                   up   \n",
       "1497                  yes              unknown   \n",
       "39                   stop              unknown   \n",
       "1867              silence              unknown   \n",
       "2050                   up              unknown   \n",
       "2091                   up              unknown   \n",
       "2364              silence              unknown   \n",
       "2343                 down                   no   \n",
       "1878                   up              silence   \n",
       "298                  stop                 left   \n",
       "1243              silence                   up   \n",
       "1218                  yes              unknown   \n",
       "411                  left              unknown   \n",
       "2939              silence              unknown   \n",
       "3169                   up                   no   \n",
       "1079              silence                 stop   \n",
       "\n",
       "     gmean_squared_ex_res_fifthteen_max_prob_label mean_max_prob_label  \\\n",
       "782                                        unknown               right   \n",
       "2673                                          left               right   \n",
       "2835                                            no                  no   \n",
       "1128                                          left             unknown   \n",
       "1888                                       unknown             unknown   \n",
       "1442                                            up                  up   \n",
       "3189                                            go                 yes   \n",
       "2526                                           off                 off   \n",
       "3095                                       unknown             unknown   \n",
       "1385                                       unknown                down   \n",
       "1063                                            up                  up   \n",
       "1497                                       unknown             unknown   \n",
       "39                                         unknown             unknown   \n",
       "1867                                            up                  up   \n",
       "2050                                       unknown             unknown   \n",
       "2091                                       unknown                 yes   \n",
       "2364                                       unknown             unknown   \n",
       "2343                                            no                  no   \n",
       "1878                                       silence             silence   \n",
       "298                                           left                 yes   \n",
       "1243                                            up                  up   \n",
       "1218                                       unknown             unknown   \n",
       "411                                        unknown             unknown   \n",
       "2939                                       unknown                  go   \n",
       "3169                                            no                  no   \n",
       "1079                                       unknown                stop   \n",
       "\n",
       "     gmean_squared_max_prob_label true_label  \n",
       "782                       unknown    unknown  \n",
       "2673                         left      right  \n",
       "2835                           no    unknown  \n",
       "1128                         left    unknown  \n",
       "1888                      unknown    unknown  \n",
       "1442                           up         up  \n",
       "3189                           go         go  \n",
       "2526                          off    unknown  \n",
       "3095                      unknown    unknown  \n",
       "1385                      unknown       down  \n",
       "1063                           up    unknown  \n",
       "1497                      unknown    unknown  \n",
       "39                        unknown    unknown  \n",
       "1867                      unknown    unknown  \n",
       "2050                      unknown    unknown  \n",
       "2091                      unknown    unknown  \n",
       "2364                      unknown    unknown  \n",
       "2343                           no         no  \n",
       "1878                      silence         no  \n",
       "298                          left        yes  \n",
       "1243                           up         up  \n",
       "1218                      unknown    unknown  \n",
       "411                       unknown    unknown  \n",
       "2939                      unknown    unknown  \n",
       "3169                           no         no  \n",
       "1079                         stop       stop  "
      ]
     },
     "execution_count": 40,
     "metadata": {},
     "output_type": "execute_result"
    }
   ],
   "source": [
    "common_valid[((common_valid.res8_max_prob_label == common_valid.true_label) |\n",
    "             (common_valid.res15_max_prob_label == common_valid.true_label)) &\n",
    "             (common_valid.res15_max_prob_label != common_valid.true_label)][ensemble.columns]"
   ]
  },
  {
   "cell_type": "code",
   "execution_count": 41,
   "metadata": {},
   "outputs": [
    {
     "data": {
      "text/plain": [
       "(3208, 103)"
      ]
     },
     "execution_count": 41,
     "metadata": {},
     "output_type": "execute_result"
    }
   ],
   "source": [
    "common_valid.shape"
   ]
  },
  {
   "cell_type": "code",
   "execution_count": 42,
   "metadata": {},
   "outputs": [
    {
     "name": "stdout",
     "output_type": "stream",
     "text": [
      "0.9021197007481296\n",
      "0.9102244389027432\n"
     ]
    }
   ],
   "source": [
    "# res15 дает 2894 из 3208\n",
    "print(2894 / 3208)\n",
    "print((2894 + 26) / 3208)"
   ]
  },
  {
   "cell_type": "markdown",
   "metadata": {},
   "source": [
    "негусто, но что-то"
   ]
  },
  {
   "cell_type": "code",
   "execution_count": null,
   "metadata": {},
   "outputs": [],
   "source": []
  },
  {
   "cell_type": "code",
   "execution_count": null,
   "metadata": {},
   "outputs": [],
   "source": []
  },
  {
   "cell_type": "code",
   "execution_count": 91,
   "metadata": {},
   "outputs": [],
   "source": [
    "res15 = pd.read_csv('../probs_subs/mix_model_res15.txt')\n",
    "\n",
    "res26 = pd.read_csv('../probs_subs/mix_model_res26.txt')\n",
    "\n",
    "res8 = pd.read_csv('../probs_subs/mix_model_res8.txt')"
   ]
  },
  {
   "cell_type": "code",
   "execution_count": 92,
   "metadata": {},
   "outputs": [],
   "source": [
    "res15.sort_values(by='fname', inplace=True)\n",
    "res26.sort_values(by='fname', inplace=True)\n",
    "res8.sort_values(by='fname', inplace=True)\n",
    "\n",
    "prob_columns = [col for col in res15.columns if 'prob' in col]\n",
    "\n",
    "res15[prob_columns] = res15[prob_columns].apply(softmax)\n",
    "res26[prob_columns] = res26[prob_columns].apply(softmax)\n",
    "res8[prob_columns] = res8[prob_columns].apply(softmax)"
   ]
  },
  {
   "cell_type": "code",
   "execution_count": 93,
   "metadata": {},
   "outputs": [
    {
     "name": "stderr",
     "output_type": "stream",
     "text": [
      "/home/egor/tensorflow/lib/python3.5/site-packages/ipykernel_launcher.py:1: FutureWarning: currently extract(expand=None) means expand=False (return Index/Series/DataFrame) but in a future version of pandas this will be changed to expand=True (return DataFrame)\n",
      "  \"\"\"Entry point for launching an IPython kernel.\n",
      "/home/egor/tensorflow/lib/python3.5/site-packages/ipykernel_launcher.py:2: FutureWarning: currently extract(expand=None) means expand=False (return Index/Series/DataFrame) but in a future version of pandas this will be changed to expand=True (return DataFrame)\n",
      "  \n",
      "/home/egor/tensorflow/lib/python3.5/site-packages/ipykernel_launcher.py:3: FutureWarning: currently extract(expand=None) means expand=False (return Index/Series/DataFrame) but in a future version of pandas this will be changed to expand=True (return DataFrame)\n",
      "  This is separate from the ipykernel package so we can avoid doing imports until\n"
     ]
    }
   ],
   "source": [
    "res26['max_prob'] = res26[prob_columns].idxmax(axis=1).str.extract('(\\d+)').astype(int)\n",
    "res8['max_prob'] = res8[prob_columns].idxmax(axis=1).str.extract('(\\d+)').astype(int)\n",
    "res15['max_prob'] = res15[prob_columns].idxmax(axis=1).str.extract('(\\d+)').astype(int)"
   ]
  },
  {
   "cell_type": "code",
   "execution_count": 94,
   "metadata": {},
   "outputs": [],
   "source": [
    "res15.columns = ['res15_' + col for col in res15.columns]\n",
    "res8.columns = ['res8_' + col for col in res8.columns]\n",
    "res26.columns = ['res26_' + col for col in res26.columns]\n",
    "\n",
    "\n",
    "common_test = pd.concat([res8, res26, res15], axis=1)"
   ]
  },
  {
   "cell_type": "code",
   "execution_count": 95,
   "metadata": {},
   "outputs": [],
   "source": [
    "for prob in range(12):\n",
    "    gmean = (common_test['res8_prob_' + str(prob)] * \\\n",
    "                                         common_test['res26_prob_' + str(prob)] * \\\n",
    "                                         common_test['res15_prob_' + str(prob)])**(1/3)\n",
    "    common_test['gmean_' + str(prob)] = gmean\n",
    "\n",
    "# common_test['gmean_max_prob_label'] = common_test[[col for col in common_test.columns if 'gmean' in col]] \\\n",
    "#                                                                                 .idxmax(axis=1) \\\n",
    "#                                                                                 .str.extract('(\\d+)') \\\n",
    "#                                                                                 .astype(int) \\\n",
    "#                                                                                 .map(label2word)"
   ]
  },
  {
   "cell_type": "code",
   "execution_count": 96,
   "metadata": {},
   "outputs": [],
   "source": [
    "for prob in range(12):\n",
    "    gmean = (common_test['res8_prob_' + str(prob)]**2 * \\\n",
    "                                         common_test['res26_prob_' + str(prob)]**2 * \\\n",
    "                                         common_test['res15_prob_' + str(prob)]**2)**(1/3)\n",
    "    common_test['gmean_squared' + str(prob)] = gmean\n",
    "\n",
    "# common_test['gmean_squared_max_prob_label'] = common_test[[col for col in common_test.columns if 'gmean_squared' in col]] \\\n",
    "#                                                                                 .idxmax(axis=1) \\\n",
    "#                                                                                 .str.extract('(\\d+)') \\\n",
    "#                                                                                 .astype(int) \\\n",
    "#                                                                                 .map(label2word)"
   ]
  },
  {
   "cell_type": "code",
   "execution_count": 97,
   "metadata": {},
   "outputs": [],
   "source": [
    "for prob in range(12):\n",
    "    gmean = (common_test['res8_prob_' + str(prob)]**2 * \\\n",
    "                                         common_test['res26_prob_' + str(prob)]**2 * \\\n",
    "                                         common_test['res15_prob_' + str(prob)])**(1/3)\n",
    "    common_test['gmean_squared_ex_res_fifthteen' + str(prob)] = gmean\n",
    "\n",
    "# common_test['gmean_squared_ex_res_fifthteen_max_prob_label'] = common_test[[col for col in common_test.columns if 'gmean_squared_ex_res_fifthteen' in col]] \\\n",
    "#                                                                                 .idxmax(axis=1) \\\n",
    "#                                                                                 .str.extract('(\\d+)') \\\n",
    "#                                                                                 .astype(int) \\\n",
    "#                                                                                 .map(label2word)"
   ]
  },
  {
   "cell_type": "code",
   "execution_count": 98,
   "metadata": {},
   "outputs": [],
   "source": [
    "for prob in range(12):\n",
    "    mean = (common_test['res8_prob_' + str(prob)] + \\\n",
    "                                         common_test['res26_prob_' + str(prob)] + \\\n",
    "                                         common_test['res15_prob_' + str(prob)])/3\n",
    "    common_test['usual_mean' + str(prob)] = mean\n",
    "\n",
    "# common_test['mean_max_prob_label'] = common_test[[col for col in common_test.columns if 'usual_mean' in col]] \\\n",
    "#                                                                                 .idxmax(axis=1) \\\n",
    "#                                                                                 .str.extract('(\\d+)') \\\n",
    "#                                                                                 .astype(int) \\\n",
    "#                                                                                 .map(label2word)"
   ]
  },
  {
   "cell_type": "code",
   "execution_count": 99,
   "metadata": {},
   "outputs": [
    {
     "data": {
      "text/plain": [
       "(158538, 90)"
      ]
     },
     "execution_count": 99,
     "metadata": {},
     "output_type": "execute_result"
    }
   ],
   "source": [
    "common_test.shape"
   ]
  },
  {
   "cell_type": "code",
   "execution_count": 101,
   "metadata": {},
   "outputs": [
    {
     "data": {
      "text/plain": [
       "{'true_label'}"
      ]
     },
     "execution_count": 101,
     "metadata": {},
     "output_type": "execute_result"
    }
   ],
   "source": [
    "set(common_valid.columns) - set(common_test.columns) "
   ]
  },
  {
   "cell_type": "code",
   "execution_count": null,
   "metadata": {},
   "outputs": [],
   "source": [
    "clf.fit(common_valid[[col for col in common_valid.columns if 'true_label' not in col]], \n",
    "                         common_valid.true_label)"
   ]
  },
  {
   "cell_type": "code",
   "execution_count": 108,
   "metadata": {},
   "outputs": [],
   "source": [
    "common_test['predictions'] = clf.predict(common_test[[col for col in common_test.columns if \\\n",
    "                                                      ('true_label' not in col) & ('fname' not in col)]])"
   ]
  },
  {
   "cell_type": "code",
   "execution_count": 109,
   "metadata": {},
   "outputs": [
    {
     "data": {
      "text/plain": [
       "0         unknown\n",
       "1              no\n",
       "2         unknown\n",
       "3         unknown\n",
       "4             off\n",
       "5         unknown\n",
       "6         unknown\n",
       "7         unknown\n",
       "8         unknown\n",
       "9         silence\n",
       "10        unknown\n",
       "11        unknown\n",
       "12        unknown\n",
       "13        unknown\n",
       "14        unknown\n",
       "15            off\n",
       "16            off\n",
       "17            off\n",
       "18        unknown\n",
       "19           stop\n",
       "20        unknown\n",
       "21        unknown\n",
       "22           down\n",
       "23        unknown\n",
       "24        unknown\n",
       "25        unknown\n",
       "26        unknown\n",
       "27        unknown\n",
       "28        unknown\n",
       "29        silence\n",
       "           ...   \n",
       "158508    unknown\n",
       "158509    unknown\n",
       "158510       down\n",
       "158511    unknown\n",
       "158512    unknown\n",
       "158513       left\n",
       "158514       stop\n",
       "158515    unknown\n",
       "158516        yes\n",
       "158517         go\n",
       "158518    unknown\n",
       "158519       left\n",
       "158520        off\n",
       "158521    unknown\n",
       "158522    unknown\n",
       "158523    unknown\n",
       "158524    unknown\n",
       "158525    unknown\n",
       "158526         up\n",
       "158527    unknown\n",
       "158528    unknown\n",
       "158529         go\n",
       "158530    unknown\n",
       "158531        yes\n",
       "158532         go\n",
       "158533    unknown\n",
       "158534      right\n",
       "158535    unknown\n",
       "158536        off\n",
       "158537    unknown\n",
       "Name: predictions, Length: 158538, dtype: object"
      ]
     },
     "execution_count": 109,
     "metadata": {},
     "output_type": "execute_result"
    }
   ],
   "source": [
    "common_test['predictions'] = "
   ]
  },
  {
   "cell_type": "code",
   "execution_count": 106,
   "metadata": {},
   "outputs": [
    {
     "data": {
      "text/plain": [
       "Index(['res8_fname', 'res8_prob_0', 'res8_prob_1', 'res8_prob_2',\n",
       "       'res8_prob_3', 'res8_prob_4', 'res8_prob_5', 'res8_prob_6',\n",
       "       'res8_prob_7', 'res8_prob_8', 'res8_prob_9', 'res8_prob_10',\n",
       "       'res8_prob_11', 'res8_max_prob', 'res26_fname', 'res26_prob_0',\n",
       "       'res26_prob_1', 'res26_prob_2', 'res26_prob_3', 'res26_prob_4',\n",
       "       'res26_prob_5', 'res26_prob_6', 'res26_prob_7', 'res26_prob_8',\n",
       "       'res26_prob_9', 'res26_prob_10', 'res26_prob_11', 'res26_max_prob',\n",
       "       'res15_fname', 'res15_prob_0', 'res15_prob_1', 'res15_prob_2',\n",
       "       'res15_prob_3', 'res15_prob_4', 'res15_prob_5', 'res15_prob_6',\n",
       "       'res15_prob_7', 'res15_prob_8', 'res15_prob_9', 'res15_prob_10',\n",
       "       'res15_prob_11', 'res15_max_prob', 'gmean_0', 'gmean_1', 'gmean_2',\n",
       "       'gmean_3', 'gmean_4', 'gmean_5', 'gmean_6', 'gmean_7', 'gmean_8',\n",
       "       'gmean_9', 'gmean_10', 'gmean_11', 'gmean_squared0', 'gmean_squared1',\n",
       "       'gmean_squared2', 'gmean_squared3', 'gmean_squared4', 'gmean_squared5',\n",
       "       'gmean_squared6', 'gmean_squared7', 'gmean_squared8', 'gmean_squared9',\n",
       "       'gmean_squared10', 'gmean_squared11', 'gmean_squared_ex_res_fifthteen0',\n",
       "       'gmean_squared_ex_res_fifthteen1', 'gmean_squared_ex_res_fifthteen2',\n",
       "       'gmean_squared_ex_res_fifthteen3', 'gmean_squared_ex_res_fifthteen4',\n",
       "       'gmean_squared_ex_res_fifthteen5', 'gmean_squared_ex_res_fifthteen6',\n",
       "       'gmean_squared_ex_res_fifthteen7', 'gmean_squared_ex_res_fifthteen8',\n",
       "       'gmean_squared_ex_res_fifthteen9', 'gmean_squared_ex_res_fifthteen10',\n",
       "       'gmean_squared_ex_res_fifthteen11', 'usual_mean0', 'usual_mean1',\n",
       "       'usual_mean2', 'usual_mean3', 'usual_mean4', 'usual_mean5',\n",
       "       'usual_mean6', 'usual_mean7', 'usual_mean8', 'usual_mean9',\n",
       "       'usual_mean10', 'usual_mean11'],\n",
       "      dtype='object')"
      ]
     },
     "execution_count": 106,
     "metadata": {},
     "output_type": "execute_result"
    }
   ],
   "source": [
    "common_test.columns"
   ]
  },
  {
   "cell_type": "code",
   "execution_count": 111,
   "metadata": {},
   "outputs": [],
   "source": [
    "common_test[['res8_fname', 'predictions']].to_csv('rf.csv', index=False)"
   ]
  },
  {
   "cell_type": "code",
   "execution_count": null,
   "metadata": {},
   "outputs": [],
   "source": []
  },
  {
   "cell_type": "code",
   "execution_count": null,
   "metadata": {},
   "outputs": [],
   "source": []
  },
  {
   "cell_type": "code",
   "execution_count": null,
   "metadata": {},
   "outputs": [],
   "source": []
  },
  {
   "cell_type": "code",
   "execution_count": null,
   "metadata": {},
   "outputs": [],
   "source": []
  },
  {
   "cell_type": "code",
   "execution_count": null,
   "metadata": {},
   "outputs": [],
   "source": []
  },
  {
   "cell_type": "code",
   "execution_count": null,
   "metadata": {},
   "outputs": [],
   "source": []
  },
  {
   "cell_type": "code",
   "execution_count": null,
   "metadata": {},
   "outputs": [],
   "source": []
  },
  {
   "cell_type": "code",
   "execution_count": null,
   "metadata": {},
   "outputs": [],
   "source": []
  },
  {
   "cell_type": "code",
   "execution_count": null,
   "metadata": {},
   "outputs": [],
   "source": [
    "res15['label'] = res15[[col for col in res15.columns if 'prob' in col]].idxmax(axis=1).str.extract('(\\d+)').astype(int)"
   ]
  },
  {
   "cell_type": "code",
   "execution_count": null,
   "metadata": {},
   "outputs": [],
   "source": [
    "res15[['fname', 'label']].to_csv('res15.csv', index=False)"
   ]
  },
  {
   "cell_type": "code",
   "execution_count": null,
   "metadata": {},
   "outputs": [],
   "source": [
    "res15['label'] = res15['label'].map(label2word)"
   ]
  },
  {
   "cell_type": "code",
   "execution_count": null,
   "metadata": {},
   "outputs": [],
   "source": [
    "res15['label'] = res15['label'].map(label2word)"
   ]
  },
  {
   "cell_type": "code",
   "execution_count": null,
   "metadata": {},
   "outputs": [],
   "source": [
    "sol085 = pd.read_csv('../submissions/submission_mix_noises_updated.txt')"
   ]
  },
  {
   "cell_type": "code",
   "execution_count": null,
   "metadata": {},
   "outputs": [],
   "source": [
    "sol085.sort_values(by='fname', inplace=True)\n",
    "sol085.head()"
   ]
  },
  {
   "cell_type": "code",
   "execution_count": null,
   "metadata": {},
   "outputs": [],
   "source": [
    "res15.sort_values(by='fname', inplace=True)\n",
    "res15.head()"
   ]
  },
  {
   "cell_type": "code",
   "execution_count": null,
   "metadata": {},
   "outputs": [],
   "source": [
    "res15['085_sol'] = sol085['label']"
   ]
  },
  {
   "cell_type": "code",
   "execution_count": null,
   "metadata": {},
   "outputs": [],
   "source": []
  },
  {
   "cell_type": "code",
   "execution_count": null,
   "metadata": {},
   "outputs": [],
   "source": []
  },
  {
   "cell_type": "code",
   "execution_count": null,
   "metadata": {},
   "outputs": [],
   "source": []
  },
  {
   "cell_type": "code",
   "execution_count": null,
   "metadata": {},
   "outputs": [],
   "source": []
  },
  {
   "cell_type": "code",
   "execution_count": null,
   "metadata": {},
   "outputs": [],
   "source": []
  },
  {
   "cell_type": "code",
   "execution_count": null,
   "metadata": {},
   "outputs": [],
   "source": []
  },
  {
   "cell_type": "code",
   "execution_count": null,
   "metadata": {},
   "outputs": [],
   "source": []
  },
  {
   "cell_type": "code",
   "execution_count": null,
   "metadata": {},
   "outputs": [],
   "source": []
  },
  {
   "cell_type": "code",
   "execution_count": null,
   "metadata": {},
   "outputs": [],
   "source": []
  },
  {
   "cell_type": "code",
   "execution_count": null,
   "metadata": {},
   "outputs": [],
   "source": [
    "res15['sum'] = res15['prob_0'] + res15['prob_1'] + res15['prob_2'] + res15['prob_3'] + res15['prob_4'] + \\\n",
    "               res15['prob_5'] + res15['prob_6'] + res15['prob_7'] + res15['prob_8'] + res15['prob_9'] + \\\n",
    "               res15['prob_10'] + res15['prob_11']"
   ]
  },
  {
   "cell_type": "code",
   "execution_count": null,
   "metadata": {},
   "outputs": [],
   "source": [
    "res15['sum'].describe()"
   ]
  },
  {
   "cell_type": "code",
   "execution_count": null,
   "metadata": {},
   "outputs": [],
   "source": [
    "res26['sum'] = res26['prob_0'] + res26['prob_1'] + res26['prob_2'] + res26['prob_3'] + res26['prob_4'] + \\\n",
    "               res26['prob_5'] + res26['prob_6'] + res26['prob_7'] + res26['prob_8'] + res26['prob_9'] + \\\n",
    "               res26['prob_10'] + res26['prob_11']"
   ]
  },
  {
   "cell_type": "code",
   "execution_count": null,
   "metadata": {},
   "outputs": [],
   "source": [
    "res26['sum'].describe()"
   ]
  },
  {
   "cell_type": "code",
   "execution_count": null,
   "metadata": {},
   "outputs": [],
   "source": [
    "res8['sum'] = res8['prob_0'] + res8['prob_1'] + res8['prob_2'] + res8['prob_3'] + res8['prob_4'] + \\\n",
    "               res8['prob_5'] + res8['prob_6'] + res8['prob_7'] + res8['prob_8'] + res8['prob_9'] + \\\n",
    "               res8['prob_10'] + res8['prob_11']"
   ]
  },
  {
   "cell_type": "code",
   "execution_count": null,
   "metadata": {},
   "outputs": [],
   "source": [
    "res8['sum'].describe()"
   ]
  },
  {
   "cell_type": "code",
   "execution_count": null,
   "metadata": {},
   "outputs": [],
   "source": []
  },
  {
   "cell_type": "code",
   "execution_count": null,
   "metadata": {},
   "outputs": [],
   "source": []
  },
  {
   "cell_type": "code",
   "execution_count": null,
   "metadata": {},
   "outputs": [],
   "source": []
  },
  {
   "cell_type": "code",
   "execution_count": null,
   "metadata": {},
   "outputs": [],
   "source": []
  },
  {
   "cell_type": "code",
   "execution_count": null,
   "metadata": {},
   "outputs": [],
   "source": []
  },
  {
   "cell_type": "code",
   "execution_count": null,
   "metadata": {},
   "outputs": [],
   "source": []
  }
 ],
 "metadata": {
  "kernelspec": {
   "display_name": "Python 3",
   "language": "python",
   "name": "python3"
  },
  "language_info": {
   "codemirror_mode": {
    "name": "ipython",
    "version": 3
   },
   "file_extension": ".py",
   "mimetype": "text/x-python",
   "name": "python",
   "nbconvert_exporter": "python",
   "pygments_lexer": "ipython3",
   "version": "3.5.2"
  }
 },
 "nbformat": 4,
 "nbformat_minor": 2
}
